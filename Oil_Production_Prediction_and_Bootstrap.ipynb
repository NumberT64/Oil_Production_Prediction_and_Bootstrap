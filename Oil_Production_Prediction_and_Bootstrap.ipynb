{
 "cells": [
  {
   "cell_type": "markdown",
   "metadata": {},
   "source": [
    "# Выбор локации для скважины"
   ]
  },
  {
   "cell_type": "markdown",
   "metadata": {},
   "source": [
    "**Цель работы** — определить регион, в котором нефтедобыча будет наиболее прибыльной и наименее рискованной."
   ]
  },
  {
   "cell_type": "markdown",
   "metadata": {},
   "source": [
    "**Задачи исследования**:\n",
    "\n",
    "1) Создать модель, способную прогнозировать количество нефти, находящейся в скважинах.\n",
    "\n",
    "2) На основе результатов моделирования выбрать регион, в котором добыча нефти будет наиболее выгодной и безопасной."
   ]
  },
  {
   "cell_type": "markdown",
   "metadata": {},
   "source": [
    "**План исследования**:\n",
    "\n",
    "1. **Загрузка данных и подготовка данных** \n",
    "    * Загрузить данные и провести предобработку данных. \n",
    "    * Провести исследовательский анализ всех признак и сделать вывод о том как их подготовить к моделированию. \n",
    "    * Провести корреляционный анализ всех таблиц. \n",
    "    * Подготовить пайплайны для модели.\n",
    "    \n",
    "    \n",
    "2. **Обучение и проверка модели**\n",
    "    * Разделить данные на обучающие и валидационные выборки. \n",
    "    * Обучить модели на основании данных. \n",
    "    * Расчитать средние предсказываемые значения запасов нефти в регионе. Расчитать метрику RMSE.\n",
    "    \n",
    "    \n",
    "3. **Подготовка к расчету прибыли**\n",
    "    \n",
    "    * Рассчитать среднее значение запаса нефти в регионе, для того, чтобы добыча нефти приносила прибыль\n",
    "    \n",
    "    \n",
    "4. **Расчет прибыли и рисков**\n",
    "    * Написать функцию вычисления прибыли.\n",
    "    * На основании написанной функции и техники Bootstrap получить распределение прибыли в регионах. \n",
    "    * Выбрать регион с наибольшей средней прибылью и вероятностью убытков не более 2.5 %\n",
    "    \n",
    "\n",
    "5. **Общий вывод**"
   ]
  },
  {
   "cell_type": "markdown",
   "metadata": {},
   "source": [
    "## Загрузка и подготовка данных"
   ]
  },
  {
   "cell_type": "markdown",
   "metadata": {},
   "source": [
    "### Загрузка данных"
   ]
  },
  {
   "cell_type": "markdown",
   "metadata": {},
   "source": [
    "Установим необходимые пакеты"
   ]
  },
  {
   "cell_type": "code",
   "execution_count": 125,
   "metadata": {},
   "outputs": [],
   "source": [
    "!pip install phik -q\n",
    "!pip install -U scikit-learn -q"
   ]
  },
  {
   "cell_type": "markdown",
   "metadata": {},
   "source": [
    "Импортируем необходимые библиотеки"
   ]
  },
  {
   "cell_type": "code",
   "execution_count": 126,
   "metadata": {},
   "outputs": [],
   "source": [
    "import pandas as pd\n",
    "import numpy as np\n",
    "import matplotlib.pyplot as plt\n",
    "import seaborn as sns \n",
    "from phik import phik_matrix\n",
    "from phik.report import plot_correlation_matrix\n",
    "from sklearn.preprocessing import StandardScaler\n",
    "from sklearn.linear_model import LinearRegression\n",
    "from sklearn.model_selection import train_test_split\n",
    "from sklearn.compose import ColumnTransformer\n",
    "from sklearn.pipeline import Pipeline\n",
    "from sklearn.metrics import mean_squared_error, root_mean_squared_error\n",
    "from sklearn.dummy import DummyRegressor\n",
    "from scipy import stats as st"
   ]
  },
  {
   "cell_type": "markdown",
   "metadata": {},
   "source": [
    "Загрузим датасет с данными о месторождении под номером 0."
   ]
  },
  {
   "cell_type": "code",
   "execution_count": 127,
   "metadata": {},
   "outputs": [
    {
     "data": {
      "text/html": [
       "<div>\n",
       "<style scoped>\n",
       "    .dataframe tbody tr th:only-of-type {\n",
       "        vertical-align: middle;\n",
       "    }\n",
       "\n",
       "    .dataframe tbody tr th {\n",
       "        vertical-align: top;\n",
       "    }\n",
       "\n",
       "    .dataframe thead th {\n",
       "        text-align: right;\n",
       "    }\n",
       "</style>\n",
       "<table border=\"1\" class=\"dataframe\">\n",
       "  <thead>\n",
       "    <tr style=\"text-align: right;\">\n",
       "      <th></th>\n",
       "      <th>id</th>\n",
       "      <th>f0</th>\n",
       "      <th>f1</th>\n",
       "      <th>f2</th>\n",
       "      <th>product</th>\n",
       "    </tr>\n",
       "  </thead>\n",
       "  <tbody>\n",
       "    <tr>\n",
       "      <th>0</th>\n",
       "      <td>txEyH</td>\n",
       "      <td>0.705745</td>\n",
       "      <td>-0.497823</td>\n",
       "      <td>1.221170</td>\n",
       "      <td>105.280062</td>\n",
       "    </tr>\n",
       "    <tr>\n",
       "      <th>1</th>\n",
       "      <td>2acmU</td>\n",
       "      <td>1.334711</td>\n",
       "      <td>-0.340164</td>\n",
       "      <td>4.365080</td>\n",
       "      <td>73.037750</td>\n",
       "    </tr>\n",
       "    <tr>\n",
       "      <th>2</th>\n",
       "      <td>409Wp</td>\n",
       "      <td>1.022732</td>\n",
       "      <td>0.151990</td>\n",
       "      <td>1.419926</td>\n",
       "      <td>85.265647</td>\n",
       "    </tr>\n",
       "    <tr>\n",
       "      <th>3</th>\n",
       "      <td>iJLyR</td>\n",
       "      <td>-0.032172</td>\n",
       "      <td>0.139033</td>\n",
       "      <td>2.978566</td>\n",
       "      <td>168.620776</td>\n",
       "    </tr>\n",
       "    <tr>\n",
       "      <th>4</th>\n",
       "      <td>Xdl7t</td>\n",
       "      <td>1.988431</td>\n",
       "      <td>0.155413</td>\n",
       "      <td>4.751769</td>\n",
       "      <td>154.036647</td>\n",
       "    </tr>\n",
       "  </tbody>\n",
       "</table>\n",
       "</div>"
      ],
      "text/plain": [
       "      id        f0        f1        f2     product\n",
       "0  txEyH  0.705745 -0.497823  1.221170  105.280062\n",
       "1  2acmU  1.334711 -0.340164  4.365080   73.037750\n",
       "2  409Wp  1.022732  0.151990  1.419926   85.265647\n",
       "3  iJLyR -0.032172  0.139033  2.978566  168.620776\n",
       "4  Xdl7t  1.988431  0.155413  4.751769  154.036647"
      ]
     },
     "execution_count": 127,
     "metadata": {},
     "output_type": "execute_result"
    }
   ],
   "source": [
    "df_0 = pd.read_csv('data/geo_data_0.csv')\n",
    "df_0.head()"
   ]
  },
  {
   "cell_type": "markdown",
   "metadata": {},
   "source": [
    "Выведем общую ингформацию о датасете"
   ]
  },
  {
   "cell_type": "code",
   "execution_count": 128,
   "metadata": {
    "scrolled": true
   },
   "outputs": [
    {
     "name": "stdout",
     "output_type": "stream",
     "text": [
      "<class 'pandas.core.frame.DataFrame'>\n",
      "RangeIndex: 100000 entries, 0 to 99999\n",
      "Data columns (total 5 columns):\n",
      " #   Column   Non-Null Count   Dtype  \n",
      "---  ------   --------------   -----  \n",
      " 0   id       100000 non-null  object \n",
      " 1   f0       100000 non-null  float64\n",
      " 2   f1       100000 non-null  float64\n",
      " 3   f2       100000 non-null  float64\n",
      " 4   product  100000 non-null  float64\n",
      "dtypes: float64(4), object(1)\n",
      "memory usage: 3.8+ MB\n"
     ]
    }
   ],
   "source": [
    "df_0.info()"
   ]
  },
  {
   "cell_type": "markdown",
   "metadata": {},
   "source": [
    "Загрузим датасет под номером 1."
   ]
  },
  {
   "cell_type": "code",
   "execution_count": 129,
   "metadata": {},
   "outputs": [
    {
     "data": {
      "text/html": [
       "<div>\n",
       "<style scoped>\n",
       "    .dataframe tbody tr th:only-of-type {\n",
       "        vertical-align: middle;\n",
       "    }\n",
       "\n",
       "    .dataframe tbody tr th {\n",
       "        vertical-align: top;\n",
       "    }\n",
       "\n",
       "    .dataframe thead th {\n",
       "        text-align: right;\n",
       "    }\n",
       "</style>\n",
       "<table border=\"1\" class=\"dataframe\">\n",
       "  <thead>\n",
       "    <tr style=\"text-align: right;\">\n",
       "      <th></th>\n",
       "      <th>id</th>\n",
       "      <th>f0</th>\n",
       "      <th>f1</th>\n",
       "      <th>f2</th>\n",
       "      <th>product</th>\n",
       "    </tr>\n",
       "  </thead>\n",
       "  <tbody>\n",
       "    <tr>\n",
       "      <th>0</th>\n",
       "      <td>kBEdx</td>\n",
       "      <td>-15.001348</td>\n",
       "      <td>-8.276000</td>\n",
       "      <td>-0.005876</td>\n",
       "      <td>3.179103</td>\n",
       "    </tr>\n",
       "    <tr>\n",
       "      <th>1</th>\n",
       "      <td>62mP7</td>\n",
       "      <td>14.272088</td>\n",
       "      <td>-3.475083</td>\n",
       "      <td>0.999183</td>\n",
       "      <td>26.953261</td>\n",
       "    </tr>\n",
       "    <tr>\n",
       "      <th>2</th>\n",
       "      <td>vyE1P</td>\n",
       "      <td>6.263187</td>\n",
       "      <td>-5.948386</td>\n",
       "      <td>5.001160</td>\n",
       "      <td>134.766305</td>\n",
       "    </tr>\n",
       "    <tr>\n",
       "      <th>3</th>\n",
       "      <td>KcrkZ</td>\n",
       "      <td>-13.081196</td>\n",
       "      <td>-11.506057</td>\n",
       "      <td>4.999415</td>\n",
       "      <td>137.945408</td>\n",
       "    </tr>\n",
       "    <tr>\n",
       "      <th>4</th>\n",
       "      <td>AHL4O</td>\n",
       "      <td>12.702195</td>\n",
       "      <td>-8.147433</td>\n",
       "      <td>5.004363</td>\n",
       "      <td>134.766305</td>\n",
       "    </tr>\n",
       "  </tbody>\n",
       "</table>\n",
       "</div>"
      ],
      "text/plain": [
       "      id         f0         f1        f2     product\n",
       "0  kBEdx -15.001348  -8.276000 -0.005876    3.179103\n",
       "1  62mP7  14.272088  -3.475083  0.999183   26.953261\n",
       "2  vyE1P   6.263187  -5.948386  5.001160  134.766305\n",
       "3  KcrkZ -13.081196 -11.506057  4.999415  137.945408\n",
       "4  AHL4O  12.702195  -8.147433  5.004363  134.766305"
      ]
     },
     "execution_count": 129,
     "metadata": {},
     "output_type": "execute_result"
    }
   ],
   "source": [
    "df_1 = pd.read_csv('data/geo_data_1.csv')\n",
    "df_1.head()"
   ]
  },
  {
   "cell_type": "markdown",
   "metadata": {},
   "source": [
    "Выведем общую информацию о датасете"
   ]
  },
  {
   "cell_type": "code",
   "execution_count": 130,
   "metadata": {},
   "outputs": [
    {
     "name": "stdout",
     "output_type": "stream",
     "text": [
      "<class 'pandas.core.frame.DataFrame'>\n",
      "RangeIndex: 100000 entries, 0 to 99999\n",
      "Data columns (total 5 columns):\n",
      " #   Column   Non-Null Count   Dtype  \n",
      "---  ------   --------------   -----  \n",
      " 0   id       100000 non-null  object \n",
      " 1   f0       100000 non-null  float64\n",
      " 2   f1       100000 non-null  float64\n",
      " 3   f2       100000 non-null  float64\n",
      " 4   product  100000 non-null  float64\n",
      "dtypes: float64(4), object(1)\n",
      "memory usage: 3.8+ MB\n"
     ]
    }
   ],
   "source": [
    "df_1.info()"
   ]
  },
  {
   "cell_type": "markdown",
   "metadata": {},
   "source": [
    "Загрузим датасет с данными о регионе под номером 2."
   ]
  },
  {
   "cell_type": "code",
   "execution_count": 131,
   "metadata": {},
   "outputs": [
    {
     "data": {
      "text/html": [
       "<div>\n",
       "<style scoped>\n",
       "    .dataframe tbody tr th:only-of-type {\n",
       "        vertical-align: middle;\n",
       "    }\n",
       "\n",
       "    .dataframe tbody tr th {\n",
       "        vertical-align: top;\n",
       "    }\n",
       "\n",
       "    .dataframe thead th {\n",
       "        text-align: right;\n",
       "    }\n",
       "</style>\n",
       "<table border=\"1\" class=\"dataframe\">\n",
       "  <thead>\n",
       "    <tr style=\"text-align: right;\">\n",
       "      <th></th>\n",
       "      <th>id</th>\n",
       "      <th>f0</th>\n",
       "      <th>f1</th>\n",
       "      <th>f2</th>\n",
       "      <th>product</th>\n",
       "    </tr>\n",
       "  </thead>\n",
       "  <tbody>\n",
       "    <tr>\n",
       "      <th>0</th>\n",
       "      <td>fwXo0</td>\n",
       "      <td>-1.146987</td>\n",
       "      <td>0.963328</td>\n",
       "      <td>-0.828965</td>\n",
       "      <td>27.758673</td>\n",
       "    </tr>\n",
       "    <tr>\n",
       "      <th>1</th>\n",
       "      <td>WJtFt</td>\n",
       "      <td>0.262778</td>\n",
       "      <td>0.269839</td>\n",
       "      <td>-2.530187</td>\n",
       "      <td>56.069697</td>\n",
       "    </tr>\n",
       "    <tr>\n",
       "      <th>2</th>\n",
       "      <td>ovLUW</td>\n",
       "      <td>0.194587</td>\n",
       "      <td>0.289035</td>\n",
       "      <td>-5.586433</td>\n",
       "      <td>62.871910</td>\n",
       "    </tr>\n",
       "    <tr>\n",
       "      <th>3</th>\n",
       "      <td>q6cA6</td>\n",
       "      <td>2.236060</td>\n",
       "      <td>-0.553760</td>\n",
       "      <td>0.930038</td>\n",
       "      <td>114.572842</td>\n",
       "    </tr>\n",
       "    <tr>\n",
       "      <th>4</th>\n",
       "      <td>WPMUX</td>\n",
       "      <td>-0.515993</td>\n",
       "      <td>1.716266</td>\n",
       "      <td>5.899011</td>\n",
       "      <td>149.600746</td>\n",
       "    </tr>\n",
       "  </tbody>\n",
       "</table>\n",
       "</div>"
      ],
      "text/plain": [
       "      id        f0        f1        f2     product\n",
       "0  fwXo0 -1.146987  0.963328 -0.828965   27.758673\n",
       "1  WJtFt  0.262778  0.269839 -2.530187   56.069697\n",
       "2  ovLUW  0.194587  0.289035 -5.586433   62.871910\n",
       "3  q6cA6  2.236060 -0.553760  0.930038  114.572842\n",
       "4  WPMUX -0.515993  1.716266  5.899011  149.600746"
      ]
     },
     "execution_count": 131,
     "metadata": {},
     "output_type": "execute_result"
    }
   ],
   "source": [
    "df_2 = pd.read_csv('data/geo_data_2.csv')\n",
    "df_2.head()"
   ]
  },
  {
   "cell_type": "code",
   "execution_count": 132,
   "metadata": {},
   "outputs": [
    {
     "name": "stdout",
     "output_type": "stream",
     "text": [
      "<class 'pandas.core.frame.DataFrame'>\n",
      "RangeIndex: 100000 entries, 0 to 99999\n",
      "Data columns (total 5 columns):\n",
      " #   Column   Non-Null Count   Dtype  \n",
      "---  ------   --------------   -----  \n",
      " 0   id       100000 non-null  object \n",
      " 1   f0       100000 non-null  float64\n",
      " 2   f1       100000 non-null  float64\n",
      " 3   f2       100000 non-null  float64\n",
      " 4   product  100000 non-null  float64\n",
      "dtypes: float64(4), object(1)\n",
      "memory usage: 3.8+ MB\n"
     ]
    }
   ],
   "source": [
    "df_2.info()"
   ]
  },
  {
   "cell_type": "markdown",
   "metadata": {},
   "source": [
    "**Вывод**: Данные корректно загружены"
   ]
  },
  {
   "cell_type": "markdown",
   "metadata": {},
   "source": [
    "### Предобработка данных"
   ]
  },
  {
   "cell_type": "markdown",
   "metadata": {},
   "source": [
    "**Найдём скважены в таблицах с повторяющимися индексами**"
   ]
  },
  {
   "cell_type": "markdown",
   "metadata": {},
   "source": [
    "Найдём дубликаты объёкты с дублирующимися индексами для первой таблицы"
   ]
  },
  {
   "cell_type": "code",
   "execution_count": 133,
   "metadata": {
    "scrolled": true
   },
   "outputs": [
    {
     "name": "stdout",
     "output_type": "stream",
     "text": [
      "В таблице 0: 10 строк с повторяющимися id\n",
      "В таблице 1: 4 строки с повторяющимися id\n",
      "В таблице 2: 4 строки с повторяющимися id\n"
     ]
    }
   ],
   "source": [
    "dup_0 = df_0[df_0['id'].duplicated()]['id']\n",
    "dup_1 = df_1[df_1['id'].duplicated()]['id']\n",
    "dup_2 = df_2[df_2['id'].duplicated()]['id']\n",
    "\n",
    "print(f'В таблице 0: {df_0[\"id\"].duplicated().sum()} строк с повторяющимися id')\n",
    "print(f'В таблице 1: {df_1[\"id\"].duplicated().sum()} строки с повторяющимися id')\n",
    "print(f'В таблице 2: {df_2[\"id\"].duplicated().sum()} строки с повторяющимися id')"
   ]
  },
  {
   "cell_type": "markdown",
   "metadata": {},
   "source": [
    "Выведем все строки с повторяющимися id"
   ]
  },
  {
   "cell_type": "code",
   "execution_count": 134,
   "metadata": {},
   "outputs": [
    {
     "name": "stdout",
     "output_type": "stream",
     "text": [
      "\n",
      "Таблица 0\n"
     ]
    },
    {
     "data": {
      "text/html": [
       "<div>\n",
       "<style scoped>\n",
       "    .dataframe tbody tr th:only-of-type {\n",
       "        vertical-align: middle;\n",
       "    }\n",
       "\n",
       "    .dataframe tbody tr th {\n",
       "        vertical-align: top;\n",
       "    }\n",
       "\n",
       "    .dataframe thead th {\n",
       "        text-align: right;\n",
       "    }\n",
       "</style>\n",
       "<table border=\"1\" class=\"dataframe\">\n",
       "  <thead>\n",
       "    <tr style=\"text-align: right;\">\n",
       "      <th></th>\n",
       "      <th>id</th>\n",
       "      <th>f0</th>\n",
       "      <th>f1</th>\n",
       "      <th>f2</th>\n",
       "      <th>product</th>\n",
       "    </tr>\n",
       "  </thead>\n",
       "  <tbody>\n",
       "    <tr>\n",
       "      <th>931</th>\n",
       "      <td>HZww2</td>\n",
       "      <td>0.755284</td>\n",
       "      <td>0.368511</td>\n",
       "      <td>1.863211</td>\n",
       "      <td>30.681774</td>\n",
       "    </tr>\n",
       "    <tr>\n",
       "      <th>1364</th>\n",
       "      <td>bxg6G</td>\n",
       "      <td>0.411645</td>\n",
       "      <td>0.856830</td>\n",
       "      <td>-3.653440</td>\n",
       "      <td>73.604260</td>\n",
       "    </tr>\n",
       "    <tr>\n",
       "      <th>1949</th>\n",
       "      <td>QcMuo</td>\n",
       "      <td>0.506563</td>\n",
       "      <td>-0.323775</td>\n",
       "      <td>-2.215583</td>\n",
       "      <td>75.496502</td>\n",
       "    </tr>\n",
       "    <tr>\n",
       "      <th>3389</th>\n",
       "      <td>A5aEY</td>\n",
       "      <td>-0.039949</td>\n",
       "      <td>0.156872</td>\n",
       "      <td>0.209861</td>\n",
       "      <td>89.249364</td>\n",
       "    </tr>\n",
       "    <tr>\n",
       "      <th>7530</th>\n",
       "      <td>HZww2</td>\n",
       "      <td>1.061194</td>\n",
       "      <td>-0.373969</td>\n",
       "      <td>10.430210</td>\n",
       "      <td>158.828695</td>\n",
       "    </tr>\n",
       "    <tr>\n",
       "      <th>16633</th>\n",
       "      <td>fiKDv</td>\n",
       "      <td>0.157341</td>\n",
       "      <td>1.028359</td>\n",
       "      <td>5.585586</td>\n",
       "      <td>95.817889</td>\n",
       "    </tr>\n",
       "    <tr>\n",
       "      <th>21426</th>\n",
       "      <td>Tdehs</td>\n",
       "      <td>0.829407</td>\n",
       "      <td>0.298807</td>\n",
       "      <td>-0.049563</td>\n",
       "      <td>96.035308</td>\n",
       "    </tr>\n",
       "    <tr>\n",
       "      <th>41724</th>\n",
       "      <td>bxg6G</td>\n",
       "      <td>-0.823752</td>\n",
       "      <td>0.546319</td>\n",
       "      <td>3.630479</td>\n",
       "      <td>93.007798</td>\n",
       "    </tr>\n",
       "    <tr>\n",
       "      <th>42529</th>\n",
       "      <td>AGS9W</td>\n",
       "      <td>1.454747</td>\n",
       "      <td>-0.479651</td>\n",
       "      <td>0.683380</td>\n",
       "      <td>126.370504</td>\n",
       "    </tr>\n",
       "    <tr>\n",
       "      <th>51970</th>\n",
       "      <td>A5aEY</td>\n",
       "      <td>-0.180335</td>\n",
       "      <td>0.935548</td>\n",
       "      <td>-2.094773</td>\n",
       "      <td>33.020205</td>\n",
       "    </tr>\n",
       "    <tr>\n",
       "      <th>60140</th>\n",
       "      <td>TtcGQ</td>\n",
       "      <td>0.569276</td>\n",
       "      <td>-0.104876</td>\n",
       "      <td>6.440215</td>\n",
       "      <td>85.350186</td>\n",
       "    </tr>\n",
       "    <tr>\n",
       "      <th>63593</th>\n",
       "      <td>QcMuo</td>\n",
       "      <td>0.635635</td>\n",
       "      <td>-0.473422</td>\n",
       "      <td>0.862670</td>\n",
       "      <td>64.578675</td>\n",
       "    </tr>\n",
       "    <tr>\n",
       "      <th>64022</th>\n",
       "      <td>74z30</td>\n",
       "      <td>0.741456</td>\n",
       "      <td>0.459229</td>\n",
       "      <td>5.153109</td>\n",
       "      <td>140.771492</td>\n",
       "    </tr>\n",
       "    <tr>\n",
       "      <th>66136</th>\n",
       "      <td>74z30</td>\n",
       "      <td>1.084962</td>\n",
       "      <td>-0.312358</td>\n",
       "      <td>6.990771</td>\n",
       "      <td>127.643327</td>\n",
       "    </tr>\n",
       "    <tr>\n",
       "      <th>69163</th>\n",
       "      <td>AGS9W</td>\n",
       "      <td>-0.933795</td>\n",
       "      <td>0.116194</td>\n",
       "      <td>-3.655896</td>\n",
       "      <td>19.230453</td>\n",
       "    </tr>\n",
       "    <tr>\n",
       "      <th>75715</th>\n",
       "      <td>Tdehs</td>\n",
       "      <td>0.112079</td>\n",
       "      <td>0.430296</td>\n",
       "      <td>3.218993</td>\n",
       "      <td>60.964018</td>\n",
       "    </tr>\n",
       "    <tr>\n",
       "      <th>89582</th>\n",
       "      <td>bsk9y</td>\n",
       "      <td>0.398908</td>\n",
       "      <td>-0.400253</td>\n",
       "      <td>10.122376</td>\n",
       "      <td>163.433078</td>\n",
       "    </tr>\n",
       "    <tr>\n",
       "      <th>90815</th>\n",
       "      <td>fiKDv</td>\n",
       "      <td>0.049883</td>\n",
       "      <td>0.841313</td>\n",
       "      <td>6.394613</td>\n",
       "      <td>137.346586</td>\n",
       "    </tr>\n",
       "    <tr>\n",
       "      <th>92341</th>\n",
       "      <td>TtcGQ</td>\n",
       "      <td>0.110711</td>\n",
       "      <td>1.022689</td>\n",
       "      <td>0.911381</td>\n",
       "      <td>101.318008</td>\n",
       "    </tr>\n",
       "    <tr>\n",
       "      <th>97785</th>\n",
       "      <td>bsk9y</td>\n",
       "      <td>0.378429</td>\n",
       "      <td>0.005837</td>\n",
       "      <td>0.160827</td>\n",
       "      <td>160.637302</td>\n",
       "    </tr>\n",
       "  </tbody>\n",
       "</table>\n",
       "</div>"
      ],
      "text/plain": [
       "          id        f0        f1         f2     product\n",
       "931    HZww2  0.755284  0.368511   1.863211   30.681774\n",
       "1364   bxg6G  0.411645  0.856830  -3.653440   73.604260\n",
       "1949   QcMuo  0.506563 -0.323775  -2.215583   75.496502\n",
       "3389   A5aEY -0.039949  0.156872   0.209861   89.249364\n",
       "7530   HZww2  1.061194 -0.373969  10.430210  158.828695\n",
       "16633  fiKDv  0.157341  1.028359   5.585586   95.817889\n",
       "21426  Tdehs  0.829407  0.298807  -0.049563   96.035308\n",
       "41724  bxg6G -0.823752  0.546319   3.630479   93.007798\n",
       "42529  AGS9W  1.454747 -0.479651   0.683380  126.370504\n",
       "51970  A5aEY -0.180335  0.935548  -2.094773   33.020205\n",
       "60140  TtcGQ  0.569276 -0.104876   6.440215   85.350186\n",
       "63593  QcMuo  0.635635 -0.473422   0.862670   64.578675\n",
       "64022  74z30  0.741456  0.459229   5.153109  140.771492\n",
       "66136  74z30  1.084962 -0.312358   6.990771  127.643327\n",
       "69163  AGS9W -0.933795  0.116194  -3.655896   19.230453\n",
       "75715  Tdehs  0.112079  0.430296   3.218993   60.964018\n",
       "89582  bsk9y  0.398908 -0.400253  10.122376  163.433078\n",
       "90815  fiKDv  0.049883  0.841313   6.394613  137.346586\n",
       "92341  TtcGQ  0.110711  1.022689   0.911381  101.318008\n",
       "97785  bsk9y  0.378429  0.005837   0.160827  160.637302"
      ]
     },
     "metadata": {},
     "output_type": "display_data"
    },
    {
     "name": "stdout",
     "output_type": "stream",
     "text": [
      "\n",
      "Таблица 1\n"
     ]
    },
    {
     "data": {
      "text/html": [
       "<div>\n",
       "<style scoped>\n",
       "    .dataframe tbody tr th:only-of-type {\n",
       "        vertical-align: middle;\n",
       "    }\n",
       "\n",
       "    .dataframe tbody tr th {\n",
       "        vertical-align: top;\n",
       "    }\n",
       "\n",
       "    .dataframe thead th {\n",
       "        text-align: right;\n",
       "    }\n",
       "</style>\n",
       "<table border=\"1\" class=\"dataframe\">\n",
       "  <thead>\n",
       "    <tr style=\"text-align: right;\">\n",
       "      <th></th>\n",
       "      <th>id</th>\n",
       "      <th>f0</th>\n",
       "      <th>f1</th>\n",
       "      <th>f2</th>\n",
       "      <th>product</th>\n",
       "    </tr>\n",
       "  </thead>\n",
       "  <tbody>\n",
       "    <tr>\n",
       "      <th>1305</th>\n",
       "      <td>LHZR0</td>\n",
       "      <td>11.170835</td>\n",
       "      <td>-1.945066</td>\n",
       "      <td>3.002872</td>\n",
       "      <td>80.859783</td>\n",
       "    </tr>\n",
       "    <tr>\n",
       "      <th>2721</th>\n",
       "      <td>bfPNe</td>\n",
       "      <td>-9.494442</td>\n",
       "      <td>-5.463692</td>\n",
       "      <td>4.006042</td>\n",
       "      <td>110.992147</td>\n",
       "    </tr>\n",
       "    <tr>\n",
       "      <th>5849</th>\n",
       "      <td>5ltQ6</td>\n",
       "      <td>-3.435401</td>\n",
       "      <td>-12.296043</td>\n",
       "      <td>1.999796</td>\n",
       "      <td>57.085625</td>\n",
       "    </tr>\n",
       "    <tr>\n",
       "      <th>41906</th>\n",
       "      <td>LHZR0</td>\n",
       "      <td>-8.989672</td>\n",
       "      <td>-4.286607</td>\n",
       "      <td>2.009139</td>\n",
       "      <td>57.085625</td>\n",
       "    </tr>\n",
       "    <tr>\n",
       "      <th>47591</th>\n",
       "      <td>wt4Uk</td>\n",
       "      <td>-9.091098</td>\n",
       "      <td>-8.109279</td>\n",
       "      <td>-0.002314</td>\n",
       "      <td>3.179103</td>\n",
       "    </tr>\n",
       "    <tr>\n",
       "      <th>82178</th>\n",
       "      <td>bfPNe</td>\n",
       "      <td>-6.202799</td>\n",
       "      <td>-4.820045</td>\n",
       "      <td>2.995107</td>\n",
       "      <td>84.038886</td>\n",
       "    </tr>\n",
       "    <tr>\n",
       "      <th>82873</th>\n",
       "      <td>wt4Uk</td>\n",
       "      <td>10.259972</td>\n",
       "      <td>-9.376355</td>\n",
       "      <td>4.994297</td>\n",
       "      <td>134.766305</td>\n",
       "    </tr>\n",
       "    <tr>\n",
       "      <th>84461</th>\n",
       "      <td>5ltQ6</td>\n",
       "      <td>18.213839</td>\n",
       "      <td>2.191999</td>\n",
       "      <td>3.993869</td>\n",
       "      <td>107.813044</td>\n",
       "    </tr>\n",
       "  </tbody>\n",
       "</table>\n",
       "</div>"
      ],
      "text/plain": [
       "          id         f0         f1        f2     product\n",
       "1305   LHZR0  11.170835  -1.945066  3.002872   80.859783\n",
       "2721   bfPNe  -9.494442  -5.463692  4.006042  110.992147\n",
       "5849   5ltQ6  -3.435401 -12.296043  1.999796   57.085625\n",
       "41906  LHZR0  -8.989672  -4.286607  2.009139   57.085625\n",
       "47591  wt4Uk  -9.091098  -8.109279 -0.002314    3.179103\n",
       "82178  bfPNe  -6.202799  -4.820045  2.995107   84.038886\n",
       "82873  wt4Uk  10.259972  -9.376355  4.994297  134.766305\n",
       "84461  5ltQ6  18.213839   2.191999  3.993869  107.813044"
      ]
     },
     "metadata": {},
     "output_type": "display_data"
    },
    {
     "name": "stdout",
     "output_type": "stream",
     "text": [
      "\n",
      "Таблица 2\n"
     ]
    },
    {
     "data": {
      "text/html": [
       "<div>\n",
       "<style scoped>\n",
       "    .dataframe tbody tr th:only-of-type {\n",
       "        vertical-align: middle;\n",
       "    }\n",
       "\n",
       "    .dataframe tbody tr th {\n",
       "        vertical-align: top;\n",
       "    }\n",
       "\n",
       "    .dataframe thead th {\n",
       "        text-align: right;\n",
       "    }\n",
       "</style>\n",
       "<table border=\"1\" class=\"dataframe\">\n",
       "  <thead>\n",
       "    <tr style=\"text-align: right;\">\n",
       "      <th></th>\n",
       "      <th>id</th>\n",
       "      <th>f0</th>\n",
       "      <th>f1</th>\n",
       "      <th>f2</th>\n",
       "      <th>product</th>\n",
       "    </tr>\n",
       "  </thead>\n",
       "  <tbody>\n",
       "    <tr>\n",
       "      <th>11449</th>\n",
       "      <td>VF7Jo</td>\n",
       "      <td>2.122656</td>\n",
       "      <td>-0.858275</td>\n",
       "      <td>5.746001</td>\n",
       "      <td>181.716817</td>\n",
       "    </tr>\n",
       "    <tr>\n",
       "      <th>28039</th>\n",
       "      <td>xCHr8</td>\n",
       "      <td>1.633027</td>\n",
       "      <td>0.368135</td>\n",
       "      <td>-2.378367</td>\n",
       "      <td>6.120525</td>\n",
       "    </tr>\n",
       "    <tr>\n",
       "      <th>43233</th>\n",
       "      <td>xCHr8</td>\n",
       "      <td>-0.847066</td>\n",
       "      <td>2.101796</td>\n",
       "      <td>5.597130</td>\n",
       "      <td>184.388641</td>\n",
       "    </tr>\n",
       "    <tr>\n",
       "      <th>44378</th>\n",
       "      <td>Vcm5J</td>\n",
       "      <td>-1.229484</td>\n",
       "      <td>-2.439204</td>\n",
       "      <td>1.222909</td>\n",
       "      <td>137.968290</td>\n",
       "    </tr>\n",
       "    <tr>\n",
       "      <th>45404</th>\n",
       "      <td>KUPhW</td>\n",
       "      <td>0.231846</td>\n",
       "      <td>-1.698941</td>\n",
       "      <td>4.990775</td>\n",
       "      <td>11.716299</td>\n",
       "    </tr>\n",
       "    <tr>\n",
       "      <th>49564</th>\n",
       "      <td>VF7Jo</td>\n",
       "      <td>-0.883115</td>\n",
       "      <td>0.560537</td>\n",
       "      <td>0.723601</td>\n",
       "      <td>136.233420</td>\n",
       "    </tr>\n",
       "    <tr>\n",
       "      <th>55967</th>\n",
       "      <td>KUPhW</td>\n",
       "      <td>1.211150</td>\n",
       "      <td>3.176408</td>\n",
       "      <td>5.543540</td>\n",
       "      <td>132.831802</td>\n",
       "    </tr>\n",
       "    <tr>\n",
       "      <th>95090</th>\n",
       "      <td>Vcm5J</td>\n",
       "      <td>2.587702</td>\n",
       "      <td>1.986875</td>\n",
       "      <td>2.482245</td>\n",
       "      <td>92.327572</td>\n",
       "    </tr>\n",
       "  </tbody>\n",
       "</table>\n",
       "</div>"
      ],
      "text/plain": [
       "          id        f0        f1        f2     product\n",
       "11449  VF7Jo  2.122656 -0.858275  5.746001  181.716817\n",
       "28039  xCHr8  1.633027  0.368135 -2.378367    6.120525\n",
       "43233  xCHr8 -0.847066  2.101796  5.597130  184.388641\n",
       "44378  Vcm5J -1.229484 -2.439204  1.222909  137.968290\n",
       "45404  KUPhW  0.231846 -1.698941  4.990775   11.716299\n",
       "49564  VF7Jo -0.883115  0.560537  0.723601  136.233420\n",
       "55967  KUPhW  1.211150  3.176408  5.543540  132.831802\n",
       "95090  Vcm5J  2.587702  1.986875  2.482245   92.327572"
      ]
     },
     "metadata": {},
     "output_type": "display_data"
    }
   ],
   "source": [
    "print('\\nТаблица 0')\n",
    "display(df_0.query('id in @dup_0'))\n",
    "print('\\nТаблица 1')\n",
    "display(df_1.query('id in @dup_1'))\n",
    "print('\\nТаблица 2')\n",
    "display(df_2.query('id in @dup_2'))"
   ]
  },
  {
   "cell_type": "markdown",
   "metadata": {},
   "source": [
    "Скорее всего повторяющиеся данные, находящиеся в начале таблицы устарели. Удалим их и оставим только более поздние наблюдения."
   ]
  },
  {
   "cell_type": "code",
   "execution_count": 135,
   "metadata": {},
   "outputs": [
    {
     "name": "stdout",
     "output_type": "stream",
     "text": [
      "Количество строк в таблице 0 99990\n",
      "Количество строк в таблице 1 99996\n",
      "Количество строк в таблице 2 99996\n"
     ]
    }
   ],
   "source": [
    "print(f'Количество строк в таблице 0 {df_0.drop(df_0[df_0[\"id\"].duplicated(keep=\"last\")].index).shape[0]}')\n",
    "print(f'Количество строк в таблице 1 {df_1.drop(df_1[df_1[\"id\"].duplicated(keep=\"last\")].index).shape[0]}')\n",
    "print(f'Количество строк в таблице 2 {df_2.drop(df_2[df_2[\"id\"].duplicated(keep=\"last\")].index).shape[0]}')"
   ]
  },
  {
   "cell_type": "markdown",
   "metadata": {},
   "source": [
    "Объекты с повторяющимися индексами были удалены."
   ]
  },
  {
   "cell_type": "markdown",
   "metadata": {},
   "source": [
    "**Установка индексов таблиц**"
   ]
  },
  {
   "cell_type": "markdown",
   "metadata": {},
   "source": [
    "Установим в качестве индексов таблицы, столбец с названием 'id'"
   ]
  },
  {
   "cell_type": "code",
   "execution_count": 136,
   "metadata": {},
   "outputs": [
    {
     "data": {
      "text/html": [
       "<div>\n",
       "<style scoped>\n",
       "    .dataframe tbody tr th:only-of-type {\n",
       "        vertical-align: middle;\n",
       "    }\n",
       "\n",
       "    .dataframe tbody tr th {\n",
       "        vertical-align: top;\n",
       "    }\n",
       "\n",
       "    .dataframe thead th {\n",
       "        text-align: right;\n",
       "    }\n",
       "</style>\n",
       "<table border=\"1\" class=\"dataframe\">\n",
       "  <thead>\n",
       "    <tr style=\"text-align: right;\">\n",
       "      <th></th>\n",
       "      <th>f0</th>\n",
       "      <th>f1</th>\n",
       "      <th>f2</th>\n",
       "      <th>product</th>\n",
       "    </tr>\n",
       "    <tr>\n",
       "      <th>id</th>\n",
       "      <th></th>\n",
       "      <th></th>\n",
       "      <th></th>\n",
       "      <th></th>\n",
       "    </tr>\n",
       "  </thead>\n",
       "  <tbody>\n",
       "    <tr>\n",
       "      <th>txEyH</th>\n",
       "      <td>0.705745</td>\n",
       "      <td>-0.497823</td>\n",
       "      <td>1.22117</td>\n",
       "      <td>105.280062</td>\n",
       "    </tr>\n",
       "  </tbody>\n",
       "</table>\n",
       "</div>"
      ],
      "text/plain": [
       "             f0        f1       f2     product\n",
       "id                                            \n",
       "txEyH  0.705745 -0.497823  1.22117  105.280062"
      ]
     },
     "execution_count": 136,
     "metadata": {},
     "output_type": "execute_result"
    }
   ],
   "source": [
    "df_0 = df_0.set_index('id')\n",
    "df_0.head(1)"
   ]
  },
  {
   "cell_type": "code",
   "execution_count": 137,
   "metadata": {},
   "outputs": [
    {
     "data": {
      "text/html": [
       "<div>\n",
       "<style scoped>\n",
       "    .dataframe tbody tr th:only-of-type {\n",
       "        vertical-align: middle;\n",
       "    }\n",
       "\n",
       "    .dataframe tbody tr th {\n",
       "        vertical-align: top;\n",
       "    }\n",
       "\n",
       "    .dataframe thead th {\n",
       "        text-align: right;\n",
       "    }\n",
       "</style>\n",
       "<table border=\"1\" class=\"dataframe\">\n",
       "  <thead>\n",
       "    <tr style=\"text-align: right;\">\n",
       "      <th></th>\n",
       "      <th>f0</th>\n",
       "      <th>f1</th>\n",
       "      <th>f2</th>\n",
       "      <th>product</th>\n",
       "    </tr>\n",
       "    <tr>\n",
       "      <th>id</th>\n",
       "      <th></th>\n",
       "      <th></th>\n",
       "      <th></th>\n",
       "      <th></th>\n",
       "    </tr>\n",
       "  </thead>\n",
       "  <tbody>\n",
       "    <tr>\n",
       "      <th>kBEdx</th>\n",
       "      <td>-15.001348</td>\n",
       "      <td>-8.276</td>\n",
       "      <td>-0.005876</td>\n",
       "      <td>3.179103</td>\n",
       "    </tr>\n",
       "  </tbody>\n",
       "</table>\n",
       "</div>"
      ],
      "text/plain": [
       "              f0     f1        f2   product\n",
       "id                                         \n",
       "kBEdx -15.001348 -8.276 -0.005876  3.179103"
      ]
     },
     "execution_count": 137,
     "metadata": {},
     "output_type": "execute_result"
    }
   ],
   "source": [
    "df_1 = df_1.set_index('id')\n",
    "df_1.head(1)"
   ]
  },
  {
   "cell_type": "code",
   "execution_count": 138,
   "metadata": {},
   "outputs": [
    {
     "data": {
      "text/html": [
       "<div>\n",
       "<style scoped>\n",
       "    .dataframe tbody tr th:only-of-type {\n",
       "        vertical-align: middle;\n",
       "    }\n",
       "\n",
       "    .dataframe tbody tr th {\n",
       "        vertical-align: top;\n",
       "    }\n",
       "\n",
       "    .dataframe thead th {\n",
       "        text-align: right;\n",
       "    }\n",
       "</style>\n",
       "<table border=\"1\" class=\"dataframe\">\n",
       "  <thead>\n",
       "    <tr style=\"text-align: right;\">\n",
       "      <th></th>\n",
       "      <th>f0</th>\n",
       "      <th>f1</th>\n",
       "      <th>f2</th>\n",
       "      <th>product</th>\n",
       "    </tr>\n",
       "    <tr>\n",
       "      <th>id</th>\n",
       "      <th></th>\n",
       "      <th></th>\n",
       "      <th></th>\n",
       "      <th></th>\n",
       "    </tr>\n",
       "  </thead>\n",
       "  <tbody>\n",
       "    <tr>\n",
       "      <th>fwXo0</th>\n",
       "      <td>-1.146987</td>\n",
       "      <td>0.963328</td>\n",
       "      <td>-0.828965</td>\n",
       "      <td>27.758673</td>\n",
       "    </tr>\n",
       "  </tbody>\n",
       "</table>\n",
       "</div>"
      ],
      "text/plain": [
       "             f0        f1        f2    product\n",
       "id                                            \n",
       "fwXo0 -1.146987  0.963328 -0.828965  27.758673"
      ]
     },
     "execution_count": 138,
     "metadata": {},
     "output_type": "execute_result"
    }
   ],
   "source": [
    "df_2 = df_2.set_index('id')\n",
    "df_2.head(1)"
   ]
  },
  {
   "cell_type": "markdown",
   "metadata": {},
   "source": [
    "**Поиск дубликатов и пропусков**"
   ]
  },
  {
   "cell_type": "markdown",
   "metadata": {},
   "source": [
    "Посчитаем количество пропусков в таблицах"
   ]
  },
  {
   "cell_type": "code",
   "execution_count": 139,
   "metadata": {},
   "outputs": [
    {
     "data": {
      "text/plain": [
       "f0         0\n",
       "f1         0\n",
       "f2         0\n",
       "product    0\n",
       "dtype: int64"
      ]
     },
     "execution_count": 139,
     "metadata": {},
     "output_type": "execute_result"
    }
   ],
   "source": [
    "df_0.isna().sum()"
   ]
  },
  {
   "cell_type": "code",
   "execution_count": 140,
   "metadata": {},
   "outputs": [
    {
     "data": {
      "text/plain": [
       "f0         0\n",
       "f1         0\n",
       "f2         0\n",
       "product    0\n",
       "dtype: int64"
      ]
     },
     "execution_count": 140,
     "metadata": {},
     "output_type": "execute_result"
    }
   ],
   "source": [
    "df_1.isna().sum()"
   ]
  },
  {
   "cell_type": "code",
   "execution_count": 141,
   "metadata": {},
   "outputs": [
    {
     "data": {
      "text/plain": [
       "f0         0\n",
       "f1         0\n",
       "f2         0\n",
       "product    0\n",
       "dtype: int64"
      ]
     },
     "execution_count": 141,
     "metadata": {},
     "output_type": "execute_result"
    }
   ],
   "source": [
    "df_2.isna().sum()"
   ]
  },
  {
   "cell_type": "markdown",
   "metadata": {},
   "source": [
    "В таблицах отсутствуют пропуски"
   ]
  },
  {
   "cell_type": "markdown",
   "metadata": {},
   "source": [
    "Посчитаем количество дубликатов в таблицах"
   ]
  },
  {
   "cell_type": "code",
   "execution_count": 142,
   "metadata": {},
   "outputs": [
    {
     "data": {
      "text/plain": [
       "0"
      ]
     },
     "execution_count": 142,
     "metadata": {},
     "output_type": "execute_result"
    }
   ],
   "source": [
    "df_0.duplicated().sum()"
   ]
  },
  {
   "cell_type": "code",
   "execution_count": 143,
   "metadata": {},
   "outputs": [
    {
     "data": {
      "text/plain": [
       "0"
      ]
     },
     "execution_count": 143,
     "metadata": {},
     "output_type": "execute_result"
    }
   ],
   "source": [
    "df_1.duplicated().sum()"
   ]
  },
  {
   "cell_type": "code",
   "execution_count": 144,
   "metadata": {},
   "outputs": [
    {
     "data": {
      "text/plain": [
       "0"
      ]
     },
     "execution_count": 144,
     "metadata": {},
     "output_type": "execute_result"
    }
   ],
   "source": [
    "df_2.duplicated().sum()"
   ]
  },
  {
   "cell_type": "markdown",
   "metadata": {},
   "source": [
    "В таблицах отсутствуют дубликаты"
   ]
  },
  {
   "cell_type": "markdown",
   "metadata": {},
   "source": [
    "**Вывод** Данные были предобработаны. Были устранены дубликаты индексов"
   ]
  },
  {
   "cell_type": "markdown",
   "metadata": {},
   "source": [
    "### Исследовательский анализ данных"
   ]
  },
  {
   "cell_type": "markdown",
   "metadata": {},
   "source": [
    "**Исследовательский анализ для региона 0**"
   ]
  },
  {
   "cell_type": "markdown",
   "metadata": {},
   "source": [
    "Все признаки в таблицах являются количественными. Исследуем их распределение с помощью гистограмм"
   ]
  },
  {
   "cell_type": "code",
   "execution_count": 145,
   "metadata": {
    "scrolled": false
   },
   "outputs": [
    {
     "data": {
      "image/png": "[encoded data removed]",
      "text/plain": [
       "<Figure size 2000x1500 with 4 Axes>"
      ]
     },
     "metadata": {},
     "output_type": "display_data"
    }
   ],
   "source": [
    "fig, ax = plt.subplots(2, 2, figsize=(20, 15))\n",
    "\n",
    "sns.histplot(df_0['f0'],bins=40,ax=ax[0,0],color='b')\n",
    "ax[0,0].set_xlabel('Признак f0')\n",
    "ax[0,0].set_ylabel('Количество наблюдений')\n",
    "ax[0,0].set_title('Гистограмма признака f0')\n",
    "plt.subplots_adjust(wspace=0.4, hspace=0.4)\n",
    "\n",
    "sns.histplot(df_0['f1'],bins=40,ax=ax[0,1],color='y')\n",
    "ax[0,1].set_xlabel('Признак f1')\n",
    "ax[0,1].set_ylabel('Количество наблюдений')\n",
    "ax[0,1].set_title('Гистограмма признака f1')\n",
    "plt.subplots_adjust(wspace=0.4, hspace=0.4)\n",
    "\n",
    "sns.histplot(df_0['f2'],bins=40,ax=ax[1,0],color='r')\n",
    "ax[1,0].set_xlabel('Признак f2')\n",
    "ax[1,0].set_ylabel('Количество наблюдений')\n",
    "ax[1,0].set_title('Гистограмма признака f2')\n",
    "plt.subplots_adjust(wspace=0.4, hspace=0.4)\n",
    "\n",
    "sns.histplot(df_0['product'],bins=30,ax=ax[1,1],color='g')\n",
    "ax[1,1].set_xlabel('Объём запасов в скважине, тыс. барл.')\n",
    "ax[1,1].set_ylabel('Количество наблюдений')\n",
    "ax[1,1].set_title('Гистограмма целевого признака')\n",
    "plt.subplots_adjust(wspace=0.4, hspace=0.4)"
   ]
  },
  {
   "cell_type": "markdown",
   "metadata": {},
   "source": [
    "1. Распределние признака f0 - мультимодальное имеет четыре четко выраженных пика, требуется масштабирование\n",
    "1. Распределние признака f1 - мультимодальное имеет три четко выраженных пика, требуется масштабирование\n",
    "1. Распределние признака f2 - унимодальное похожее на нормальное, требуется масштабирование\n",
    "1. Распределние целевого признака - мультимодальное имеет множество выраженных пиков"
   ]
  },
  {
   "cell_type": "markdown",
   "metadata": {},
   "source": [
    "Исследуем матрицу корреляции"
   ]
  },
  {
   "cell_type": "code",
   "execution_count": 146,
   "metadata": {},
   "outputs": [],
   "source": [
    "interval_cols = ['f0','f1','f2','product']"
   ]
  },
  {
   "cell_type": "code",
   "execution_count": 147,
   "metadata": {
    "scrolled": false
   },
   "outputs": [
    {
     "data": {
      "image/png": "[encoded data removed]",
      "text/plain": [
       "<Figure size 700x700 with 2 Axes>"
      ]
     },
     "metadata": {},
     "output_type": "display_data"
    }
   ],
   "source": [
    "phik_overview = phik_matrix(df_0,interval_cols=interval_cols)\n",
    "\n",
    "plot_correlation_matrix( phik_overview.values, x_labels=phik_overview.columns,y_labels=phik_overview.index,\n",
    "                        vmin=0, vmax=1, \n",
    "                        color_map='Greens',\n",
    "                        title=r'Матрица корреляции для таблицы df_0',\n",
    "                        fontsize_factor=1, figsize=(7, 7))"
   ]
  },
  {
   "cell_type": "markdown",
   "metadata": {},
   "source": [
    "Между признаками f0 и f1 наблюдается сильная корреляция. Однако значения коеффициента корреляции недостаточно, для того чтобы это негативно сказывалось на расчетах. Оставим признаки без изменений."
   ]
  },
  {
   "cell_type": "markdown",
   "metadata": {},
   "source": [
    "**Исследовательский анализ для региона 1**"
   ]
  },
  {
   "cell_type": "markdown",
   "metadata": {},
   "source": [
    "Все признаки в таблицах являются количественными. Исследуем их распределение с помощью гистограмм"
   ]
  },
  {
   "cell_type": "code",
   "execution_count": 148,
   "metadata": {
    "scrolled": false
   },
   "outputs": [
    {
     "data": {
      "image/png": "[encoded data removed]",
      "text/plain": [
       "<Figure size 2000x1500 with 4 Axes>"
      ]
     },
     "metadata": {},
     "output_type": "display_data"
    }
   ],
   "source": [
    "fig, ax = plt.subplots(2, 2, figsize=(20, 15))\n",
    "\n",
    "sns.histplot(df_1['f0'],bins=40,ax=ax[0,0],color='b')\n",
    "ax[0,0].set_xlabel('Признак f0')\n",
    "ax[0,0].set_ylabel('Количество наблюдений')\n",
    "ax[0,0].set_title('Гистограмма признака f0')\n",
    "plt.subplots_adjust(wspace=0.4, hspace=0.4)\n",
    "\n",
    "sns.histplot(df_1['f1'],bins=40,ax=ax[0,1],color='y')\n",
    "ax[0,1].set_xlabel('Признак f1')\n",
    "ax[0,1].set_ylabel('Количество наблюдений')\n",
    "ax[0,1].set_title('Гистограмма признака f1')\n",
    "plt.subplots_adjust(wspace=0.4, hspace=0.4)\n",
    "\n",
    "sns.histplot(df_1['f2'],bins=40,ax=ax[1,0],color='r')\n",
    "ax[1,0].set_xlabel('Признак f2')\n",
    "ax[1,0].set_ylabel('Количество наблюдений')\n",
    "ax[1,0].set_title('Гистограмма признака f2')\n",
    "plt.subplots_adjust(wspace=0.4, hspace=0.4)\n",
    "\n",
    "sns.histplot(df_1['product'],bins=30,ax=ax[1,1],color='g')\n",
    "ax[1,1].set_xlabel('Объём запасов в скважине, тыс. барл.')\n",
    "ax[1,1].set_ylabel('Количество наблюдений')\n",
    "ax[1,1].set_title('Гистограмма целевого признака')\n",
    "plt.subplots_adjust(wspace=0.4, hspace=0.4)"
   ]
  },
  {
   "cell_type": "markdown",
   "metadata": {},
   "source": [
    "1. Распределние признака f0 - бимодальное, требуется масштабирование\n",
    "1. Распределние признака f1 - унимодальное похожее на нормальное, требуется масштабирование\n",
    "1. Распределние признака f2 - представляет собой дискретное распределение\n",
    "1. Распределние целевого признака - дискретное распределение"
   ]
  },
  {
   "cell_type": "markdown",
   "metadata": {},
   "source": [
    "Исследуем матрицу корреляции"
   ]
  },
  {
   "cell_type": "code",
   "execution_count": 149,
   "metadata": {
    "scrolled": false
   },
   "outputs": [
    {
     "data": {
      "image/png": "[encoded data removed]",
      "text/plain": [
       "<Figure size 700x700 with 2 Axes>"
      ]
     },
     "metadata": {},
     "output_type": "display_data"
    }
   ],
   "source": [
    "phik_overview = phik_matrix(df_1,interval_cols=interval_cols)\n",
    "\n",
    "plot_correlation_matrix( phik_overview.values, x_labels=phik_overview.columns,y_labels=phik_overview.index,\n",
    "                        vmin=0, vmax=1, \n",
    "                        color_map='Greens',\n",
    "                        title=r'Матрица корреляции для таблицы df_1',\n",
    "                        fontsize_factor=1, figsize=(7, 7))"
   ]
  },
  {
   "cell_type": "markdown",
   "metadata": {},
   "source": [
    "Анализ матрицы корреляции не выявил мультиколлинеарность. Признак f2 демонстрирует сильную корреляцию с целевым признаком."
   ]
  },
  {
   "cell_type": "markdown",
   "metadata": {},
   "source": [
    "**Исследовательский анализ для региона 2**"
   ]
  },
  {
   "cell_type": "markdown",
   "metadata": {},
   "source": [
    "Все признаки в таблицах являются количественными. Исследуем их распределение с помощью гистограмм"
   ]
  },
  {
   "cell_type": "code",
   "execution_count": 150,
   "metadata": {},
   "outputs": [
    {
     "data": {
      "image/png": "[encoded data removed]",
      "text/plain": [
       "<Figure size 2000x1500 with 4 Axes>"
      ]
     },
     "metadata": {},
     "output_type": "display_data"
    }
   ],
   "source": [
    "fig, ax = plt.subplots(2, 2, figsize=(20, 15))\n",
    "\n",
    "sns.histplot(df_2['f0'],bins=40,ax=ax[0,0],color='b')\n",
    "ax[0,0].set_xlabel('Признак f0')\n",
    "ax[0,0].set_ylabel('Количество наблюдений')\n",
    "ax[1,1].set_title('Гистограмма признака f0')\n",
    "plt.subplots_adjust(wspace=0.4, hspace=0.4)\n",
    "\n",
    "sns.histplot(df_2['f1'],bins=40,ax=ax[0,1],color='y')\n",
    "ax[0,1].set_xlabel('Признак f1')\n",
    "ax[0,1].set_ylabel('Количество наблюдений')\n",
    "ax[0\n",
    "   ,1].set_title('Гистограмма признака f1')\n",
    "plt.subplots_adjust(wspace=0.4, hspace=0.4)\n",
    "\n",
    "sns.histplot(df_2['f2'],bins=40,ax=ax[1,0],color='r')\n",
    "ax[1,0].set_xlabel('Признак f2')\n",
    "ax[1,0].set_ylabel('Количество наблюдений')\n",
    "ax[1,0].set_title('Гистограмма признака f2')\n",
    "plt.subplots_adjust(wspace=0.4, hspace=0.4)\n",
    "\n",
    "sns.histplot(df_2['product'],bins=30,ax=ax[1,1],color='g')\n",
    "ax[1,1].set_xlabel('Объём запасов в скважине, тыс. барл.')\n",
    "ax[1,1].set_ylabel('Количество наблюдений')\n",
    "ax[1,1].set_title('Гистограмма целевого признака')\n",
    "plt.subplots_adjust(wspace=0.4, hspace=0.4)"
   ]
  },
  {
   "cell_type": "markdown",
   "metadata": {},
   "source": [
    "1. Распределние признака f0 - унимодальное похожее на нормальное, требуется масштабирование\n",
    "1. Распределние признака f1 - унимодальное похожее на нормальное, требуется масштабирование\n",
    "1. Распределние признака f2 - унимодальное похожее на нормальное, требуется масштабирование\n",
    "1. Распределние целевого признака - мультимодальное имеет множдество выраженных пиков"
   ]
  },
  {
   "cell_type": "markdown",
   "metadata": {},
   "source": [
    "Исследуем матрицу корреляции"
   ]
  },
  {
   "cell_type": "code",
   "execution_count": 151,
   "metadata": {},
   "outputs": [
    {
     "data": {
      "image/png": "[encoded data removed]",
      "text/plain": [
       "<Figure size 700x700 with 2 Axes>"
      ]
     },
     "metadata": {},
     "output_type": "display_data"
    }
   ],
   "source": [
    "phik_overview = phik_matrix(df_2,interval_cols=interval_cols)\n",
    "\n",
    "plot_correlation_matrix( phik_overview.values, x_labels=phik_overview.columns,y_labels=phik_overview.index,\n",
    "                        vmin=0, vmax=1, \n",
    "                        color_map='Greens',\n",
    "                        title=r'Матрица корреляции для таблицы df_2',\n",
    "                        fontsize_factor=1, figsize=(7, 7))"
   ]
  },
  {
   "cell_type": "markdown",
   "metadata": {},
   "source": [
    "Исследовав матрицу корреляции, можно сделать вывод об отсутствии мультиколлинеарности."
   ]
  },
  {
   "cell_type": "markdown",
   "metadata": {},
   "source": [
    "**Вывод**: Был проведен исследовательский и корреляционный анализ признаков таблиц. В ходе анализа не было выявлено никаких выбросов или мультиколлинеарности. "
   ]
  },
  {
   "cell_type": "markdown",
   "metadata": {},
   "source": [
    "### Подготовка пайплайна"
   ]
  },
  {
   "cell_type": "markdown",
   "metadata": {},
   "source": [
    "Подготовим пайплайн для работы с таблицами для регионов 0,1,2"
   ]
  },
  {
   "cell_type": "code",
   "execution_count": 152,
   "metadata": {},
   "outputs": [],
   "source": [
    "num_columns = ['f0','f1','f2']"
   ]
  },
  {
   "cell_type": "markdown",
   "metadata": {},
   "source": [
    "Создадим пайплайн для масштабирования признаков в таблицах 0,1,2"
   ]
  },
  {
   "cell_type": "code",
   "execution_count": 153,
   "metadata": {},
   "outputs": [],
   "source": [
    "data_preprocessor = ColumnTransformer([ ('num', StandardScaler(), num_columns)], \n",
    "                                      remainder='passthrough' )"
   ]
  },
  {
   "cell_type": "markdown",
   "metadata": {},
   "source": [
    "Создадим пайплайн состоящий из предобработки и обучения модели линейной регрессии для работы с данными таблицы 0 "
   ]
  },
  {
   "cell_type": "code",
   "execution_count": 154,
   "metadata": {},
   "outputs": [],
   "source": [
    "pipe = Pipeline([ ('preprocessor', data_preprocessor),\n",
    "                        ('model', LinearRegression())])"
   ]
  },
  {
   "cell_type": "markdown",
   "metadata": {},
   "source": [
    "**Вывод**: Были подготовлены пайплайны для работы с данными"
   ]
  },
  {
   "cell_type": "markdown",
   "metadata": {},
   "source": [
    "### Вывод по разделу"
   ]
  },
  {
   "cell_type": "markdown",
   "metadata": {},
   "source": [
    "В разделе по подготовки данных были проделаны следующие шаги\n",
    "\n",
    "* Данные были загружены и предобработаны. Дубликатов и пропусков не было найдено\n",
    "* Был проведен исследовательский и корреляционный анализ признаков таблиц. В ходе анализа не было выявлено никаких выбросов или мультиколлинеарности.\n",
    "* Были подготовлены пайплайны для дальнейшего моделирования"
   ]
  },
  {
   "cell_type": "markdown",
   "metadata": {},
   "source": [
    "## Обучение и проверка модели"
   ]
  },
  {
   "cell_type": "markdown",
   "metadata": {},
   "source": [
    "### Формирование выборок"
   ]
  },
  {
   "cell_type": "markdown",
   "metadata": {},
   "source": [
    "Выделим из выборок целевой признак"
   ]
  },
  {
   "cell_type": "code",
   "execution_count": 155,
   "metadata": {},
   "outputs": [],
   "source": [
    "y_0 = df_0['product']\n",
    "X_0 = df_0.drop(columns=['product'])\n",
    "y_1 = df_1['product']\n",
    "X_1 = df_1.drop(columns=['product'])\n",
    "y_2 = df_2['product']\n",
    "X_2 = df_2.drop(columns=['product'])"
   ]
  },
  {
   "cell_type": "markdown",
   "metadata": {},
   "source": [
    "Разобьём датасеты на тренировочные и валидационные выборки"
   ]
  },
  {
   "cell_type": "code",
   "execution_count": 156,
   "metadata": {},
   "outputs": [],
   "source": [
    "X_0_train, X_0_valid, y_0_train, y_0_valid = train_test_split(X_0, y_0, test_size=0.25, random_state=42)\n",
    "X_1_train, X_1_valid, y_1_train, y_1_valid = train_test_split(X_1, y_1, test_size=0.25, random_state=42)\n",
    "X_2_train, X_2_valid, y_2_train, y_2_valid = train_test_split(X_2, y_2, test_size=0.25, random_state=42)"
   ]
  },
  {
   "cell_type": "markdown",
   "metadata": {},
   "source": [
    "Данные были разбиты в требуемом отношении"
   ]
  },
  {
   "cell_type": "markdown",
   "metadata": {},
   "source": [
    "### Обучение модели"
   ]
  },
  {
   "cell_type": "markdown",
   "metadata": {},
   "source": [
    "Напишем функцию для обучения модели и подсчета метрики"
   ]
  },
  {
   "cell_type": "code",
   "execution_count": 157,
   "metadata": {},
   "outputs": [],
   "source": [
    "def model_results(X_train, X_valid, y_train, y_valid ):\n",
    "    model = pipe.fit(X_train, y_train)\n",
    "    y_pred = model.predict(X_valid)\n",
    "    print(f'Значение метрики RMSE на валидационной выборке {round(root_mean_squared_error(y_valid, y_pred),2)}')\n",
    "    print(f'Среднее предсказанное значение {round(y_pred.mean(),2)}')\n",
    "    return y_pred"
   ]
  },
  {
   "cell_type": "markdown",
   "metadata": {},
   "source": [
    "Обучим модель линейной регрессии для нулевого региона"
   ]
  },
  {
   "cell_type": "code",
   "execution_count": 158,
   "metadata": {},
   "outputs": [
    {
     "name": "stdout",
     "output_type": "stream",
     "text": [
      "РЕГИОН 0\n",
      "Значение метрики RMSE на валидационной выборке 37.76\n",
      "Среднее предсказанное значение 92.4\n"
     ]
    }
   ],
   "source": [
    "print('РЕГИОН 0')\n",
    "y_0_pred = model_results(X_0_train, X_0_valid, y_0_train, y_0_valid)"
   ]
  },
  {
   "cell_type": "code",
   "execution_count": 159,
   "metadata": {},
   "outputs": [
    {
     "name": "stdout",
     "output_type": "stream",
     "text": [
      "РЕГИОН 1\n",
      "Значение метрики RMSE на валидационной выборке 0.89\n",
      "Среднее предсказанное значение 68.71\n"
     ]
    }
   ],
   "source": [
    "print('РЕГИОН 1')\n",
    "y_1_pred = model_results(X_1_train, X_1_valid, y_1_train, y_1_valid)"
   ]
  },
  {
   "cell_type": "code",
   "execution_count": 160,
   "metadata": {},
   "outputs": [
    {
     "name": "stdout",
     "output_type": "stream",
     "text": [
      "РЕГИОН 2\n",
      "Значение метрики RMSE на валидационной выборке 40.15\n",
      "Среднее предсказанное значение 94.77\n"
     ]
    }
   ],
   "source": [
    "print('РЕГИОН 2')\n",
    "y_2_pred = model_results(X_2_train, X_2_valid, y_2_train, y_2_valid)"
   ]
  },
  {
   "cell_type": "markdown",
   "metadata": {},
   "source": [
    "**Вывод**\n",
    "\n",
    "Полученные значение для нулевого региона:\n",
    "\n",
    "   * Значение метрики RMSE на валидационной выборке 37.76\n",
    "   * Среднее предсказанное значение 92.4\n",
    "\n",
    "Полученные значения для первого региона:\n",
    "\n",
    "   * Значение метрики RMSE на валидационной выборке 0.89\n",
    "   * Среднее предсказанное значение 68.71\n",
    "   \n",
    "Полученные значения для второго региона:\n",
    "\n",
    "   * Значение метрики RMSE на валидационной выборке 40.15\n",
    "   * Среднее предсказанное значение 94.77\n",
    "   \n",
    "В первом регионе зафиксировано наименьшее значение рассматриваемой метрики. Несмотря на более высокие средние показатели в нулевом и втором регионах, первый представляется наиболее перспективным.  "
   ]
  },
  {
   "cell_type": "markdown",
   "metadata": {},
   "source": [
    "### Проверка на адекватность"
   ]
  },
  {
   "cell_type": "markdown",
   "metadata": {},
   "source": [
    "Проведём проверку на адекватность для данных трех регионов. Создадим для этого модель предсказывающую константное значение - среднее значение обучающей выборки"
   ]
  },
  {
   "cell_type": "markdown",
   "metadata": {},
   "source": [
    "Напишем функцию, которая создаёт, обучает модель и считает метрику."
   ]
  },
  {
   "cell_type": "code",
   "execution_count": 161,
   "metadata": {},
   "outputs": [],
   "source": [
    "def model_results(X_train, X_valid, y_train, y_valid ):\n",
    "    model_dum_reg = DummyRegressor(strategy='mean')\n",
    "    model_dum_reg.fit(X_train,y_train)\n",
    "    y_pred = model_dum_reg.predict(X_valid)\n",
    "    print(f'Значение метрики RMSE на валидационной выборке {round(root_mean_squared_error(y_valid,y_pred),2)}') "
   ]
  },
  {
   "cell_type": "code",
   "execution_count": 162,
   "metadata": {},
   "outputs": [
    {
     "name": "stdout",
     "output_type": "stream",
     "text": [
      "РЕГИОН 0\n",
      "Значение метрики RMSE на валидационной выборке 44.28\n"
     ]
    }
   ],
   "source": [
    "print('РЕГИОН 0')\n",
    "model_results(X_0_train, X_0_valid, y_0_train, y_0_valid)"
   ]
  },
  {
   "cell_type": "code",
   "execution_count": 163,
   "metadata": {},
   "outputs": [
    {
     "name": "stdout",
     "output_type": "stream",
     "text": [
      "РЕГИОН 1\n",
      "Значение метрики RMSE на валидационной выборке 45.94\n"
     ]
    }
   ],
   "source": [
    "print('РЕГИОН 1')\n",
    "model_results(X_1_train, X_1_valid, y_1_train, y_1_valid)"
   ]
  },
  {
   "cell_type": "code",
   "execution_count": 164,
   "metadata": {},
   "outputs": [
    {
     "name": "stdout",
     "output_type": "stream",
     "text": [
      "РЕГИОН 2\n",
      "Значение метрики RMSE на валидационной выборке 44.78\n"
     ]
    }
   ],
   "source": [
    "print('РЕГИОН 2')\n",
    "model_results(X_2_train, X_2_valid, y_2_train, y_2_valid)"
   ]
  },
  {
   "cell_type": "markdown",
   "metadata": {},
   "source": [
    "Полученное значение метрики больше чем предсказанное моделями линейной регрессии. Созданые модели предсказывают лучше, чем модель, предсказывающая константное значение"
   ]
  },
  {
   "cell_type": "markdown",
   "metadata": {},
   "source": [
    "**Вывод по проверке на адекватность**: Проверка на адекватность выявила, что модели не случайно предсказывают результат. Наилучший результат показывает модель обученная на данных первого региона "
   ]
  },
  {
   "cell_type": "markdown",
   "metadata": {},
   "source": [
    "## Подготовка к расчёту прибыли"
   ]
  },
  {
   "cell_type": "markdown",
   "metadata": {},
   "source": [
    "Посчитаем объём сырья, необходимый для безубыточной разработки скважен в регионе"
   ]
  },
  {
   "cell_type": "code",
   "execution_count": 165,
   "metadata": {},
   "outputs": [],
   "source": [
    "POINTS_RESEARCH = 200 #Количество разрабатываемых точек в регионе"
   ]
  },
  {
   "cell_type": "code",
   "execution_count": 166,
   "metadata": {},
   "outputs": [],
   "source": [
    "BUDGET = 10_000_000_000 #Бюджет на разработку региона"
   ]
  },
  {
   "cell_type": "code",
   "execution_count": 167,
   "metadata": {},
   "outputs": [],
   "source": [
    "REVENUE_PER_ONE = 450_000 #Доход с тысячи баррелей нефти"
   ]
  },
  {
   "cell_type": "code",
   "execution_count": 168,
   "metadata": {},
   "outputs": [],
   "source": [
    "POINTS_SELECT = 500 #количество точек в выборке"
   ]
  },
  {
   "cell_type": "markdown",
   "metadata": {},
   "source": [
    "Найдём средняя добычу с точки, которая нужна для безубыточной разработки региона"
   ]
  },
  {
   "cell_type": "code",
   "execution_count": 169,
   "metadata": {},
   "outputs": [
    {
     "name": "stdout",
     "output_type": "stream",
     "text": [
      "Необходимая средняя добыча  из скважены для безубыточной разработки: 111.11\n"
     ]
    }
   ],
   "source": [
    "mean_prod = BUDGET / (POINTS_RESEARCH*REVENUE_PER_ONE)\n",
    "print(f'Необходимая средняя добыча  из скважены для безубыточной разработки: {round(mean_prod,2)}')"
   ]
  },
  {
   "cell_type": "markdown",
   "metadata": {},
   "source": [
    "**Вывод**\n",
    "\n",
    "Для того, чтобы регион приносил прибыль, необходимо, чтобы средняя добыча со скважены была более 111.11 тыс. барл. это больше чем средние значения по всем регионам. Это означает, что требуется **отобрать** скважены с высоким ресурсом."
   ]
  },
  {
   "cell_type": "markdown",
   "metadata": {},
   "source": [
    "## Расчёт прибыли и рисков "
   ]
  },
  {
   "cell_type": "markdown",
   "metadata": {},
   "source": [
    "Напишем функцию для расчета прибыли"
   ]
  },
  {
   "cell_type": "code",
   "execution_count": 170,
   "metadata": {},
   "outputs": [],
   "source": [
    "def profit(target, pred, count):\n",
    "    preds_sorted = pred.sort_values(ascending=False) # Сортируем предсказания по убыванию\n",
    "    selected = target[preds_sorted.index][:count] #Выбираем из скважен верхние count\n",
    "    return REVENUE_PER_ONE * selected.sum() - BUDGET #находим прибыль"
   ]
  },
  {
   "cell_type": "markdown",
   "metadata": {},
   "source": [
    "Сбросим значения индексом перед операцией bootstrap"
   ]
  },
  {
   "cell_type": "markdown",
   "metadata": {},
   "source": [
    "Применим технику Bootstrap для того, чтобы получить распределение прибыли"
   ]
  },
  {
   "cell_type": "markdown",
   "metadata": {},
   "source": [
    "Напишем функцию реализующую технику Bootstrap и считающую необходимые характеристики"
   ]
  },
  {
   "cell_type": "code",
   "execution_count": 171,
   "metadata": {},
   "outputs": [],
   "source": [
    "def bootstrap(y_pred,y_valid_):\n",
    "    state = np.random.RandomState(12345)\n",
    "    \n",
    "    values = []\n",
    "    for i in range(1000):\n",
    "        target_subsample = (y_valid_.sample(n=POINTS_SELECT,random_state=state,replace=True))\n",
    "        preds_subsample = pd.Series(y_pred,index=y_valid_.index)[target_subsample.index]\n",
    "        target_subsample = target_subsample.reset_index(drop=True)\n",
    "        preds_subsample = preds_subsample.reset_index(drop=True)\n",
    "        \n",
    "        values.append(profit(target_subsample, preds_subsample, count=POINTS_RESEARCH))\n",
    "   \n",
    "    mean_profit = np.mean(values)\n",
    "    print(f'Среднее значение прибыли = {round(mean_profit / 1_000_000, 2)} млн. руб.')\n",
    "\n",
    "    \n",
    "    quantile_0025 = pd.Series(values).quantile(0.025)\n",
    "    quantile_0975 = pd.Series(values).quantile(0.975)\n",
    "    print(f'95% доверительный интервал для прибыли ({round((quantile_0025 / 1_000_000), 2)} млн. руб. : {round(quantile_0975 / 1_000_000, 2)} млн. руб.)')\n",
    "    \n",
    "    \n",
    "    count_less_than_threshold = np.sum(np.array(values) < 0)\n",
    "    probability = count_less_than_threshold / len(values)\n",
    "    print(f\"Вероятность убытков: {probability * 100:.2f} %\")\n",
    "\n",
    "    #Построим график\n",
    "    plt.figure(figsize=(10, 6))\n",
    "    \n",
    "    #Строим гистограмму\n",
    "    sns.histplot(values, binwidth=50_000_000, kde=True, color='skyblue', stat=\"density\", linewidth=0)\n",
    "    \n",
    "    #Добавляем линию безубыточности\n",
    "    plt.axvline(0, color='red', linestyle='--', label='Безубыточность')\n",
    "    \n",
    "    #Добавляем квантили\n",
    "    plt.axvline(quantile_0025, color='green', linestyle='--', label='2.5% квантиль')\n",
    "    plt.axvline(quantile_0975, color='green', linestyle='--', label='97.5% квантиль')\n",
    "    \n",
    "    #Добавим среднее значение прибыли\n",
    "    plt.axvline(mean_profit, color='orange', linestyle='-', label='Среднее значение прибыли')\n",
    "\n",
    "    \n",
    "    plt.title('Распределение прибыли с доверительным интервалом')\n",
    "    plt.xlabel('Прибыль (руб.)')\n",
    "    plt.ylabel('Плотность')\n",
    "    plt.legend()\n",
    "    plt.xlim(-200_000_000,1_000_000_000) #Устанавливаем фиксированный масштаб по оси Х\n",
    "    \n",
    "    plt.show()"
   ]
  },
  {
   "cell_type": "code",
   "execution_count": 172,
   "metadata": {
    "scrolled": false
   },
   "outputs": [
    {
     "name": "stdout",
     "output_type": "stream",
     "text": [
      "Регион 0\n",
      "Среднее значение прибыли = 406.28 млн. руб.\n",
      "95% доверительный интервал для прибыли (-117.74 млн. руб. : 911.74 млн. руб.)\n",
      "Вероятность убытков: 6.70 %\n"
     ]
    },
    {
     "data": {
      "image/png": "[encoded data removed]",
      "text/plain": [
       "<Figure size 1000x600 with 1 Axes>"
      ]
     },
     "metadata": {},
     "output_type": "display_data"
    }
   ],
   "source": [
    "print('Регион 0')\n",
    "bootstrap(y_0_pred,y_0_valid)"
   ]
  },
  {
   "cell_type": "code",
   "execution_count": 173,
   "metadata": {},
   "outputs": [
    {
     "name": "stdout",
     "output_type": "stream",
     "text": [
      "Регион 1\n",
      "Среднее значение прибыли = 432.62 млн. руб.\n",
      "95% доверительный интервал для прибыли (16.85 млн. руб. : 815.97 млн. руб.)\n",
      "Вероятность убытков: 1.90 %\n"
     ]
    },
    {
     "data": {
      "image/png": "[encoded data removed]",
      "text/plain": [
       "<Figure size 1000x600 with 1 Axes>"
      ]
     },
     "metadata": {},
     "output_type": "display_data"
    }
   ],
   "source": [
    "print('Регион 1')\n",
    "bootstrap(y_1_pred,y_1_valid)"
   ]
  },
  {
   "cell_type": "code",
   "execution_count": 174,
   "metadata": {},
   "outputs": [
    {
     "name": "stdout",
     "output_type": "stream",
     "text": [
      "Регион 2\n",
      "Среднее значение прибыли = 377.36 млн. руб.\n",
      "95% доверительный интервал для прибыли (-170.78 млн. руб. : 901.77 млн. руб.)\n",
      "Вероятность убытков: 7.40 %\n"
     ]
    },
    {
     "data": {
      "image/png": "[encoded data removed]",
      "text/plain": [
       "<Figure size 1000x600 with 1 Axes>"
      ]
     },
     "metadata": {},
     "output_type": "display_data"
    }
   ],
   "source": [
    "print('Регион 2')\n",
    "bootstrap(y_2_pred,y_2_valid)"
   ]
  },
  {
   "cell_type": "markdown",
   "metadata": {},
   "source": [
    "**Вывод**:\n",
    "\n",
    "Наибольшая средняя прибыль отмечается в регионе под номером 1. Также в этом регионе наименьшая вероятность убытков — всего 1.9%, что полностью соответствует установленному требованию о не более 2,5% вероятности потерь. Остальные регионы (под номерами 0 и 2) характеризуются меньшей средней прибылью и более высокой вероятностью убытков.\n",
    "\n",
    "Для разработки скважен предложен регион под номером 1."
   ]
  },
  {
   "cell_type": "markdown",
   "metadata": {},
   "source": [
    "## Общий вывод"
   ]
  },
  {
   "cell_type": "markdown",
   "metadata": {},
   "source": [
    "1. **Загрузка данных и подготовка данных** \n",
    "    * Данные были загружены и предобработаны. Были устранены дубликаты.\n",
    "    * Был проведен исследовательский и корреляционный анализ признаков таблиц. Данные были подготовлены для дальнейшего моделирования\n",
    " \n",
    "    \n",
    "2. **Обучение и проверка модели**\n",
    "\n",
    "* Модель машинного обучения была обучена на данных трёх регионов\n",
    "\n",
    "* В первом регионе зафиксировано самое низкое значение метрики RMSE\n",
    "\n",
    "* Первый регион является наиболее точно предсказывается моделью\n",
    "    \n",
    "    \n",
    "3. **Подготовка к расчету прибыли**\n",
    "    \n",
    "* Чтобы регион приносил прибыль, необходимо, чтобы средняя добыча с одной скважины составляла более 111,11 тысяч баррелей. Это значение превышает средние показатели по всем регионам, что подчеркивает важность неслучайного отбора скважин для достижения прибыли.\n",
    "    \n",
    "    \n",
    "4. **Расчет прибыли и рисков**\n",
    "\n",
    "* Наибольшая средняя прибыль наблюдается в регионе под номером 1. \n",
    "* В регионе 1 наблюдается наименьшая вероятность убытков — всего 1,9%, что соответствует установленному требованию о не более 2,5% вероятности потерь. \n",
    "* Регионы под номерами 0 и 2 имеют меньшую среднюю прибыль и более высокую вероятность убытков.\n",
    "\n",
    "**Для разработки скважин предложен регион под номером 1.**\n",
    "\n",
    "Характеристики выбранного региона:\n",
    "\n",
    "Среднее значение прибыли: 432,62 млн руб.\n",
    "\n",
    "95% доверительный интервал прибыли для региона 1: от 16,85 млн руб. до 815,97 млн руб.\n"
   ]
  }
 ],
 "metadata": {
  "ExecuteTimeLog": [
   {
    "duration": 450,
    "start_time": "2025-02-10T15:57:24.798Z"
   },
   {
    "duration": 170,
    "start_time": "2025-02-10T16:02:48.463Z"
   },
   {
    "duration": 141,
    "start_time": "2025-02-10T16:02:48.971Z"
   },
   {
    "duration": 147,
    "start_time": "2025-02-10T16:02:49.340Z"
   },
   {
    "duration": 163,
    "start_time": "2025-02-10T16:02:58.530Z"
   },
   {
    "duration": 158,
    "start_time": "2025-02-10T16:03:15.058Z"
   },
   {
    "duration": 161,
    "start_time": "2025-02-10T16:03:19.221Z"
   },
   {
    "duration": 50,
    "start_time": "2025-02-11T03:22:15.023Z"
   },
   {
    "duration": 6,
    "start_time": "2025-02-11T03:23:21.775Z"
   },
   {
    "duration": 1335,
    "start_time": "2025-02-11T03:27:13.268Z"
   },
   {
    "duration": 159,
    "start_time": "2025-02-11T03:27:14.604Z"
   },
   {
    "duration": 15,
    "start_time": "2025-02-11T03:27:14.765Z"
   },
   {
    "duration": 134,
    "start_time": "2025-02-11T03:27:14.782Z"
   },
   {
    "duration": 14,
    "start_time": "2025-02-11T03:27:14.917Z"
   },
   {
    "duration": 137,
    "start_time": "2025-02-11T03:27:14.933Z"
   },
   {
    "duration": 15,
    "start_time": "2025-02-11T03:27:15.071Z"
   },
   {
    "duration": 99,
    "start_time": "2025-02-11T03:31:29.950Z"
   },
   {
    "duration": 16,
    "start_time": "2025-02-11T03:31:42.830Z"
   },
   {
    "duration": 17,
    "start_time": "2025-02-11T03:31:50.230Z"
   },
   {
    "duration": 10,
    "start_time": "2025-02-11T03:32:26.857Z"
   },
   {
    "duration": 9,
    "start_time": "2025-02-11T03:32:33.129Z"
   },
   {
    "duration": 9,
    "start_time": "2025-02-11T03:32:38.582Z"
   },
   {
    "duration": 48,
    "start_time": "2025-02-11T03:32:53.774Z"
   },
   {
    "duration": 44,
    "start_time": "2025-02-11T03:33:02.388Z"
   },
   {
    "duration": 9,
    "start_time": "2025-02-11T03:33:31.298Z"
   },
   {
    "duration": 16,
    "start_time": "2025-02-11T03:33:35.184Z"
   },
   {
    "duration": 10,
    "start_time": "2025-02-11T03:33:44.968Z"
   },
   {
    "duration": 11,
    "start_time": "2025-02-11T03:33:46.894Z"
   },
   {
    "duration": 9,
    "start_time": "2025-02-11T03:34:21.489Z"
   },
   {
    "duration": 7,
    "start_time": "2025-02-11T03:34:24.048Z"
   },
   {
    "duration": 9,
    "start_time": "2025-02-11T03:34:37.170Z"
   },
   {
    "duration": 9,
    "start_time": "2025-02-11T03:34:39.268Z"
   },
   {
    "duration": 51,
    "start_time": "2025-02-11T03:34:56.144Z"
   },
   {
    "duration": 35,
    "start_time": "2025-02-11T03:35:04.335Z"
   },
   {
    "duration": 1127,
    "start_time": "2025-02-11T03:35:22.546Z"
   },
   {
    "duration": 159,
    "start_time": "2025-02-11T03:35:23.674Z"
   },
   {
    "duration": 25,
    "start_time": "2025-02-11T03:35:23.834Z"
   },
   {
    "duration": 134,
    "start_time": "2025-02-11T03:35:23.861Z"
   },
   {
    "duration": 15,
    "start_time": "2025-02-11T03:35:23.997Z"
   },
   {
    "duration": 140,
    "start_time": "2025-02-11T03:35:24.013Z"
   },
   {
    "duration": 14,
    "start_time": "2025-02-11T03:35:24.157Z"
   },
   {
    "duration": 8,
    "start_time": "2025-02-11T03:35:24.172Z"
   },
   {
    "duration": 7,
    "start_time": "2025-02-11T03:35:24.182Z"
   },
   {
    "duration": 32,
    "start_time": "2025-02-11T03:35:24.192Z"
   },
   {
    "duration": 38,
    "start_time": "2025-02-11T03:35:24.226Z"
   },
   {
    "duration": 7,
    "start_time": "2025-02-11T03:35:24.265Z"
   },
   {
    "duration": 24,
    "start_time": "2025-02-11T03:35:24.274Z"
   },
   {
    "duration": 8,
    "start_time": "2025-02-11T03:35:24.300Z"
   },
   {
    "duration": 5,
    "start_time": "2025-02-11T03:35:24.310Z"
   },
   {
    "duration": 68,
    "start_time": "2025-02-11T03:35:24.317Z"
   },
   {
    "duration": 105,
    "start_time": "2025-02-11T03:38:02.658Z"
   },
   {
    "duration": 10,
    "start_time": "2025-02-11T03:38:03.031Z"
   },
   {
    "duration": 9,
    "start_time": "2025-02-11T03:38:03.823Z"
   },
   {
    "duration": 1152,
    "start_time": "2025-02-11T03:38:11.827Z"
   },
   {
    "duration": 161,
    "start_time": "2025-02-11T03:38:12.981Z"
   },
   {
    "duration": 15,
    "start_time": "2025-02-11T03:38:13.144Z"
   },
   {
    "duration": 143,
    "start_time": "2025-02-11T03:38:13.161Z"
   },
   {
    "duration": 14,
    "start_time": "2025-02-11T03:38:13.306Z"
   },
   {
    "duration": 142,
    "start_time": "2025-02-11T03:38:13.322Z"
   },
   {
    "duration": 15,
    "start_time": "2025-02-11T03:38:13.465Z"
   },
   {
    "duration": 76,
    "start_time": "2025-02-11T03:38:13.481Z"
   },
   {
    "duration": 0,
    "start_time": "2025-02-11T03:38:13.559Z"
   },
   {
    "duration": 0,
    "start_time": "2025-02-11T03:38:13.560Z"
   },
   {
    "duration": 0,
    "start_time": "2025-02-11T03:38:13.561Z"
   },
   {
    "duration": 0,
    "start_time": "2025-02-11T03:38:13.562Z"
   },
   {
    "duration": 0,
    "start_time": "2025-02-11T03:38:13.563Z"
   },
   {
    "duration": 0,
    "start_time": "2025-02-11T03:38:13.565Z"
   },
   {
    "duration": 0,
    "start_time": "2025-02-11T03:38:13.566Z"
   },
   {
    "duration": 0,
    "start_time": "2025-02-11T03:38:13.567Z"
   },
   {
    "duration": 0,
    "start_time": "2025-02-11T03:38:13.568Z"
   },
   {
    "duration": 0,
    "start_time": "2025-02-11T03:38:13.569Z"
   },
   {
    "duration": 0,
    "start_time": "2025-02-11T03:38:13.570Z"
   },
   {
    "duration": 14,
    "start_time": "2025-02-11T03:38:21.794Z"
   },
   {
    "duration": 14,
    "start_time": "2025-02-11T03:38:21.928Z"
   },
   {
    "duration": 14,
    "start_time": "2025-02-11T03:38:22.058Z"
   },
   {
    "duration": 8,
    "start_time": "2025-02-11T03:38:22.210Z"
   },
   {
    "duration": 32,
    "start_time": "2025-02-11T03:38:22.334Z"
   },
   {
    "duration": 100,
    "start_time": "2025-02-11T03:38:22.498Z"
   },
   {
    "duration": 7,
    "start_time": "2025-02-11T03:38:23.395Z"
   },
   {
    "duration": 25,
    "start_time": "2025-02-11T03:38:23.568Z"
   },
   {
    "duration": 6,
    "start_time": "2025-02-11T03:38:35.412Z"
   },
   {
    "duration": 33,
    "start_time": "2025-02-11T03:38:35.567Z"
   },
   {
    "duration": 6,
    "start_time": "2025-02-11T03:38:35.727Z"
   },
   {
    "duration": 24,
    "start_time": "2025-02-11T03:38:35.876Z"
   },
   {
    "duration": 6,
    "start_time": "2025-02-11T03:38:36.000Z"
   },
   {
    "duration": 32,
    "start_time": "2025-02-11T03:38:36.141Z"
   },
   {
    "duration": 32,
    "start_time": "2025-02-11T03:43:06.822Z"
   },
   {
    "duration": 32,
    "start_time": "2025-02-11T03:43:07.377Z"
   },
   {
    "duration": 23,
    "start_time": "2025-02-11T03:43:08.014Z"
   },
   {
    "duration": 237,
    "start_time": "2025-02-11T03:47:34.056Z"
   },
   {
    "duration": 124,
    "start_time": "2025-02-11T03:51:12.257Z"
   },
   {
    "duration": 112,
    "start_time": "2025-02-11T03:51:27.986Z"
   },
   {
    "duration": 539,
    "start_time": "2025-02-11T03:51:42.622Z"
   },
   {
    "duration": 467,
    "start_time": "2025-02-11T03:51:59.136Z"
   },
   {
    "duration": 6657,
    "start_time": "2025-02-11T03:53:50.217Z"
   },
   {
    "duration": 6932,
    "start_time": "2025-02-11T03:54:24.713Z"
   },
   {
    "duration": 7024,
    "start_time": "2025-02-11T03:54:36.187Z"
   },
   {
    "duration": 7120,
    "start_time": "2025-02-11T03:54:47.117Z"
   },
   {
    "duration": 2023,
    "start_time": "2025-02-11T03:55:07.627Z"
   },
   {
    "duration": 810,
    "start_time": "2025-02-11T03:55:25.160Z"
   },
   {
    "duration": 882,
    "start_time": "2025-02-11T03:55:41.481Z"
   },
   {
    "duration": 1005,
    "start_time": "2025-02-11T03:58:42.602Z"
   },
   {
    "duration": 876,
    "start_time": "2025-02-11T03:59:39.970Z"
   },
   {
    "duration": 833,
    "start_time": "2025-02-11T04:00:17.886Z"
   },
   {
    "duration": 3,
    "start_time": "2025-02-11T04:01:38.565Z"
   },
   {
    "duration": 9,
    "start_time": "2025-02-11T04:02:32.183Z"
   },
   {
    "duration": 3368,
    "start_time": "2025-02-11T04:02:33.980Z"
   },
   {
    "duration": 66,
    "start_time": "2025-02-11T04:02:37.350Z"
   },
   {
    "duration": 2398,
    "start_time": "2025-02-11T04:02:40.095Z"
   },
   {
    "duration": 1162,
    "start_time": "2025-02-11T04:02:42.495Z"
   },
   {
    "duration": 153,
    "start_time": "2025-02-11T04:02:43.659Z"
   },
   {
    "duration": 15,
    "start_time": "2025-02-11T04:02:43.814Z"
   },
   {
    "duration": 137,
    "start_time": "2025-02-11T04:02:43.831Z"
   },
   {
    "duration": 15,
    "start_time": "2025-02-11T04:02:43.970Z"
   },
   {
    "duration": 144,
    "start_time": "2025-02-11T04:02:43.986Z"
   },
   {
    "duration": 14,
    "start_time": "2025-02-11T04:02:44.131Z"
   },
   {
    "duration": 13,
    "start_time": "2025-02-11T04:02:44.157Z"
   },
   {
    "duration": 13,
    "start_time": "2025-02-11T04:02:44.172Z"
   },
   {
    "duration": 12,
    "start_time": "2025-02-11T04:02:44.187Z"
   },
   {
    "duration": 6,
    "start_time": "2025-02-11T04:02:44.200Z"
   },
   {
    "duration": 5,
    "start_time": "2025-02-11T04:02:44.207Z"
   },
   {
    "duration": 5,
    "start_time": "2025-02-11T04:02:44.213Z"
   },
   {
    "duration": 33,
    "start_time": "2025-02-11T04:02:44.257Z"
   },
   {
    "duration": 23,
    "start_time": "2025-02-11T04:02:44.292Z"
   },
   {
    "duration": 48,
    "start_time": "2025-02-11T04:02:44.317Z"
   },
   {
    "duration": 913,
    "start_time": "2025-02-11T04:02:44.367Z"
   },
   {
    "duration": 2,
    "start_time": "2025-02-11T04:02:45.282Z"
   },
   {
    "duration": 397,
    "start_time": "2025-02-11T04:02:45.286Z"
   },
   {
    "duration": 8,
    "start_time": "2025-02-11T04:03:02.298Z"
   },
   {
    "duration": 2411,
    "start_time": "2025-02-11T04:03:06.053Z"
   },
   {
    "duration": 1207,
    "start_time": "2025-02-11T04:03:08.467Z"
   },
   {
    "duration": 147,
    "start_time": "2025-02-11T04:03:09.675Z"
   },
   {
    "duration": 15,
    "start_time": "2025-02-11T04:03:09.823Z"
   },
   {
    "duration": 138,
    "start_time": "2025-02-11T04:03:09.840Z"
   },
   {
    "duration": 15,
    "start_time": "2025-02-11T04:03:09.980Z"
   },
   {
    "duration": 149,
    "start_time": "2025-02-11T04:03:09.997Z"
   },
   {
    "duration": 24,
    "start_time": "2025-02-11T04:03:10.148Z"
   },
   {
    "duration": 13,
    "start_time": "2025-02-11T04:03:10.174Z"
   },
   {
    "duration": 14,
    "start_time": "2025-02-11T04:03:10.189Z"
   },
   {
    "duration": 19,
    "start_time": "2025-02-11T04:03:10.205Z"
   },
   {
    "duration": 34,
    "start_time": "2025-02-11T04:03:10.225Z"
   },
   {
    "duration": 6,
    "start_time": "2025-02-11T04:03:10.260Z"
   },
   {
    "duration": 5,
    "start_time": "2025-02-11T04:03:10.269Z"
   },
   {
    "duration": 33,
    "start_time": "2025-02-11T04:03:10.276Z"
   },
   {
    "duration": 49,
    "start_time": "2025-02-11T04:03:10.310Z"
   },
   {
    "duration": 33,
    "start_time": "2025-02-11T04:03:10.360Z"
   },
   {
    "duration": 955,
    "start_time": "2025-02-11T04:03:10.394Z"
   },
   {
    "duration": 3,
    "start_time": "2025-02-11T04:03:11.350Z"
   },
   {
    "duration": 747,
    "start_time": "2025-02-11T04:03:11.357Z"
   },
   {
    "duration": 699,
    "start_time": "2025-02-11T04:03:19.797Z"
   },
   {
    "duration": 568,
    "start_time": "2025-02-11T04:03:27.771Z"
   },
   {
    "duration": 587,
    "start_time": "2025-02-11T04:03:36.964Z"
   },
   {
    "duration": 609,
    "start_time": "2025-02-11T04:05:49.519Z"
   },
   {
    "duration": 582,
    "start_time": "2025-02-11T04:05:58.376Z"
   },
   {
    "duration": 2358,
    "start_time": "2025-02-11T04:07:55.297Z"
   },
   {
    "duration": 1219,
    "start_time": "2025-02-11T04:07:57.657Z"
   },
   {
    "duration": 165,
    "start_time": "2025-02-11T04:07:58.878Z"
   },
   {
    "duration": 19,
    "start_time": "2025-02-11T04:07:59.045Z"
   },
   {
    "duration": 137,
    "start_time": "2025-02-11T04:07:59.066Z"
   },
   {
    "duration": 13,
    "start_time": "2025-02-11T04:07:59.205Z"
   },
   {
    "duration": 145,
    "start_time": "2025-02-11T04:07:59.220Z"
   },
   {
    "duration": 14,
    "start_time": "2025-02-11T04:07:59.366Z"
   },
   {
    "duration": 14,
    "start_time": "2025-02-11T04:07:59.381Z"
   },
   {
    "duration": 14,
    "start_time": "2025-02-11T04:07:59.397Z"
   },
   {
    "duration": 14,
    "start_time": "2025-02-11T04:07:59.412Z"
   },
   {
    "duration": 35,
    "start_time": "2025-02-11T04:07:59.427Z"
   },
   {
    "duration": 6,
    "start_time": "2025-02-11T04:07:59.463Z"
   },
   {
    "duration": 5,
    "start_time": "2025-02-11T04:07:59.470Z"
   },
   {
    "duration": 33,
    "start_time": "2025-02-11T04:07:59.476Z"
   },
   {
    "duration": 53,
    "start_time": "2025-02-11T04:07:59.510Z"
   },
   {
    "duration": 32,
    "start_time": "2025-02-11T04:07:59.564Z"
   },
   {
    "duration": 936,
    "start_time": "2025-02-11T04:07:59.597Z"
   },
   {
    "duration": 3,
    "start_time": "2025-02-11T04:08:00.534Z"
   },
   {
    "duration": 599,
    "start_time": "2025-02-11T04:08:00.538Z"
   },
   {
    "duration": 978,
    "start_time": "2025-02-11T04:08:01.139Z"
   },
   {
    "duration": 612,
    "start_time": "2025-02-11T04:08:02.118Z"
   },
   {
    "duration": 877,
    "start_time": "2025-02-11T04:08:02.732Z"
   },
   {
    "duration": 616,
    "start_time": "2025-02-11T04:08:03.610Z"
   },
   {
    "duration": 2404,
    "start_time": "2025-02-11T04:26:05.252Z"
   },
   {
    "duration": 1232,
    "start_time": "2025-02-11T04:26:07.658Z"
   },
   {
    "duration": 151,
    "start_time": "2025-02-11T04:26:08.891Z"
   },
   {
    "duration": 20,
    "start_time": "2025-02-11T04:26:09.044Z"
   },
   {
    "duration": 139,
    "start_time": "2025-02-11T04:26:09.066Z"
   },
   {
    "duration": 14,
    "start_time": "2025-02-11T04:26:09.206Z"
   },
   {
    "duration": 137,
    "start_time": "2025-02-11T04:26:09.222Z"
   },
   {
    "duration": 14,
    "start_time": "2025-02-11T04:26:09.361Z"
   },
   {
    "duration": 15,
    "start_time": "2025-02-11T04:26:09.376Z"
   },
   {
    "duration": 13,
    "start_time": "2025-02-11T04:26:09.393Z"
   },
   {
    "duration": 12,
    "start_time": "2025-02-11T04:26:09.408Z"
   },
   {
    "duration": 38,
    "start_time": "2025-02-11T04:26:09.422Z"
   },
   {
    "duration": 5,
    "start_time": "2025-02-11T04:26:09.462Z"
   },
   {
    "duration": 6,
    "start_time": "2025-02-11T04:26:09.469Z"
   },
   {
    "duration": 36,
    "start_time": "2025-02-11T04:26:09.476Z"
   },
   {
    "duration": 53,
    "start_time": "2025-02-11T04:26:09.513Z"
   },
   {
    "duration": 33,
    "start_time": "2025-02-11T04:26:09.567Z"
   },
   {
    "duration": 918,
    "start_time": "2025-02-11T04:26:09.601Z"
   },
   {
    "duration": 2,
    "start_time": "2025-02-11T04:26:10.521Z"
   },
   {
    "duration": 609,
    "start_time": "2025-02-11T04:26:10.525Z"
   },
   {
    "duration": 1030,
    "start_time": "2025-02-11T04:26:11.136Z"
   },
   {
    "duration": 573,
    "start_time": "2025-02-11T04:26:12.167Z"
   },
   {
    "duration": 75,
    "start_time": "2025-02-11T04:26:12.741Z"
   },
   {
    "duration": 0,
    "start_time": "2025-02-11T04:26:12.818Z"
   },
   {
    "duration": 77,
    "start_time": "2025-02-11T04:32:22.726Z"
   },
   {
    "duration": 881,
    "start_time": "2025-02-11T04:32:40.734Z"
   },
   {
    "duration": 574,
    "start_time": "2025-02-11T04:33:21.572Z"
   },
   {
    "duration": 632,
    "start_time": "2025-02-11T04:34:19.509Z"
   },
   {
    "duration": 4,
    "start_time": "2025-02-11T04:39:49.862Z"
   },
   {
    "duration": 111,
    "start_time": "2025-02-11T04:39:59.182Z"
   },
   {
    "duration": 2414,
    "start_time": "2025-02-11T04:40:07.760Z"
   },
   {
    "duration": 1195,
    "start_time": "2025-02-11T04:40:10.176Z"
   },
   {
    "duration": 151,
    "start_time": "2025-02-11T04:40:11.372Z"
   },
   {
    "duration": 16,
    "start_time": "2025-02-11T04:40:11.525Z"
   },
   {
    "duration": 173,
    "start_time": "2025-02-11T04:40:11.542Z"
   },
   {
    "duration": 43,
    "start_time": "2025-02-11T04:40:11.716Z"
   },
   {
    "duration": 140,
    "start_time": "2025-02-11T04:40:11.760Z"
   },
   {
    "duration": 14,
    "start_time": "2025-02-11T04:40:11.901Z"
   },
   {
    "duration": 13,
    "start_time": "2025-02-11T04:40:11.916Z"
   },
   {
    "duration": 34,
    "start_time": "2025-02-11T04:40:11.932Z"
   },
   {
    "duration": 13,
    "start_time": "2025-02-11T04:40:11.967Z"
   },
   {
    "duration": 5,
    "start_time": "2025-02-11T04:40:11.982Z"
   },
   {
    "duration": 12,
    "start_time": "2025-02-11T04:40:11.989Z"
   },
   {
    "duration": 5,
    "start_time": "2025-02-11T04:40:12.003Z"
   },
   {
    "duration": 62,
    "start_time": "2025-02-11T04:40:12.010Z"
   },
   {
    "duration": 24,
    "start_time": "2025-02-11T04:40:12.074Z"
   },
   {
    "duration": 32,
    "start_time": "2025-02-11T04:40:12.099Z"
   },
   {
    "duration": 920,
    "start_time": "2025-02-11T04:40:12.133Z"
   },
   {
    "duration": 2,
    "start_time": "2025-02-11T04:40:13.057Z"
   },
   {
    "duration": 584,
    "start_time": "2025-02-11T04:40:13.061Z"
   },
   {
    "duration": 956,
    "start_time": "2025-02-11T04:40:13.647Z"
   },
   {
    "duration": 639,
    "start_time": "2025-02-11T04:40:14.605Z"
   },
   {
    "duration": 19,
    "start_time": "2025-02-11T04:40:15.246Z"
   },
   {
    "duration": 877,
    "start_time": "2025-02-11T04:40:15.267Z"
   },
   {
    "duration": 596,
    "start_time": "2025-02-11T04:40:16.146Z"
   },
   {
    "duration": 261,
    "start_time": "2025-02-11T04:42:41.162Z"
   },
   {
    "duration": 2485,
    "start_time": "2025-02-11T05:07:12.661Z"
   },
   {
    "duration": 1530,
    "start_time": "2025-02-11T05:07:15.150Z"
   },
   {
    "duration": 159,
    "start_time": "2025-02-11T05:07:16.681Z"
   },
   {
    "duration": 21,
    "start_time": "2025-02-11T05:07:16.842Z"
   },
   {
    "duration": 145,
    "start_time": "2025-02-11T05:07:16.865Z"
   },
   {
    "duration": 15,
    "start_time": "2025-02-11T05:07:17.012Z"
   },
   {
    "duration": 147,
    "start_time": "2025-02-11T05:07:17.029Z"
   },
   {
    "duration": 16,
    "start_time": "2025-02-11T05:07:17.177Z"
   },
   {
    "duration": 15,
    "start_time": "2025-02-11T05:07:17.194Z"
   },
   {
    "duration": 14,
    "start_time": "2025-02-11T05:07:17.211Z"
   },
   {
    "duration": 43,
    "start_time": "2025-02-11T05:07:17.227Z"
   },
   {
    "duration": 7,
    "start_time": "2025-02-11T05:07:17.271Z"
   },
   {
    "duration": 8,
    "start_time": "2025-02-11T05:07:17.279Z"
   },
   {
    "duration": 6,
    "start_time": "2025-02-11T05:07:17.288Z"
   },
   {
    "duration": 68,
    "start_time": "2025-02-11T05:07:17.296Z"
   },
   {
    "duration": 28,
    "start_time": "2025-02-11T05:07:17.366Z"
   },
   {
    "duration": 36,
    "start_time": "2025-02-11T05:07:17.396Z"
   },
   {
    "duration": 932,
    "start_time": "2025-02-11T05:07:17.433Z"
   },
   {
    "duration": 3,
    "start_time": "2025-02-11T05:07:18.366Z"
   },
   {
    "duration": 690,
    "start_time": "2025-02-11T05:07:18.370Z"
   },
   {
    "duration": 899,
    "start_time": "2025-02-11T05:07:19.062Z"
   },
   {
    "duration": 627,
    "start_time": "2025-02-11T05:07:19.962Z"
   },
   {
    "duration": 10,
    "start_time": "2025-02-11T05:07:20.591Z"
   },
   {
    "duration": 943,
    "start_time": "2025-02-11T05:07:20.604Z"
   },
   {
    "duration": 650,
    "start_time": "2025-02-11T05:07:21.549Z"
   },
   {
    "duration": 3,
    "start_time": "2025-02-11T05:07:22.201Z"
   },
   {
    "duration": 7,
    "start_time": "2025-02-11T05:07:22.206Z"
   },
   {
    "duration": 12,
    "start_time": "2025-02-11T05:07:22.216Z"
   },
   {
    "duration": 11,
    "start_time": "2025-02-11T05:07:22.230Z"
   },
   {
    "duration": 6,
    "start_time": "2025-02-11T05:07:22.243Z"
   },
   {
    "duration": 8,
    "start_time": "2025-02-11T05:07:22.257Z"
   },
   {
    "duration": 7,
    "start_time": "2025-02-11T07:33:38.129Z"
   },
   {
    "duration": 8,
    "start_time": "2025-02-11T07:33:51.869Z"
   },
   {
    "duration": 40,
    "start_time": "2025-02-11T07:37:41.064Z"
   },
   {
    "duration": 30,
    "start_time": "2025-02-11T07:38:19.072Z"
   },
   {
    "duration": 43,
    "start_time": "2025-02-11T07:38:19.229Z"
   },
   {
    "duration": 49,
    "start_time": "2025-02-11T07:38:19.402Z"
   },
   {
    "duration": 2379,
    "start_time": "2025-02-11T07:43:56.247Z"
   },
   {
    "duration": 1403,
    "start_time": "2025-02-11T07:43:58.628Z"
   },
   {
    "duration": 163,
    "start_time": "2025-02-11T07:44:00.033Z"
   },
   {
    "duration": 17,
    "start_time": "2025-02-11T07:44:00.199Z"
   },
   {
    "duration": 141,
    "start_time": "2025-02-11T07:44:00.218Z"
   },
   {
    "duration": 14,
    "start_time": "2025-02-11T07:44:00.361Z"
   },
   {
    "duration": 156,
    "start_time": "2025-02-11T07:44:00.377Z"
   },
   {
    "duration": 15,
    "start_time": "2025-02-11T07:44:00.534Z"
   },
   {
    "duration": 14,
    "start_time": "2025-02-11T07:44:00.557Z"
   },
   {
    "duration": 14,
    "start_time": "2025-02-11T07:44:00.574Z"
   },
   {
    "duration": 14,
    "start_time": "2025-02-11T07:44:00.589Z"
   },
   {
    "duration": 7,
    "start_time": "2025-02-11T07:44:00.605Z"
   },
   {
    "duration": 7,
    "start_time": "2025-02-11T07:44:00.613Z"
   },
   {
    "duration": 38,
    "start_time": "2025-02-11T07:44:00.621Z"
   },
   {
    "duration": 36,
    "start_time": "2025-02-11T07:44:00.661Z"
   },
   {
    "duration": 25,
    "start_time": "2025-02-11T07:44:00.699Z"
   },
   {
    "duration": 61,
    "start_time": "2025-02-11T07:44:00.725Z"
   },
   {
    "duration": 957,
    "start_time": "2025-02-11T07:44:00.788Z"
   },
   {
    "duration": 3,
    "start_time": "2025-02-11T07:44:01.747Z"
   },
   {
    "duration": 686,
    "start_time": "2025-02-11T07:44:01.759Z"
   },
   {
    "duration": 870,
    "start_time": "2025-02-11T07:44:02.447Z"
   },
   {
    "duration": 609,
    "start_time": "2025-02-11T07:44:03.319Z"
   },
   {
    "duration": 11,
    "start_time": "2025-02-11T07:44:03.930Z"
   },
   {
    "duration": 894,
    "start_time": "2025-02-11T07:44:03.943Z"
   },
   {
    "duration": 600,
    "start_time": "2025-02-11T07:44:04.838Z"
   },
   {
    "duration": 3,
    "start_time": "2025-02-11T07:44:05.440Z"
   },
   {
    "duration": 116,
    "start_time": "2025-02-11T07:44:05.445Z"
   },
   {
    "duration": 0,
    "start_time": "2025-02-11T07:44:05.562Z"
   },
   {
    "duration": 0,
    "start_time": "2025-02-11T07:44:05.564Z"
   },
   {
    "duration": 0,
    "start_time": "2025-02-11T07:44:05.564Z"
   },
   {
    "duration": 0,
    "start_time": "2025-02-11T07:44:05.566Z"
   },
   {
    "duration": 0,
    "start_time": "2025-02-11T07:44:05.566Z"
   },
   {
    "duration": 0,
    "start_time": "2025-02-11T07:44:05.568Z"
   },
   {
    "duration": 0,
    "start_time": "2025-02-11T07:44:05.569Z"
   },
   {
    "duration": 0,
    "start_time": "2025-02-11T07:44:05.570Z"
   },
   {
    "duration": 0,
    "start_time": "2025-02-11T07:44:05.571Z"
   },
   {
    "duration": 0,
    "start_time": "2025-02-11T07:44:05.572Z"
   },
   {
    "duration": 2,
    "start_time": "2025-02-11T07:44:14.306Z"
   },
   {
    "duration": 4,
    "start_time": "2025-02-11T07:44:15.202Z"
   },
   {
    "duration": 3,
    "start_time": "2025-02-11T07:44:15.498Z"
   },
   {
    "duration": 3,
    "start_time": "2025-02-11T07:44:15.753Z"
   },
   {
    "duration": 2,
    "start_time": "2025-02-11T07:44:16.044Z"
   },
   {
    "duration": 3,
    "start_time": "2025-02-11T07:44:16.346Z"
   },
   {
    "duration": 3,
    "start_time": "2025-02-11T07:44:16.626Z"
   },
   {
    "duration": 4,
    "start_time": "2025-02-11T07:45:11.876Z"
   },
   {
    "duration": 10,
    "start_time": "2025-02-11T07:46:24.838Z"
   },
   {
    "duration": 4,
    "start_time": "2025-02-11T07:46:51.162Z"
   },
   {
    "duration": 3,
    "start_time": "2025-02-11T07:46:51.469Z"
   },
   {
    "duration": 3,
    "start_time": "2025-02-11T07:46:51.775Z"
   },
   {
    "duration": 3,
    "start_time": "2025-02-11T07:46:52.063Z"
   },
   {
    "duration": 3,
    "start_time": "2025-02-11T07:46:52.379Z"
   },
   {
    "duration": 3,
    "start_time": "2025-02-11T07:46:52.625Z"
   },
   {
    "duration": 3,
    "start_time": "2025-02-11T07:46:52.885Z"
   },
   {
    "duration": 7,
    "start_time": "2025-02-11T07:46:53.857Z"
   },
   {
    "duration": 116,
    "start_time": "2025-02-11T07:46:54.445Z"
   },
   {
    "duration": 1318,
    "start_time": "2025-02-11T07:46:56.001Z"
   },
   {
    "duration": 2388,
    "start_time": "2025-02-11T07:48:18.762Z"
   },
   {
    "duration": 1464,
    "start_time": "2025-02-11T07:48:21.152Z"
   },
   {
    "duration": 150,
    "start_time": "2025-02-11T07:48:22.617Z"
   },
   {
    "duration": 15,
    "start_time": "2025-02-11T07:48:22.769Z"
   },
   {
    "duration": 141,
    "start_time": "2025-02-11T07:48:22.786Z"
   },
   {
    "duration": 15,
    "start_time": "2025-02-11T07:48:22.928Z"
   },
   {
    "duration": 138,
    "start_time": "2025-02-11T07:48:22.957Z"
   },
   {
    "duration": 14,
    "start_time": "2025-02-11T07:48:23.097Z"
   },
   {
    "duration": 14,
    "start_time": "2025-02-11T07:48:23.112Z"
   },
   {
    "duration": 38,
    "start_time": "2025-02-11T07:48:23.128Z"
   },
   {
    "duration": 13,
    "start_time": "2025-02-11T07:48:23.168Z"
   },
   {
    "duration": 6,
    "start_time": "2025-02-11T07:48:23.182Z"
   },
   {
    "duration": 7,
    "start_time": "2025-02-11T07:48:23.189Z"
   },
   {
    "duration": 6,
    "start_time": "2025-02-11T07:48:23.197Z"
   },
   {
    "duration": 76,
    "start_time": "2025-02-11T07:48:23.204Z"
   },
   {
    "duration": 26,
    "start_time": "2025-02-11T07:48:23.282Z"
   },
   {
    "duration": 50,
    "start_time": "2025-02-11T07:48:23.309Z"
   },
   {
    "duration": 927,
    "start_time": "2025-02-11T07:48:23.361Z"
   },
   {
    "duration": 2,
    "start_time": "2025-02-11T07:48:24.290Z"
   },
   {
    "duration": 647,
    "start_time": "2025-02-11T07:48:24.294Z"
   },
   {
    "duration": 879,
    "start_time": "2025-02-11T07:48:24.943Z"
   },
   {
    "duration": 608,
    "start_time": "2025-02-11T07:48:25.824Z"
   },
   {
    "duration": 9,
    "start_time": "2025-02-11T07:48:26.434Z"
   },
   {
    "duration": 883,
    "start_time": "2025-02-11T07:48:26.444Z"
   },
   {
    "duration": 596,
    "start_time": "2025-02-11T07:48:27.329Z"
   },
   {
    "duration": 2,
    "start_time": "2025-02-11T07:48:27.927Z"
   },
   {
    "duration": 3,
    "start_time": "2025-02-11T07:48:27.931Z"
   },
   {
    "duration": 20,
    "start_time": "2025-02-11T07:48:27.938Z"
   },
   {
    "duration": 3,
    "start_time": "2025-02-11T07:48:27.959Z"
   },
   {
    "duration": 3,
    "start_time": "2025-02-11T07:48:27.963Z"
   },
   {
    "duration": 3,
    "start_time": "2025-02-11T07:48:27.968Z"
   },
   {
    "duration": 4,
    "start_time": "2025-02-11T07:48:27.972Z"
   },
   {
    "duration": 4,
    "start_time": "2025-02-11T07:48:27.977Z"
   },
   {
    "duration": 5,
    "start_time": "2025-02-11T07:48:27.982Z"
   },
   {
    "duration": 7,
    "start_time": "2025-02-11T07:48:27.988Z"
   },
   {
    "duration": 144,
    "start_time": "2025-02-11T07:48:27.996Z"
   },
   {
    "duration": 135,
    "start_time": "2025-02-11T07:48:28.142Z"
   },
   {
    "duration": 3,
    "start_time": "2025-02-11T07:49:36.254Z"
   },
   {
    "duration": 8,
    "start_time": "2025-02-11T07:50:02.759Z"
   },
   {
    "duration": 2606,
    "start_time": "2025-02-11T07:51:12.909Z"
   },
   {
    "duration": 1411,
    "start_time": "2025-02-11T07:51:15.518Z"
   },
   {
    "duration": 151,
    "start_time": "2025-02-11T07:51:16.931Z"
   },
   {
    "duration": 16,
    "start_time": "2025-02-11T07:51:17.084Z"
   },
   {
    "duration": 142,
    "start_time": "2025-02-11T07:51:17.103Z"
   },
   {
    "duration": 20,
    "start_time": "2025-02-11T07:51:17.247Z"
   },
   {
    "duration": 140,
    "start_time": "2025-02-11T07:51:17.269Z"
   },
   {
    "duration": 16,
    "start_time": "2025-02-11T07:51:17.411Z"
   },
   {
    "duration": 31,
    "start_time": "2025-02-11T07:51:17.428Z"
   },
   {
    "duration": 14,
    "start_time": "2025-02-11T07:51:17.460Z"
   },
   {
    "duration": 13,
    "start_time": "2025-02-11T07:51:17.475Z"
   },
   {
    "duration": 5,
    "start_time": "2025-02-11T07:51:17.489Z"
   },
   {
    "duration": 5,
    "start_time": "2025-02-11T07:51:17.495Z"
   },
   {
    "duration": 5,
    "start_time": "2025-02-11T07:51:17.503Z"
   },
   {
    "duration": 79,
    "start_time": "2025-02-11T07:51:17.510Z"
   },
   {
    "duration": 26,
    "start_time": "2025-02-11T07:51:17.590Z"
   },
   {
    "duration": 46,
    "start_time": "2025-02-11T07:51:17.617Z"
   },
   {
    "duration": 904,
    "start_time": "2025-02-11T07:51:17.665Z"
   },
   {
    "duration": 3,
    "start_time": "2025-02-11T07:51:18.570Z"
   },
   {
    "duration": 665,
    "start_time": "2025-02-11T07:51:18.574Z"
   },
   {
    "duration": 858,
    "start_time": "2025-02-11T07:51:19.241Z"
   },
   {
    "duration": 625,
    "start_time": "2025-02-11T07:51:20.100Z"
   },
   {
    "duration": 9,
    "start_time": "2025-02-11T07:51:20.726Z"
   },
   {
    "duration": 1041,
    "start_time": "2025-02-11T07:51:20.737Z"
   },
   {
    "duration": 616,
    "start_time": "2025-02-11T07:51:21.779Z"
   },
   {
    "duration": 4,
    "start_time": "2025-02-11T07:51:22.397Z"
   },
   {
    "duration": 6,
    "start_time": "2025-02-11T07:51:22.402Z"
   },
   {
    "duration": 4,
    "start_time": "2025-02-11T07:51:22.410Z"
   },
   {
    "duration": 9,
    "start_time": "2025-02-11T07:51:22.415Z"
   },
   {
    "duration": 5,
    "start_time": "2025-02-11T07:51:22.425Z"
   },
   {
    "duration": 3,
    "start_time": "2025-02-11T07:51:22.431Z"
   },
   {
    "duration": 4,
    "start_time": "2025-02-11T07:51:22.436Z"
   },
   {
    "duration": 3,
    "start_time": "2025-02-11T07:51:22.457Z"
   },
   {
    "duration": 3,
    "start_time": "2025-02-11T07:51:22.462Z"
   },
   {
    "duration": 9,
    "start_time": "2025-02-11T07:51:22.467Z"
   },
   {
    "duration": 238,
    "start_time": "2025-02-11T07:51:22.478Z"
   },
   {
    "duration": 40,
    "start_time": "2025-02-11T07:51:22.718Z"
   },
   {
    "duration": 102,
    "start_time": "2025-02-11T07:51:22.760Z"
   },
   {
    "duration": 178,
    "start_time": "2025-02-11T07:51:22.864Z"
   },
   {
    "duration": 0,
    "start_time": "2025-02-11T07:51:23.044Z"
   },
   {
    "duration": 0,
    "start_time": "2025-02-11T07:51:23.045Z"
   },
   {
    "duration": 0,
    "start_time": "2025-02-11T07:51:23.046Z"
   },
   {
    "duration": 17,
    "start_time": "2025-02-11T07:51:28.164Z"
   },
   {
    "duration": 9,
    "start_time": "2025-02-11T07:51:28.693Z"
   },
   {
    "duration": 20,
    "start_time": "2025-02-11T07:51:28.885Z"
   },
   {
    "duration": 10,
    "start_time": "2025-02-11T07:51:29.068Z"
   },
   {
    "duration": 9,
    "start_time": "2025-02-11T07:55:37.377Z"
   },
   {
    "duration": 5,
    "start_time": "2025-02-11T07:55:58.694Z"
   },
   {
    "duration": 9,
    "start_time": "2025-02-11T07:57:22.817Z"
   },
   {
    "duration": 3,
    "start_time": "2025-02-11T07:57:25.347Z"
   },
   {
    "duration": 6,
    "start_time": "2025-02-11T07:57:25.496Z"
   },
   {
    "duration": 9,
    "start_time": "2025-02-11T07:57:25.624Z"
   },
   {
    "duration": 9,
    "start_time": "2025-02-11T07:57:25.733Z"
   },
   {
    "duration": 3,
    "start_time": "2025-02-11T07:57:32.904Z"
   },
   {
    "duration": 10,
    "start_time": "2025-02-11T07:57:34.638Z"
   },
   {
    "duration": 4,
    "start_time": "2025-02-11T07:57:39.506Z"
   },
   {
    "duration": 3,
    "start_time": "2025-02-11T07:59:30.798Z"
   },
   {
    "duration": 4,
    "start_time": "2025-02-11T07:59:30.925Z"
   },
   {
    "duration": 3,
    "start_time": "2025-02-11T07:59:31.075Z"
   },
   {
    "duration": 4,
    "start_time": "2025-02-11T07:59:31.216Z"
   },
   {
    "duration": 3,
    "start_time": "2025-02-11T07:59:31.358Z"
   },
   {
    "duration": 5,
    "start_time": "2025-02-11T07:59:31.494Z"
   },
   {
    "duration": 3,
    "start_time": "2025-02-11T07:59:31.646Z"
   },
   {
    "duration": 5,
    "start_time": "2025-02-11T07:59:31.795Z"
   },
   {
    "duration": 2,
    "start_time": "2025-02-11T07:59:31.927Z"
   },
   {
    "duration": 4,
    "start_time": "2025-02-11T07:59:32.071Z"
   },
   {
    "duration": 3,
    "start_time": "2025-02-11T07:59:32.223Z"
   },
   {
    "duration": 4,
    "start_time": "2025-02-11T07:59:32.393Z"
   },
   {
    "duration": 5,
    "start_time": "2025-02-11T08:07:21.401Z"
   },
   {
    "duration": 2449,
    "start_time": "2025-02-11T08:09:42.006Z"
   },
   {
    "duration": 1375,
    "start_time": "2025-02-11T08:09:44.458Z"
   },
   {
    "duration": 149,
    "start_time": "2025-02-11T08:09:45.835Z"
   },
   {
    "duration": 14,
    "start_time": "2025-02-11T08:09:45.986Z"
   },
   {
    "duration": 135,
    "start_time": "2025-02-11T08:09:46.001Z"
   },
   {
    "duration": 21,
    "start_time": "2025-02-11T08:09:46.138Z"
   },
   {
    "duration": 138,
    "start_time": "2025-02-11T08:09:46.160Z"
   },
   {
    "duration": 13,
    "start_time": "2025-02-11T08:09:46.300Z"
   },
   {
    "duration": 12,
    "start_time": "2025-02-11T08:09:46.314Z"
   },
   {
    "duration": 30,
    "start_time": "2025-02-11T08:09:46.329Z"
   },
   {
    "duration": 15,
    "start_time": "2025-02-11T08:09:46.361Z"
   },
   {
    "duration": 6,
    "start_time": "2025-02-11T08:09:46.377Z"
   },
   {
    "duration": 5,
    "start_time": "2025-02-11T08:09:46.384Z"
   },
   {
    "duration": 5,
    "start_time": "2025-02-11T08:09:46.391Z"
   },
   {
    "duration": 64,
    "start_time": "2025-02-11T08:09:46.398Z"
   },
   {
    "duration": 24,
    "start_time": "2025-02-11T08:09:46.464Z"
   },
   {
    "duration": 31,
    "start_time": "2025-02-11T08:09:46.489Z"
   },
   {
    "duration": 941,
    "start_time": "2025-02-11T08:09:46.522Z"
   },
   {
    "duration": 2,
    "start_time": "2025-02-11T08:09:47.465Z"
   },
   {
    "duration": 677,
    "start_time": "2025-02-11T08:09:47.469Z"
   },
   {
    "duration": 879,
    "start_time": "2025-02-11T08:09:48.147Z"
   },
   {
    "duration": 618,
    "start_time": "2025-02-11T08:09:49.028Z"
   },
   {
    "duration": 14,
    "start_time": "2025-02-11T08:09:49.647Z"
   },
   {
    "duration": 902,
    "start_time": "2025-02-11T08:09:49.663Z"
   },
   {
    "duration": 580,
    "start_time": "2025-02-11T08:09:50.567Z"
   },
   {
    "duration": 9,
    "start_time": "2025-02-11T08:09:51.149Z"
   },
   {
    "duration": 4,
    "start_time": "2025-02-11T08:09:51.159Z"
   },
   {
    "duration": 3,
    "start_time": "2025-02-11T08:09:51.167Z"
   },
   {
    "duration": 13,
    "start_time": "2025-02-11T08:09:51.172Z"
   },
   {
    "duration": 4,
    "start_time": "2025-02-11T08:09:51.187Z"
   },
   {
    "duration": 11,
    "start_time": "2025-02-11T08:09:51.192Z"
   },
   {
    "duration": 5,
    "start_time": "2025-02-11T08:09:51.204Z"
   },
   {
    "duration": 3,
    "start_time": "2025-02-11T08:09:51.211Z"
   },
   {
    "duration": 17,
    "start_time": "2025-02-11T08:09:51.215Z"
   },
   {
    "duration": 8,
    "start_time": "2025-02-11T08:09:51.234Z"
   },
   {
    "duration": 239,
    "start_time": "2025-02-11T08:09:51.243Z"
   },
   {
    "duration": 78,
    "start_time": "2025-02-11T08:09:51.483Z"
   },
   {
    "duration": 99,
    "start_time": "2025-02-11T08:09:51.564Z"
   },
   {
    "duration": 93,
    "start_time": "2025-02-11T08:09:51.665Z"
   },
   {
    "duration": 99,
    "start_time": "2025-02-11T08:09:51.760Z"
   },
   {
    "duration": 21,
    "start_time": "2025-02-11T08:09:51.862Z"
   },
   {
    "duration": 173,
    "start_time": "2025-02-11T08:09:51.886Z"
   },
   {
    "duration": 3,
    "start_time": "2025-02-11T08:09:52.060Z"
   },
   {
    "duration": 17,
    "start_time": "2025-02-11T08:09:52.064Z"
   },
   {
    "duration": 13,
    "start_time": "2025-02-11T08:09:52.083Z"
   },
   {
    "duration": 10,
    "start_time": "2025-02-11T08:09:52.098Z"
   },
   {
    "duration": 4,
    "start_time": "2025-02-11T08:09:52.109Z"
   },
   {
    "duration": 10,
    "start_time": "2025-02-11T08:09:52.114Z"
   },
   {
    "duration": 3,
    "start_time": "2025-02-11T08:09:52.126Z"
   },
   {
    "duration": 5,
    "start_time": "2025-02-11T08:09:52.131Z"
   },
   {
    "duration": 21,
    "start_time": "2025-02-11T08:09:52.137Z"
   },
   {
    "duration": 5,
    "start_time": "2025-02-11T08:09:52.160Z"
   },
   {
    "duration": 3,
    "start_time": "2025-02-11T08:09:52.167Z"
   },
   {
    "duration": 11,
    "start_time": "2025-02-11T08:09:52.172Z"
   },
   {
    "duration": 5,
    "start_time": "2025-02-11T08:11:19.444Z"
   },
   {
    "duration": 5,
    "start_time": "2025-02-11T08:29:22.197Z"
   },
   {
    "duration": 5,
    "start_time": "2025-02-11T08:31:02.855Z"
   },
   {
    "duration": 6,
    "start_time": "2025-02-11T08:31:26.935Z"
   },
   {
    "duration": 108,
    "start_time": "2025-02-11T08:34:23.655Z"
   },
   {
    "duration": 5,
    "start_time": "2025-02-11T08:36:06.502Z"
   },
   {
    "duration": 5,
    "start_time": "2025-02-11T08:36:20.590Z"
   },
   {
    "duration": 5,
    "start_time": "2025-02-11T08:36:26.880Z"
   },
   {
    "duration": 2476,
    "start_time": "2025-02-11T08:37:05.100Z"
   },
   {
    "duration": 1372,
    "start_time": "2025-02-11T08:37:07.579Z"
   },
   {
    "duration": 154,
    "start_time": "2025-02-11T08:37:08.953Z"
   },
   {
    "duration": 15,
    "start_time": "2025-02-11T08:37:09.110Z"
   },
   {
    "duration": 142,
    "start_time": "2025-02-11T08:37:09.126Z"
   },
   {
    "duration": 15,
    "start_time": "2025-02-11T08:37:09.270Z"
   },
   {
    "duration": 146,
    "start_time": "2025-02-11T08:37:09.287Z"
   },
   {
    "duration": 24,
    "start_time": "2025-02-11T08:37:09.434Z"
   },
   {
    "duration": 12,
    "start_time": "2025-02-11T08:37:09.459Z"
   },
   {
    "duration": 13,
    "start_time": "2025-02-11T08:37:09.474Z"
   },
   {
    "duration": 14,
    "start_time": "2025-02-11T08:37:09.489Z"
   },
   {
    "duration": 6,
    "start_time": "2025-02-11T08:37:09.505Z"
   },
   {
    "duration": 5,
    "start_time": "2025-02-11T08:37:09.513Z"
   },
   {
    "duration": 42,
    "start_time": "2025-02-11T08:37:09.520Z"
   },
   {
    "duration": 33,
    "start_time": "2025-02-11T08:37:09.564Z"
   },
   {
    "duration": 24,
    "start_time": "2025-02-11T08:37:09.599Z"
   },
   {
    "duration": 58,
    "start_time": "2025-02-11T08:37:09.624Z"
   },
   {
    "duration": 945,
    "start_time": "2025-02-11T08:37:09.683Z"
   },
   {
    "duration": 3,
    "start_time": "2025-02-11T08:37:10.629Z"
   },
   {
    "duration": 699,
    "start_time": "2025-02-11T08:37:10.633Z"
   },
   {
    "duration": 889,
    "start_time": "2025-02-11T08:37:11.333Z"
   },
   {
    "duration": 615,
    "start_time": "2025-02-11T08:37:12.224Z"
   },
   {
    "duration": 20,
    "start_time": "2025-02-11T08:37:12.840Z"
   },
   {
    "duration": 892,
    "start_time": "2025-02-11T08:37:12.861Z"
   },
   {
    "duration": 596,
    "start_time": "2025-02-11T08:37:13.755Z"
   },
   {
    "duration": 3,
    "start_time": "2025-02-11T08:37:14.358Z"
   },
   {
    "duration": 3,
    "start_time": "2025-02-11T08:37:14.363Z"
   },
   {
    "duration": 3,
    "start_time": "2025-02-11T08:37:14.369Z"
   },
   {
    "duration": 8,
    "start_time": "2025-02-11T08:37:14.374Z"
   },
   {
    "duration": 8,
    "start_time": "2025-02-11T08:37:14.383Z"
   },
   {
    "duration": 4,
    "start_time": "2025-02-11T08:37:14.393Z"
   },
   {
    "duration": 7,
    "start_time": "2025-02-11T08:37:14.398Z"
   },
   {
    "duration": 4,
    "start_time": "2025-02-11T08:37:14.406Z"
   },
   {
    "duration": 4,
    "start_time": "2025-02-11T08:37:14.411Z"
   },
   {
    "duration": 7,
    "start_time": "2025-02-11T08:37:14.416Z"
   },
   {
    "duration": 247,
    "start_time": "2025-02-11T08:37:14.425Z"
   },
   {
    "duration": 24,
    "start_time": "2025-02-11T08:37:14.674Z"
   },
   {
    "duration": 64,
    "start_time": "2025-02-11T08:37:14.699Z"
   },
   {
    "duration": 107,
    "start_time": "2025-02-11T08:37:14.766Z"
   },
   {
    "duration": 84,
    "start_time": "2025-02-11T08:37:14.875Z"
   },
   {
    "duration": 116,
    "start_time": "2025-02-11T08:37:14.961Z"
   },
   {
    "duration": 80,
    "start_time": "2025-02-11T08:37:15.080Z"
   },
   {
    "duration": 96,
    "start_time": "2025-02-11T08:37:15.163Z"
   },
   {
    "duration": 14,
    "start_time": "2025-02-11T08:37:15.260Z"
   },
   {
    "duration": 15,
    "start_time": "2025-02-11T08:37:15.276Z"
   },
   {
    "duration": 14,
    "start_time": "2025-02-11T08:37:15.292Z"
   },
   {
    "duration": 13,
    "start_time": "2025-02-11T08:37:15.307Z"
   },
   {
    "duration": 12,
    "start_time": "2025-02-11T08:37:15.321Z"
   },
   {
    "duration": 4,
    "start_time": "2025-02-11T08:37:15.335Z"
   },
   {
    "duration": 7,
    "start_time": "2025-02-11T08:37:15.340Z"
   },
   {
    "duration": 3,
    "start_time": "2025-02-11T08:37:15.348Z"
   },
   {
    "duration": 5,
    "start_time": "2025-02-11T08:37:15.353Z"
   },
   {
    "duration": 3,
    "start_time": "2025-02-11T08:37:15.360Z"
   },
   {
    "duration": 8,
    "start_time": "2025-02-11T08:37:15.364Z"
   },
   {
    "duration": 2395,
    "start_time": "2025-02-11T08:38:47.178Z"
   },
   {
    "duration": 1435,
    "start_time": "2025-02-11T08:38:49.575Z"
   },
   {
    "duration": 151,
    "start_time": "2025-02-11T08:38:51.011Z"
   },
   {
    "duration": 15,
    "start_time": "2025-02-11T08:38:51.164Z"
   },
   {
    "duration": 138,
    "start_time": "2025-02-11T08:38:51.180Z"
   },
   {
    "duration": 14,
    "start_time": "2025-02-11T08:38:51.319Z"
   },
   {
    "duration": 143,
    "start_time": "2025-02-11T08:38:51.335Z"
   },
   {
    "duration": 15,
    "start_time": "2025-02-11T08:38:51.480Z"
   },
   {
    "duration": 13,
    "start_time": "2025-02-11T08:38:51.496Z"
   },
   {
    "duration": 15,
    "start_time": "2025-02-11T08:38:51.512Z"
   },
   {
    "duration": 44,
    "start_time": "2025-02-11T08:38:51.529Z"
   },
   {
    "duration": 7,
    "start_time": "2025-02-11T08:38:51.575Z"
   },
   {
    "duration": 6,
    "start_time": "2025-02-11T08:38:51.584Z"
   },
   {
    "duration": 7,
    "start_time": "2025-02-11T08:38:51.592Z"
   },
   {
    "duration": 78,
    "start_time": "2025-02-11T08:38:51.601Z"
   },
   {
    "duration": 24,
    "start_time": "2025-02-11T08:38:51.680Z"
   },
   {
    "duration": 31,
    "start_time": "2025-02-11T08:38:51.706Z"
   },
   {
    "duration": 942,
    "start_time": "2025-02-11T08:38:51.738Z"
   },
   {
    "duration": 3,
    "start_time": "2025-02-11T08:38:52.681Z"
   },
   {
    "duration": 659,
    "start_time": "2025-02-11T08:38:52.685Z"
   },
   {
    "duration": 889,
    "start_time": "2025-02-11T08:38:53.345Z"
   },
   {
    "duration": 606,
    "start_time": "2025-02-11T08:38:54.236Z"
   },
   {
    "duration": 16,
    "start_time": "2025-02-11T08:38:54.843Z"
   },
   {
    "duration": 923,
    "start_time": "2025-02-11T08:38:54.861Z"
   },
   {
    "duration": 638,
    "start_time": "2025-02-11T08:38:55.785Z"
   },
   {
    "duration": 2,
    "start_time": "2025-02-11T08:38:56.425Z"
   },
   {
    "duration": 3,
    "start_time": "2025-02-11T08:38:56.429Z"
   },
   {
    "duration": 6,
    "start_time": "2025-02-11T08:38:56.436Z"
   },
   {
    "duration": 3,
    "start_time": "2025-02-11T08:38:56.457Z"
   },
   {
    "duration": 3,
    "start_time": "2025-02-11T08:38:56.461Z"
   },
   {
    "duration": 4,
    "start_time": "2025-02-11T08:38:56.466Z"
   },
   {
    "duration": 4,
    "start_time": "2025-02-11T08:38:56.472Z"
   },
   {
    "duration": 2,
    "start_time": "2025-02-11T08:38:56.478Z"
   },
   {
    "duration": 2,
    "start_time": "2025-02-11T08:38:56.482Z"
   },
   {
    "duration": 7,
    "start_time": "2025-02-11T08:38:56.486Z"
   },
   {
    "duration": 236,
    "start_time": "2025-02-11T08:38:56.494Z"
   },
   {
    "duration": 28,
    "start_time": "2025-02-11T08:38:56.732Z"
   },
   {
    "duration": 103,
    "start_time": "2025-02-11T08:38:56.762Z"
   },
   {
    "duration": 20,
    "start_time": "2025-02-11T08:38:56.957Z"
   },
   {
    "duration": 179,
    "start_time": "2025-02-11T08:38:56.979Z"
   },
   {
    "duration": 20,
    "start_time": "2025-02-11T08:38:57.160Z"
   },
   {
    "duration": 82,
    "start_time": "2025-02-11T08:38:57.183Z"
   },
   {
    "duration": 3,
    "start_time": "2025-02-11T08:38:57.357Z"
   },
   {
    "duration": 7,
    "start_time": "2025-02-11T08:38:57.362Z"
   },
   {
    "duration": 3,
    "start_time": "2025-02-11T08:38:57.370Z"
   },
   {
    "duration": 5,
    "start_time": "2025-02-11T08:38:57.374Z"
   },
   {
    "duration": 3,
    "start_time": "2025-02-11T08:38:57.380Z"
   },
   {
    "duration": 5,
    "start_time": "2025-02-11T08:38:57.384Z"
   },
   {
    "duration": 3,
    "start_time": "2025-02-11T08:38:57.390Z"
   },
   {
    "duration": 5,
    "start_time": "2025-02-11T08:38:57.394Z"
   },
   {
    "duration": 2,
    "start_time": "2025-02-11T08:38:57.401Z"
   },
   {
    "duration": 5,
    "start_time": "2025-02-11T08:38:57.404Z"
   },
   {
    "duration": 4,
    "start_time": "2025-02-11T08:38:57.410Z"
   },
   {
    "duration": 4,
    "start_time": "2025-02-11T08:38:57.459Z"
   },
   {
    "duration": 2519,
    "start_time": "2025-02-11T08:39:23.889Z"
   },
   {
    "duration": 1395,
    "start_time": "2025-02-11T08:39:26.410Z"
   },
   {
    "duration": 151,
    "start_time": "2025-02-11T08:39:27.807Z"
   },
   {
    "duration": 16,
    "start_time": "2025-02-11T08:39:27.960Z"
   },
   {
    "duration": 143,
    "start_time": "2025-02-11T08:39:27.977Z"
   },
   {
    "duration": 14,
    "start_time": "2025-02-11T08:39:28.121Z"
   },
   {
    "duration": 140,
    "start_time": "2025-02-11T08:39:28.137Z"
   },
   {
    "duration": 14,
    "start_time": "2025-02-11T08:39:28.278Z"
   },
   {
    "duration": 11,
    "start_time": "2025-02-11T08:39:28.293Z"
   },
   {
    "duration": 13,
    "start_time": "2025-02-11T08:39:28.307Z"
   },
   {
    "duration": 43,
    "start_time": "2025-02-11T08:39:28.321Z"
   },
   {
    "duration": 6,
    "start_time": "2025-02-11T08:39:28.365Z"
   },
   {
    "duration": 5,
    "start_time": "2025-02-11T08:39:28.372Z"
   },
   {
    "duration": 5,
    "start_time": "2025-02-11T08:39:28.378Z"
   },
   {
    "duration": 32,
    "start_time": "2025-02-11T08:39:28.384Z"
   },
   {
    "duration": 57,
    "start_time": "2025-02-11T08:39:28.417Z"
   },
   {
    "duration": 32,
    "start_time": "2025-02-11T08:39:28.475Z"
   },
   {
    "duration": 924,
    "start_time": "2025-02-11T08:39:28.508Z"
   },
   {
    "duration": 3,
    "start_time": "2025-02-11T08:39:29.434Z"
   },
   {
    "duration": 707,
    "start_time": "2025-02-11T08:39:29.438Z"
   },
   {
    "duration": 874,
    "start_time": "2025-02-11T08:39:30.147Z"
   },
   {
    "duration": 660,
    "start_time": "2025-02-11T08:39:31.023Z"
   },
   {
    "duration": 10,
    "start_time": "2025-02-11T08:39:31.685Z"
   },
   {
    "duration": 903,
    "start_time": "2025-02-11T08:39:31.696Z"
   },
   {
    "duration": 639,
    "start_time": "2025-02-11T08:39:32.600Z"
   },
   {
    "duration": 3,
    "start_time": "2025-02-11T08:39:33.241Z"
   },
   {
    "duration": 23,
    "start_time": "2025-02-11T08:39:33.245Z"
   },
   {
    "duration": 11,
    "start_time": "2025-02-11T08:39:33.272Z"
   },
   {
    "duration": 12,
    "start_time": "2025-02-11T08:39:33.284Z"
   },
   {
    "duration": 21,
    "start_time": "2025-02-11T08:39:33.297Z"
   },
   {
    "duration": 10,
    "start_time": "2025-02-11T08:39:33.319Z"
   },
   {
    "duration": 19,
    "start_time": "2025-02-11T08:39:33.330Z"
   },
   {
    "duration": 4,
    "start_time": "2025-02-11T08:39:33.351Z"
   },
   {
    "duration": 4,
    "start_time": "2025-02-11T08:39:33.357Z"
   },
   {
    "duration": 9,
    "start_time": "2025-02-11T08:39:33.363Z"
   },
   {
    "duration": 251,
    "start_time": "2025-02-11T08:39:33.373Z"
   },
   {
    "duration": 34,
    "start_time": "2025-02-11T08:39:33.625Z"
   },
   {
    "duration": 194,
    "start_time": "2025-02-11T08:39:33.664Z"
   },
   {
    "duration": 52,
    "start_time": "2025-02-11T08:39:33.860Z"
   },
   {
    "duration": 143,
    "start_time": "2025-02-11T08:39:33.915Z"
   },
   {
    "duration": 22,
    "start_time": "2025-02-11T08:39:34.060Z"
   },
   {
    "duration": 77,
    "start_time": "2025-02-11T08:39:34.085Z"
   },
   {
    "duration": 94,
    "start_time": "2025-02-11T08:39:34.164Z"
   },
   {
    "duration": 7,
    "start_time": "2025-02-11T08:39:34.260Z"
   },
   {
    "duration": 4,
    "start_time": "2025-02-11T08:39:34.268Z"
   },
   {
    "duration": 14,
    "start_time": "2025-02-11T08:39:34.273Z"
   },
   {
    "duration": 3,
    "start_time": "2025-02-11T08:39:34.288Z"
   },
   {
    "duration": 6,
    "start_time": "2025-02-11T08:39:34.293Z"
   },
   {
    "duration": 4,
    "start_time": "2025-02-11T08:39:34.300Z"
   },
   {
    "duration": 6,
    "start_time": "2025-02-11T08:39:34.305Z"
   },
   {
    "duration": 14,
    "start_time": "2025-02-11T08:39:34.312Z"
   },
   {
    "duration": 32,
    "start_time": "2025-02-11T08:39:34.327Z"
   },
   {
    "duration": 7,
    "start_time": "2025-02-11T08:39:34.360Z"
   },
   {
    "duration": 21,
    "start_time": "2025-02-11T08:39:34.368Z"
   },
   {
    "duration": 3,
    "start_time": "2025-02-11T08:47:25.538Z"
   },
   {
    "duration": 3,
    "start_time": "2025-02-11T08:47:55.794Z"
   },
   {
    "duration": 3,
    "start_time": "2025-02-11T08:49:33.850Z"
   },
   {
    "duration": 3,
    "start_time": "2025-02-11T08:49:33.995Z"
   },
   {
    "duration": 3,
    "start_time": "2025-02-11T08:49:34.103Z"
   },
   {
    "duration": 3,
    "start_time": "2025-02-11T08:51:31.827Z"
   },
   {
    "duration": 4,
    "start_time": "2025-02-11T08:51:35.662Z"
   },
   {
    "duration": 4,
    "start_time": "2025-02-11T08:52:44.322Z"
   },
   {
    "duration": 3,
    "start_time": "2025-02-11T08:57:18.013Z"
   },
   {
    "duration": 2403,
    "start_time": "2025-02-11T09:00:45.719Z"
   },
   {
    "duration": 1416,
    "start_time": "2025-02-11T09:00:48.124Z"
   },
   {
    "duration": 153,
    "start_time": "2025-02-11T09:00:49.541Z"
   },
   {
    "duration": 16,
    "start_time": "2025-02-11T09:00:49.696Z"
   },
   {
    "duration": 139,
    "start_time": "2025-02-11T09:00:49.714Z"
   },
   {
    "duration": 15,
    "start_time": "2025-02-11T09:00:49.855Z"
   },
   {
    "duration": 145,
    "start_time": "2025-02-11T09:00:49.871Z"
   },
   {
    "duration": 14,
    "start_time": "2025-02-11T09:00:50.018Z"
   },
   {
    "duration": 25,
    "start_time": "2025-02-11T09:00:50.034Z"
   },
   {
    "duration": 13,
    "start_time": "2025-02-11T09:00:50.062Z"
   },
   {
    "duration": 14,
    "start_time": "2025-02-11T09:00:50.077Z"
   },
   {
    "duration": 6,
    "start_time": "2025-02-11T09:00:50.093Z"
   },
   {
    "duration": 24,
    "start_time": "2025-02-11T09:00:50.101Z"
   },
   {
    "duration": 5,
    "start_time": "2025-02-11T09:00:50.127Z"
   },
   {
    "duration": 55,
    "start_time": "2025-02-11T09:00:50.134Z"
   },
   {
    "duration": 24,
    "start_time": "2025-02-11T09:00:50.190Z"
   },
   {
    "duration": 49,
    "start_time": "2025-02-11T09:00:50.216Z"
   },
   {
    "duration": 915,
    "start_time": "2025-02-11T09:00:50.266Z"
   },
   {
    "duration": 3,
    "start_time": "2025-02-11T09:00:51.183Z"
   },
   {
    "duration": 705,
    "start_time": "2025-02-11T09:00:51.187Z"
   },
   {
    "duration": 869,
    "start_time": "2025-02-11T09:00:51.894Z"
   },
   {
    "duration": 576,
    "start_time": "2025-02-11T09:00:52.765Z"
   },
   {
    "duration": 3,
    "start_time": "2025-02-11T09:00:53.342Z"
   },
   {
    "duration": 926,
    "start_time": "2025-02-11T09:00:53.346Z"
   },
   {
    "duration": 566,
    "start_time": "2025-02-11T09:00:54.274Z"
   },
   {
    "duration": 3,
    "start_time": "2025-02-11T09:00:54.841Z"
   },
   {
    "duration": 3,
    "start_time": "2025-02-11T09:00:54.857Z"
   },
   {
    "duration": 2,
    "start_time": "2025-02-11T09:00:54.864Z"
   },
   {
    "duration": 2,
    "start_time": "2025-02-11T09:00:54.868Z"
   },
   {
    "duration": 3,
    "start_time": "2025-02-11T09:00:54.872Z"
   },
   {
    "duration": 3,
    "start_time": "2025-02-11T09:00:54.876Z"
   },
   {
    "duration": 4,
    "start_time": "2025-02-11T09:00:54.881Z"
   },
   {
    "duration": 3,
    "start_time": "2025-02-11T09:00:54.886Z"
   },
   {
    "duration": 4,
    "start_time": "2025-02-11T09:00:54.890Z"
   },
   {
    "duration": 149,
    "start_time": "2025-02-11T09:00:54.895Z"
   },
   {
    "duration": 141,
    "start_time": "2025-02-11T09:00:55.046Z"
   },
   {
    "duration": 69,
    "start_time": "2025-02-11T09:00:55.189Z"
   },
   {
    "duration": 100,
    "start_time": "2025-02-11T09:00:55.260Z"
   },
   {
    "duration": 19,
    "start_time": "2025-02-11T09:00:55.362Z"
   },
   {
    "duration": 81,
    "start_time": "2025-02-11T09:00:55.383Z"
   },
   {
    "duration": 111,
    "start_time": "2025-02-11T09:00:55.466Z"
   },
   {
    "duration": 81,
    "start_time": "2025-02-11T09:00:55.579Z"
   },
   {
    "duration": 4,
    "start_time": "2025-02-11T09:00:55.662Z"
   },
   {
    "duration": 6,
    "start_time": "2025-02-11T09:00:55.758Z"
   },
   {
    "duration": 3,
    "start_time": "2025-02-11T09:00:55.765Z"
   },
   {
    "duration": 4,
    "start_time": "2025-02-11T09:00:55.769Z"
   },
   {
    "duration": 4,
    "start_time": "2025-02-11T09:00:55.774Z"
   },
   {
    "duration": 5,
    "start_time": "2025-02-11T09:00:55.779Z"
   },
   {
    "duration": 3,
    "start_time": "2025-02-11T09:00:55.785Z"
   },
   {
    "duration": 4,
    "start_time": "2025-02-11T09:00:55.790Z"
   },
   {
    "duration": 2,
    "start_time": "2025-02-11T09:00:55.796Z"
   },
   {
    "duration": 5,
    "start_time": "2025-02-11T09:00:55.799Z"
   },
   {
    "duration": 4,
    "start_time": "2025-02-11T09:00:55.805Z"
   },
   {
    "duration": 5,
    "start_time": "2025-02-11T09:00:55.859Z"
   },
   {
    "duration": 3,
    "start_time": "2025-02-11T09:00:55.865Z"
   },
   {
    "duration": 3,
    "start_time": "2025-02-11T09:00:55.870Z"
   },
   {
    "duration": 4,
    "start_time": "2025-02-11T09:00:55.874Z"
   },
   {
    "duration": 4,
    "start_time": "2025-02-11T09:00:55.879Z"
   },
   {
    "duration": 1401,
    "start_time": "2025-02-11T11:30:13.488Z"
   },
   {
    "duration": 3698,
    "start_time": "2025-02-11T11:30:21.572Z"
   },
   {
    "duration": 1461,
    "start_time": "2025-02-11T11:30:25.272Z"
   },
   {
    "duration": 159,
    "start_time": "2025-02-11T11:30:26.734Z"
   },
   {
    "duration": 14,
    "start_time": "2025-02-11T11:30:26.895Z"
   },
   {
    "duration": 165,
    "start_time": "2025-02-11T11:30:26.911Z"
   },
   {
    "duration": 16,
    "start_time": "2025-02-11T11:30:27.078Z"
   },
   {
    "duration": 191,
    "start_time": "2025-02-11T11:30:27.095Z"
   },
   {
    "duration": 15,
    "start_time": "2025-02-11T11:30:27.287Z"
   },
   {
    "duration": 13,
    "start_time": "2025-02-11T11:30:27.303Z"
   },
   {
    "duration": 13,
    "start_time": "2025-02-11T11:30:27.317Z"
   },
   {
    "duration": 23,
    "start_time": "2025-02-11T11:30:27.332Z"
   },
   {
    "duration": 11,
    "start_time": "2025-02-11T11:30:27.357Z"
   },
   {
    "duration": 25,
    "start_time": "2025-02-11T11:30:27.370Z"
   },
   {
    "duration": 91,
    "start_time": "2025-02-11T11:30:27.399Z"
   },
   {
    "duration": 94,
    "start_time": "2025-02-11T11:30:27.492Z"
   },
   {
    "duration": 28,
    "start_time": "2025-02-11T11:30:27.587Z"
   },
   {
    "duration": 47,
    "start_time": "2025-02-11T11:30:27.617Z"
   },
   {
    "duration": 917,
    "start_time": "2025-02-11T11:30:27.666Z"
   },
   {
    "duration": 3,
    "start_time": "2025-02-11T11:30:28.584Z"
   },
   {
    "duration": 723,
    "start_time": "2025-02-11T11:30:28.588Z"
   },
   {
    "duration": 811,
    "start_time": "2025-02-11T11:30:29.312Z"
   },
   {
    "duration": 600,
    "start_time": "2025-02-11T11:30:30.124Z"
   },
   {
    "duration": 854,
    "start_time": "2025-02-11T11:30:30.725Z"
   },
   {
    "duration": 544,
    "start_time": "2025-02-11T11:30:31.581Z"
   },
   {
    "duration": 3,
    "start_time": "2025-02-11T11:30:32.126Z"
   },
   {
    "duration": 11,
    "start_time": "2025-02-11T11:30:32.130Z"
   },
   {
    "duration": 43,
    "start_time": "2025-02-11T11:30:32.142Z"
   },
   {
    "duration": 11,
    "start_time": "2025-02-11T11:30:32.186Z"
   },
   {
    "duration": 5,
    "start_time": "2025-02-11T11:30:32.198Z"
   },
   {
    "duration": 12,
    "start_time": "2025-02-11T11:30:32.204Z"
   },
   {
    "duration": 43,
    "start_time": "2025-02-11T11:30:32.217Z"
   },
   {
    "duration": 18,
    "start_time": "2025-02-11T11:30:32.261Z"
   },
   {
    "duration": 15,
    "start_time": "2025-02-11T11:30:32.280Z"
   },
   {
    "duration": 114,
    "start_time": "2025-02-11T11:30:32.297Z"
   },
   {
    "duration": 220,
    "start_time": "2025-02-11T11:30:32.412Z"
   },
   {
    "duration": 27,
    "start_time": "2025-02-11T11:30:32.633Z"
   },
   {
    "duration": 91,
    "start_time": "2025-02-11T11:30:32.661Z"
   },
   {
    "duration": 123,
    "start_time": "2025-02-11T11:30:32.754Z"
   },
   {
    "duration": 71,
    "start_time": "2025-02-11T11:30:32.879Z"
   },
   {
    "duration": 134,
    "start_time": "2025-02-11T11:30:32.952Z"
   },
   {
    "duration": 161,
    "start_time": "2025-02-11T11:30:33.093Z"
   },
   {
    "duration": 11,
    "start_time": "2025-02-11T11:30:33.256Z"
   },
   {
    "duration": 27,
    "start_time": "2025-02-11T11:30:33.269Z"
   },
   {
    "duration": 101,
    "start_time": "2025-02-11T11:30:33.297Z"
   },
   {
    "duration": 135,
    "start_time": "2025-02-11T11:30:33.400Z"
   },
   {
    "duration": 15,
    "start_time": "2025-02-11T11:30:33.537Z"
   },
   {
    "duration": 19,
    "start_time": "2025-02-11T11:30:33.553Z"
   },
   {
    "duration": 13,
    "start_time": "2025-02-11T11:30:33.574Z"
   },
   {
    "duration": 12,
    "start_time": "2025-02-11T11:30:33.589Z"
   },
   {
    "duration": 10,
    "start_time": "2025-02-11T11:30:33.603Z"
   },
   {
    "duration": 16,
    "start_time": "2025-02-11T11:30:33.615Z"
   },
   {
    "duration": 9,
    "start_time": "2025-02-11T11:30:33.633Z"
   },
   {
    "duration": 53,
    "start_time": "2025-02-11T11:30:33.643Z"
   },
   {
    "duration": 3,
    "start_time": "2025-02-11T11:30:33.698Z"
   },
   {
    "duration": 4,
    "start_time": "2025-02-11T11:30:33.702Z"
   },
   {
    "duration": 14,
    "start_time": "2025-02-11T11:30:33.708Z"
   },
   {
    "duration": 9,
    "start_time": "2025-02-11T11:30:33.724Z"
   },
   {
    "duration": 26,
    "start_time": "2025-02-11T11:30:33.735Z"
   },
   {
    "duration": 110,
    "start_time": "2025-02-11T11:30:33.763Z"
   },
   {
    "duration": 5,
    "start_time": "2025-02-11T11:34:49.445Z"
   },
   {
    "duration": 13,
    "start_time": "2025-02-11T11:36:39.485Z"
   },
   {
    "duration": 12,
    "start_time": "2025-02-11T11:36:42.557Z"
   },
   {
    "duration": 88,
    "start_time": "2025-02-11T11:37:08.433Z"
   },
   {
    "duration": 25,
    "start_time": "2025-02-11T11:37:11.326Z"
   },
   {
    "duration": 1943,
    "start_time": "2025-02-11T11:39:35.209Z"
   },
   {
    "duration": 1900,
    "start_time": "2025-02-11T11:39:47.649Z"
   },
   {
    "duration": 1954,
    "start_time": "2025-02-11T11:40:17.611Z"
   },
   {
    "duration": 1998,
    "start_time": "2025-02-11T11:40:44.397Z"
   },
   {
    "duration": 1982,
    "start_time": "2025-02-11T11:42:00.232Z"
   },
   {
    "duration": 1957,
    "start_time": "2025-02-11T11:42:02.215Z"
   },
   {
    "duration": 1924,
    "start_time": "2025-02-11T11:43:05.675Z"
   },
   {
    "duration": 1828,
    "start_time": "2025-02-11T11:43:32.888Z"
   },
   {
    "duration": 1952,
    "start_time": "2025-02-11T11:43:56.552Z"
   },
   {
    "duration": 1917,
    "start_time": "2025-02-11T11:44:20.963Z"
   },
   {
    "duration": 4,
    "start_time": "2025-02-11T11:44:46.871Z"
   },
   {
    "duration": 1871,
    "start_time": "2025-02-11T11:51:37.523Z"
   },
   {
    "duration": 1870,
    "start_time": "2025-02-11T11:51:43.249Z"
   },
   {
    "duration": 1896,
    "start_time": "2025-02-11T11:52:08.795Z"
   },
   {
    "duration": 1918,
    "start_time": "2025-02-11T11:52:10.693Z"
   },
   {
    "duration": 75,
    "start_time": "2025-02-11T11:53:32.332Z"
   },
   {
    "duration": 66,
    "start_time": "2025-02-11T11:53:36.195Z"
   },
   {
    "duration": 69,
    "start_time": "2025-02-11T11:53:41.647Z"
   },
   {
    "duration": 1892,
    "start_time": "2025-02-11T11:53:45.244Z"
   },
   {
    "duration": 1915,
    "start_time": "2025-02-11T11:53:58.634Z"
   },
   {
    "duration": 1889,
    "start_time": "2025-02-11T11:55:43.961Z"
   },
   {
    "duration": 1886,
    "start_time": "2025-02-11T12:01:37.075Z"
   },
   {
    "duration": 1904,
    "start_time": "2025-02-11T12:03:36.523Z"
   },
   {
    "duration": 1954,
    "start_time": "2025-02-11T12:03:58.653Z"
   },
   {
    "duration": 1944,
    "start_time": "2025-02-11T12:04:06.303Z"
   },
   {
    "duration": 1845,
    "start_time": "2025-02-11T12:05:22.172Z"
   },
   {
    "duration": 1910,
    "start_time": "2025-02-11T12:05:25.451Z"
   },
   {
    "duration": 1828,
    "start_time": "2025-02-11T12:05:32.834Z"
   },
   {
    "duration": 1830,
    "start_time": "2025-02-11T12:06:43.443Z"
   },
   {
    "duration": 2009,
    "start_time": "2025-02-11T12:07:08.026Z"
   },
   {
    "duration": 1925,
    "start_time": "2025-02-11T12:07:20.876Z"
   },
   {
    "duration": 1915,
    "start_time": "2025-02-11T12:07:40.927Z"
   },
   {
    "duration": 1890,
    "start_time": "2025-02-11T12:07:53.273Z"
   },
   {
    "duration": 1891,
    "start_time": "2025-02-11T12:08:01.529Z"
   },
   {
    "duration": 2009,
    "start_time": "2025-02-11T12:08:09.472Z"
   },
   {
    "duration": 1949,
    "start_time": "2025-02-11T12:08:15.593Z"
   },
   {
    "duration": 2125,
    "start_time": "2025-02-11T12:08:47.252Z"
   },
   {
    "duration": 1904,
    "start_time": "2025-02-11T12:08:50.192Z"
   },
   {
    "duration": 1908,
    "start_time": "2025-02-11T12:09:22.169Z"
   },
   {
    "duration": 1891,
    "start_time": "2025-02-11T12:09:27.091Z"
   },
   {
    "duration": 1871,
    "start_time": "2025-02-11T12:09:32.529Z"
   },
   {
    "duration": 3720,
    "start_time": "2025-02-11T14:42:08.589Z"
   },
   {
    "duration": 1792,
    "start_time": "2025-02-11T14:42:12.312Z"
   },
   {
    "duration": 162,
    "start_time": "2025-02-11T14:42:14.106Z"
   },
   {
    "duration": 16,
    "start_time": "2025-02-11T14:42:14.270Z"
   },
   {
    "duration": 144,
    "start_time": "2025-02-11T14:42:14.288Z"
   },
   {
    "duration": 15,
    "start_time": "2025-02-11T14:42:14.434Z"
   },
   {
    "duration": 159,
    "start_time": "2025-02-11T14:42:14.451Z"
   },
   {
    "duration": 16,
    "start_time": "2025-02-11T14:42:14.612Z"
   },
   {
    "duration": 12,
    "start_time": "2025-02-11T14:42:14.630Z"
   },
   {
    "duration": 27,
    "start_time": "2025-02-11T14:42:14.645Z"
   },
   {
    "duration": 32,
    "start_time": "2025-02-11T14:42:14.673Z"
   },
   {
    "duration": 7,
    "start_time": "2025-02-11T14:42:14.707Z"
   },
   {
    "duration": 6,
    "start_time": "2025-02-11T14:42:14.715Z"
   },
   {
    "duration": 6,
    "start_time": "2025-02-11T14:42:14.723Z"
   },
   {
    "duration": 70,
    "start_time": "2025-02-11T14:42:14.730Z"
   },
   {
    "duration": 29,
    "start_time": "2025-02-11T14:42:14.802Z"
   },
   {
    "duration": 36,
    "start_time": "2025-02-11T14:42:14.833Z"
   },
   {
    "duration": 1067,
    "start_time": "2025-02-11T14:42:14.871Z"
   },
   {
    "duration": 3,
    "start_time": "2025-02-11T14:42:15.940Z"
   },
   {
    "duration": 696,
    "start_time": "2025-02-11T14:42:15.945Z"
   },
   {
    "duration": 925,
    "start_time": "2025-02-11T14:42:16.643Z"
   },
   {
    "duration": 622,
    "start_time": "2025-02-11T14:42:17.570Z"
   },
   {
    "duration": 936,
    "start_time": "2025-02-11T14:42:18.199Z"
   },
   {
    "duration": 743,
    "start_time": "2025-02-11T14:42:19.137Z"
   },
   {
    "duration": 3,
    "start_time": "2025-02-11T14:42:19.881Z"
   },
   {
    "duration": 139,
    "start_time": "2025-02-11T14:42:19.886Z"
   },
   {
    "duration": 0,
    "start_time": "2025-02-11T14:42:20.028Z"
   },
   {
    "duration": 0,
    "start_time": "2025-02-11T14:42:20.030Z"
   },
   {
    "duration": 0,
    "start_time": "2025-02-11T14:42:20.031Z"
   },
   {
    "duration": 0,
    "start_time": "2025-02-11T14:42:20.033Z"
   },
   {
    "duration": 0,
    "start_time": "2025-02-11T14:42:20.035Z"
   },
   {
    "duration": 0,
    "start_time": "2025-02-11T14:42:20.036Z"
   },
   {
    "duration": 0,
    "start_time": "2025-02-11T14:42:20.038Z"
   },
   {
    "duration": 0,
    "start_time": "2025-02-11T14:42:20.039Z"
   },
   {
    "duration": 0,
    "start_time": "2025-02-11T14:42:20.041Z"
   },
   {
    "duration": 0,
    "start_time": "2025-02-11T14:42:20.042Z"
   },
   {
    "duration": 0,
    "start_time": "2025-02-11T14:42:20.044Z"
   },
   {
    "duration": 0,
    "start_time": "2025-02-11T14:42:20.045Z"
   },
   {
    "duration": 0,
    "start_time": "2025-02-11T14:42:20.046Z"
   },
   {
    "duration": 0,
    "start_time": "2025-02-11T14:42:20.048Z"
   },
   {
    "duration": 0,
    "start_time": "2025-02-11T14:42:20.050Z"
   },
   {
    "duration": 0,
    "start_time": "2025-02-11T14:42:20.052Z"
   },
   {
    "duration": 0,
    "start_time": "2025-02-11T14:42:20.053Z"
   },
   {
    "duration": 0,
    "start_time": "2025-02-11T14:42:20.055Z"
   },
   {
    "duration": 0,
    "start_time": "2025-02-11T14:42:20.056Z"
   },
   {
    "duration": 0,
    "start_time": "2025-02-11T14:42:20.098Z"
   },
   {
    "duration": 0,
    "start_time": "2025-02-11T14:42:20.101Z"
   },
   {
    "duration": 0,
    "start_time": "2025-02-11T14:42:20.102Z"
   },
   {
    "duration": 0,
    "start_time": "2025-02-11T14:42:20.104Z"
   },
   {
    "duration": 0,
    "start_time": "2025-02-11T14:42:20.105Z"
   },
   {
    "duration": 0,
    "start_time": "2025-02-11T14:42:20.107Z"
   },
   {
    "duration": 0,
    "start_time": "2025-02-11T14:42:20.108Z"
   },
   {
    "duration": 0,
    "start_time": "2025-02-11T14:42:20.110Z"
   },
   {
    "duration": 0,
    "start_time": "2025-02-11T14:42:20.111Z"
   },
   {
    "duration": 0,
    "start_time": "2025-02-11T14:42:20.113Z"
   },
   {
    "duration": 3,
    "start_time": "2025-02-11T14:42:29.125Z"
   },
   {
    "duration": 3,
    "start_time": "2025-02-11T14:42:29.959Z"
   },
   {
    "duration": 8,
    "start_time": "2025-02-11T14:42:31.551Z"
   },
   {
    "duration": 138,
    "start_time": "2025-02-11T14:42:32.080Z"
   },
   {
    "duration": 25,
    "start_time": "2025-02-11T14:42:32.220Z"
   },
   {
    "duration": 98,
    "start_time": "2025-02-11T14:42:32.307Z"
   },
   {
    "duration": 26,
    "start_time": "2025-02-11T14:42:32.407Z"
   },
   {
    "duration": 164,
    "start_time": "2025-02-11T14:42:32.436Z"
   },
   {
    "duration": 22,
    "start_time": "2025-02-11T14:42:32.602Z"
   },
   {
    "duration": 9,
    "start_time": "2025-02-11T14:42:33.123Z"
   },
   {
    "duration": 3,
    "start_time": "2025-02-11T14:42:37.059Z"
   },
   {
    "duration": 6,
    "start_time": "2025-02-11T14:42:37.317Z"
   },
   {
    "duration": 4,
    "start_time": "2025-02-11T14:42:37.594Z"
   },
   {
    "duration": 5,
    "start_time": "2025-02-11T14:42:37.717Z"
   },
   {
    "duration": 3,
    "start_time": "2025-02-11T14:42:38.142Z"
   },
   {
    "duration": 5,
    "start_time": "2025-02-11T14:42:38.404Z"
   },
   {
    "duration": 3,
    "start_time": "2025-02-11T14:42:38.692Z"
   },
   {
    "duration": 4,
    "start_time": "2025-02-11T14:42:38.833Z"
   },
   {
    "duration": 2,
    "start_time": "2025-02-11T14:42:39.475Z"
   },
   {
    "duration": 5,
    "start_time": "2025-02-11T14:42:39.763Z"
   },
   {
    "duration": 4,
    "start_time": "2025-02-11T14:42:40.055Z"
   },
   {
    "duration": 5,
    "start_time": "2025-02-11T14:42:40.217Z"
   },
   {
    "duration": 3,
    "start_time": "2025-02-11T14:42:41.406Z"
   },
   {
    "duration": 3,
    "start_time": "2025-02-11T14:42:41.593Z"
   },
   {
    "duration": 3,
    "start_time": "2025-02-11T14:42:41.782Z"
   },
   {
    "duration": 4,
    "start_time": "2025-02-11T14:42:42.057Z"
   },
   {
    "duration": 3,
    "start_time": "2025-02-11T14:42:42.643Z"
   },
   {
    "duration": 2043,
    "start_time": "2025-02-11T14:42:42.806Z"
   },
   {
    "duration": 2037,
    "start_time": "2025-02-11T14:42:44.851Z"
   },
   {
    "duration": 1986,
    "start_time": "2025-02-11T14:42:46.890Z"
   },
   {
    "duration": 4,
    "start_time": "2025-02-11T14:44:12.685Z"
   },
   {
    "duration": 3,
    "start_time": "2025-02-11T14:45:43.503Z"
   },
   {
    "duration": 8,
    "start_time": "2025-02-11T14:49:00.236Z"
   },
   {
    "duration": 1959,
    "start_time": "2025-02-11T14:49:17.380Z"
   },
   {
    "duration": 8,
    "start_time": "2025-02-11T14:55:12.389Z"
   },
   {
    "duration": 8,
    "start_time": "2025-02-11T14:56:10.634Z"
   },
   {
    "duration": 2625,
    "start_time": "2025-02-11T14:56:18.196Z"
   },
   {
    "duration": 1601,
    "start_time": "2025-02-11T14:56:20.824Z"
   },
   {
    "duration": 171,
    "start_time": "2025-02-11T14:56:22.427Z"
   },
   {
    "duration": 18,
    "start_time": "2025-02-11T14:56:22.600Z"
   },
   {
    "duration": 146,
    "start_time": "2025-02-11T14:56:22.620Z"
   },
   {
    "duration": 16,
    "start_time": "2025-02-11T14:56:22.768Z"
   },
   {
    "duration": 148,
    "start_time": "2025-02-11T14:56:22.785Z"
   },
   {
    "duration": 15,
    "start_time": "2025-02-11T14:56:22.934Z"
   },
   {
    "duration": 12,
    "start_time": "2025-02-11T14:56:22.951Z"
   },
   {
    "duration": 35,
    "start_time": "2025-02-11T14:56:22.965Z"
   },
   {
    "duration": 16,
    "start_time": "2025-02-11T14:56:23.002Z"
   },
   {
    "duration": 7,
    "start_time": "2025-02-11T14:56:23.019Z"
   },
   {
    "duration": 6,
    "start_time": "2025-02-11T14:56:23.027Z"
   },
   {
    "duration": 6,
    "start_time": "2025-02-11T14:56:23.035Z"
   },
   {
    "duration": 67,
    "start_time": "2025-02-11T14:56:23.043Z"
   },
   {
    "duration": 27,
    "start_time": "2025-02-11T14:56:23.112Z"
   },
   {
    "duration": 36,
    "start_time": "2025-02-11T14:56:23.141Z"
   },
   {
    "duration": 991,
    "start_time": "2025-02-11T14:56:23.179Z"
   },
   {
    "duration": 3,
    "start_time": "2025-02-11T14:56:24.171Z"
   },
   {
    "duration": 746,
    "start_time": "2025-02-11T14:56:24.175Z"
   },
   {
    "duration": 912,
    "start_time": "2025-02-11T14:56:24.923Z"
   },
   {
    "duration": 644,
    "start_time": "2025-02-11T14:56:25.837Z"
   },
   {
    "duration": 943,
    "start_time": "2025-02-11T14:56:26.483Z"
   },
   {
    "duration": 647,
    "start_time": "2025-02-11T14:56:27.428Z"
   },
   {
    "duration": 3,
    "start_time": "2025-02-11T14:56:28.077Z"
   },
   {
    "duration": 18,
    "start_time": "2025-02-11T14:56:28.081Z"
   },
   {
    "duration": 6,
    "start_time": "2025-02-11T14:56:28.101Z"
   },
   {
    "duration": 16,
    "start_time": "2025-02-11T14:56:28.110Z"
   },
   {
    "duration": 261,
    "start_time": "2025-02-11T14:56:28.128Z"
   },
   {
    "duration": 33,
    "start_time": "2025-02-11T14:56:28.391Z"
   },
   {
    "duration": 102,
    "start_time": "2025-02-11T14:56:28.501Z"
   },
   {
    "duration": 22,
    "start_time": "2025-02-11T14:56:28.604Z"
   },
   {
    "duration": 169,
    "start_time": "2025-02-11T14:56:28.629Z"
   },
   {
    "duration": 24,
    "start_time": "2025-02-11T14:56:28.800Z"
   },
   {
    "duration": 83,
    "start_time": "2025-02-11T14:56:28.826Z"
   },
   {
    "duration": 10,
    "start_time": "2025-02-11T14:56:29.000Z"
   },
   {
    "duration": 21,
    "start_time": "2025-02-11T14:56:29.012Z"
   },
   {
    "duration": 14,
    "start_time": "2025-02-11T14:56:29.035Z"
   },
   {
    "duration": 19,
    "start_time": "2025-02-11T14:56:29.051Z"
   },
   {
    "duration": 7,
    "start_time": "2025-02-11T14:56:29.071Z"
   },
   {
    "duration": 17,
    "start_time": "2025-02-11T14:56:29.080Z"
   },
   {
    "duration": 3,
    "start_time": "2025-02-11T14:56:29.099Z"
   },
   {
    "duration": 6,
    "start_time": "2025-02-11T14:56:29.104Z"
   },
   {
    "duration": 5,
    "start_time": "2025-02-11T14:56:29.111Z"
   },
   {
    "duration": 16,
    "start_time": "2025-02-11T14:56:29.118Z"
   },
   {
    "duration": 18,
    "start_time": "2025-02-11T14:56:29.136Z"
   },
   {
    "duration": 11,
    "start_time": "2025-02-11T14:56:29.156Z"
   },
   {
    "duration": 3,
    "start_time": "2025-02-11T14:56:29.169Z"
   },
   {
    "duration": 4,
    "start_time": "2025-02-11T14:56:29.174Z"
   },
   {
    "duration": 12,
    "start_time": "2025-02-11T14:56:29.180Z"
   },
   {
    "duration": 5,
    "start_time": "2025-02-11T14:56:29.194Z"
   },
   {
    "duration": 5,
    "start_time": "2025-02-11T14:56:29.201Z"
   },
   {
    "duration": 2092,
    "start_time": "2025-02-11T14:56:29.207Z"
   },
   {
    "duration": 8,
    "start_time": "2025-02-11T14:56:31.301Z"
   },
   {
    "duration": 2059,
    "start_time": "2025-02-11T14:56:31.311Z"
   },
   {
    "duration": 8,
    "start_time": "2025-02-11T14:56:33.371Z"
   },
   {
    "duration": 2085,
    "start_time": "2025-02-11T14:56:33.380Z"
   },
   {
    "duration": 8,
    "start_time": "2025-02-11T14:56:35.467Z"
   },
   {
    "duration": 2753,
    "start_time": "2025-02-11T16:50:00.690Z"
   },
   {
    "duration": 1584,
    "start_time": "2025-02-11T16:50:03.446Z"
   },
   {
    "duration": 159,
    "start_time": "2025-02-11T16:50:05.032Z"
   },
   {
    "duration": 20,
    "start_time": "2025-02-11T16:50:05.193Z"
   },
   {
    "duration": 158,
    "start_time": "2025-02-11T16:50:05.215Z"
   },
   {
    "duration": 28,
    "start_time": "2025-02-11T16:50:05.374Z"
   },
   {
    "duration": 147,
    "start_time": "2025-02-11T16:50:05.404Z"
   },
   {
    "duration": 16,
    "start_time": "2025-02-11T16:50:05.553Z"
   },
   {
    "duration": 30,
    "start_time": "2025-02-11T16:50:05.571Z"
   },
   {
    "duration": 14,
    "start_time": "2025-02-11T16:50:05.605Z"
   },
   {
    "duration": 15,
    "start_time": "2025-02-11T16:50:05.621Z"
   },
   {
    "duration": 19,
    "start_time": "2025-02-11T16:50:05.638Z"
   },
   {
    "duration": 28,
    "start_time": "2025-02-11T16:50:05.659Z"
   },
   {
    "duration": 29,
    "start_time": "2025-02-11T16:50:05.689Z"
   },
   {
    "duration": 52,
    "start_time": "2025-02-11T16:50:05.720Z"
   },
   {
    "duration": 28,
    "start_time": "2025-02-11T16:50:05.774Z"
   },
   {
    "duration": 47,
    "start_time": "2025-02-11T16:50:05.804Z"
   },
   {
    "duration": 972,
    "start_time": "2025-02-11T16:50:05.853Z"
   },
   {
    "duration": 3,
    "start_time": "2025-02-11T16:50:06.827Z"
   },
   {
    "duration": 745,
    "start_time": "2025-02-11T16:50:06.831Z"
   },
   {
    "duration": 929,
    "start_time": "2025-02-11T16:50:07.577Z"
   },
   {
    "duration": 664,
    "start_time": "2025-02-11T16:50:08.508Z"
   },
   {
    "duration": 930,
    "start_time": "2025-02-11T16:50:09.174Z"
   },
   {
    "duration": 681,
    "start_time": "2025-02-11T16:50:10.105Z"
   },
   {
    "duration": 13,
    "start_time": "2025-02-11T16:50:10.787Z"
   },
   {
    "duration": 15,
    "start_time": "2025-02-11T16:50:10.801Z"
   },
   {
    "duration": 14,
    "start_time": "2025-02-11T16:50:10.817Z"
   },
   {
    "duration": 15,
    "start_time": "2025-02-11T16:50:10.835Z"
   },
   {
    "duration": 276,
    "start_time": "2025-02-11T16:50:10.852Z"
   },
   {
    "duration": 24,
    "start_time": "2025-02-11T16:50:11.130Z"
   },
   {
    "duration": 148,
    "start_time": "2025-02-11T16:50:11.157Z"
   },
   {
    "duration": 93,
    "start_time": "2025-02-11T16:50:11.307Z"
   },
   {
    "duration": 98,
    "start_time": "2025-02-11T16:50:11.402Z"
   },
   {
    "duration": 26,
    "start_time": "2025-02-11T16:50:11.502Z"
   },
   {
    "duration": 170,
    "start_time": "2025-02-11T16:50:11.530Z"
   },
   {
    "duration": 4,
    "start_time": "2025-02-11T16:50:11.701Z"
   },
   {
    "duration": 8,
    "start_time": "2025-02-11T16:50:11.706Z"
   },
   {
    "duration": 3,
    "start_time": "2025-02-11T16:50:11.716Z"
   },
   {
    "duration": 5,
    "start_time": "2025-02-11T16:50:11.721Z"
   },
   {
    "duration": 4,
    "start_time": "2025-02-11T16:50:11.727Z"
   },
   {
    "duration": 8,
    "start_time": "2025-02-11T16:50:11.732Z"
   },
   {
    "duration": 3,
    "start_time": "2025-02-11T16:50:11.741Z"
   },
   {
    "duration": 6,
    "start_time": "2025-02-11T16:50:11.746Z"
   },
   {
    "duration": 46,
    "start_time": "2025-02-11T16:50:11.753Z"
   },
   {
    "duration": 18,
    "start_time": "2025-02-11T16:50:11.801Z"
   },
   {
    "duration": 4,
    "start_time": "2025-02-11T16:50:11.820Z"
   },
   {
    "duration": 12,
    "start_time": "2025-02-11T16:50:11.825Z"
   },
   {
    "duration": 3,
    "start_time": "2025-02-11T16:50:11.839Z"
   },
   {
    "duration": 9,
    "start_time": "2025-02-11T16:50:11.843Z"
   },
   {
    "duration": 9,
    "start_time": "2025-02-11T16:50:11.853Z"
   },
   {
    "duration": 4,
    "start_time": "2025-02-11T16:50:11.864Z"
   },
   {
    "duration": 8,
    "start_time": "2025-02-11T16:50:11.869Z"
   },
   {
    "duration": 2052,
    "start_time": "2025-02-11T16:50:11.878Z"
   },
   {
    "duration": 12,
    "start_time": "2025-02-11T16:50:13.933Z"
   },
   {
    "duration": 2080,
    "start_time": "2025-02-11T16:50:13.948Z"
   },
   {
    "duration": 9,
    "start_time": "2025-02-11T16:50:16.029Z"
   },
   {
    "duration": 2024,
    "start_time": "2025-02-11T16:50:16.040Z"
   },
   {
    "duration": 7,
    "start_time": "2025-02-11T16:50:18.066Z"
   },
   {
    "duration": 929,
    "start_time": "2025-02-11T16:53:20.959Z"
   },
   {
    "duration": 957,
    "start_time": "2025-02-11T16:53:54.007Z"
   },
   {
    "duration": 1118,
    "start_time": "2025-02-11T16:55:29.529Z"
   },
   {
    "duration": 985,
    "start_time": "2025-02-11T16:59:34.292Z"
   },
   {
    "duration": 989,
    "start_time": "2025-02-11T17:00:43.931Z"
   },
   {
    "duration": 2698,
    "start_time": "2025-02-11T17:17:03.462Z"
   },
   {
    "duration": 1510,
    "start_time": "2025-02-11T17:17:06.162Z"
   },
   {
    "duration": 172,
    "start_time": "2025-02-11T17:17:07.674Z"
   },
   {
    "duration": 16,
    "start_time": "2025-02-11T17:17:07.848Z"
   },
   {
    "duration": 156,
    "start_time": "2025-02-11T17:17:07.866Z"
   },
   {
    "duration": 15,
    "start_time": "2025-02-11T17:17:08.024Z"
   },
   {
    "duration": 161,
    "start_time": "2025-02-11T17:17:08.040Z"
   },
   {
    "duration": 17,
    "start_time": "2025-02-11T17:17:08.203Z"
   },
   {
    "duration": 14,
    "start_time": "2025-02-11T17:17:08.222Z"
   },
   {
    "duration": 33,
    "start_time": "2025-02-11T17:17:08.239Z"
   },
   {
    "duration": 147,
    "start_time": "2025-02-11T17:17:08.274Z"
   },
   {
    "duration": 6,
    "start_time": "2025-02-11T17:17:08.423Z"
   },
   {
    "duration": 6,
    "start_time": "2025-02-11T17:17:08.431Z"
   },
   {
    "duration": 14,
    "start_time": "2025-02-11T17:17:08.439Z"
   },
   {
    "duration": 55,
    "start_time": "2025-02-11T17:17:08.455Z"
   },
   {
    "duration": 29,
    "start_time": "2025-02-11T17:17:08.512Z"
   },
   {
    "duration": 60,
    "start_time": "2025-02-11T17:17:08.542Z"
   },
   {
    "duration": 1044,
    "start_time": "2025-02-11T17:17:08.603Z"
   },
   {
    "duration": 3,
    "start_time": "2025-02-11T17:17:09.649Z"
   },
   {
    "duration": 738,
    "start_time": "2025-02-11T17:17:09.654Z"
   },
   {
    "duration": 956,
    "start_time": "2025-02-11T17:17:10.400Z"
   },
   {
    "duration": 632,
    "start_time": "2025-02-11T17:17:11.359Z"
   },
   {
    "duration": 959,
    "start_time": "2025-02-11T17:17:11.992Z"
   },
   {
    "duration": 635,
    "start_time": "2025-02-11T17:17:12.952Z"
   },
   {
    "duration": 12,
    "start_time": "2025-02-11T17:17:13.589Z"
   },
   {
    "duration": 14,
    "start_time": "2025-02-11T17:17:13.602Z"
   },
   {
    "duration": 4,
    "start_time": "2025-02-11T17:17:13.617Z"
   },
   {
    "duration": 8,
    "start_time": "2025-02-11T17:17:13.624Z"
   },
   {
    "duration": 258,
    "start_time": "2025-02-11T17:17:13.633Z"
   },
   {
    "duration": 27,
    "start_time": "2025-02-11T17:17:13.893Z"
   },
   {
    "duration": 82,
    "start_time": "2025-02-11T17:17:13.922Z"
   },
   {
    "duration": 110,
    "start_time": "2025-02-11T17:17:14.006Z"
   },
   {
    "duration": 84,
    "start_time": "2025-02-11T17:17:14.119Z"
   },
   {
    "duration": 114,
    "start_time": "2025-02-11T17:17:14.205Z"
   },
   {
    "duration": 184,
    "start_time": "2025-02-11T17:17:14.322Z"
   },
   {
    "duration": 3,
    "start_time": "2025-02-11T17:17:14.508Z"
   },
   {
    "duration": 23,
    "start_time": "2025-02-11T17:17:14.513Z"
   },
   {
    "duration": 111,
    "start_time": "2025-02-11T17:17:14.537Z"
   },
   {
    "duration": 7,
    "start_time": "2025-02-11T17:17:14.649Z"
   },
   {
    "duration": 5,
    "start_time": "2025-02-11T17:17:14.657Z"
   },
   {
    "duration": 8,
    "start_time": "2025-02-11T17:17:14.664Z"
   },
   {
    "duration": 5,
    "start_time": "2025-02-11T17:17:14.674Z"
   },
   {
    "duration": 6,
    "start_time": "2025-02-11T17:17:14.680Z"
   },
   {
    "duration": 5,
    "start_time": "2025-02-11T17:17:14.687Z"
   },
   {
    "duration": 5,
    "start_time": "2025-02-11T17:17:14.694Z"
   },
   {
    "duration": 13,
    "start_time": "2025-02-11T17:17:14.700Z"
   },
   {
    "duration": 6,
    "start_time": "2025-02-11T17:17:14.715Z"
   },
   {
    "duration": 3,
    "start_time": "2025-02-11T17:17:14.723Z"
   },
   {
    "duration": 3,
    "start_time": "2025-02-11T17:17:14.728Z"
   },
   {
    "duration": 3,
    "start_time": "2025-02-11T17:17:14.733Z"
   },
   {
    "duration": 8,
    "start_time": "2025-02-11T17:17:14.737Z"
   },
   {
    "duration": 4,
    "start_time": "2025-02-11T17:17:14.746Z"
   },
   {
    "duration": 2098,
    "start_time": "2025-02-11T17:17:14.751Z"
   },
   {
    "duration": 7,
    "start_time": "2025-02-11T17:17:16.851Z"
   },
   {
    "duration": 2065,
    "start_time": "2025-02-11T17:17:16.860Z"
   },
   {
    "duration": 8,
    "start_time": "2025-02-11T17:17:18.927Z"
   },
   {
    "duration": 2083,
    "start_time": "2025-02-11T17:17:18.937Z"
   },
   {
    "duration": 7,
    "start_time": "2025-02-11T17:17:21.022Z"
   },
   {
    "duration": 2669,
    "start_time": "2025-02-11T17:17:59.663Z"
   },
   {
    "duration": 1522,
    "start_time": "2025-02-11T17:18:02.335Z"
   },
   {
    "duration": 195,
    "start_time": "2025-02-11T17:18:03.859Z"
   },
   {
    "duration": 16,
    "start_time": "2025-02-11T17:18:04.056Z"
   },
   {
    "duration": 169,
    "start_time": "2025-02-11T17:18:04.074Z"
   },
   {
    "duration": 16,
    "start_time": "2025-02-11T17:18:04.244Z"
   },
   {
    "duration": 155,
    "start_time": "2025-02-11T17:18:04.261Z"
   },
   {
    "duration": 16,
    "start_time": "2025-02-11T17:18:04.418Z"
   },
   {
    "duration": 15,
    "start_time": "2025-02-11T17:18:04.436Z"
   },
   {
    "duration": 16,
    "start_time": "2025-02-11T17:18:04.454Z"
   },
   {
    "duration": 39,
    "start_time": "2025-02-11T17:18:04.471Z"
   },
   {
    "duration": 6,
    "start_time": "2025-02-11T17:18:04.512Z"
   },
   {
    "duration": 41,
    "start_time": "2025-02-11T17:18:04.520Z"
   },
   {
    "duration": 35,
    "start_time": "2025-02-11T17:18:04.563Z"
   },
   {
    "duration": 40,
    "start_time": "2025-02-11T17:18:04.600Z"
   },
   {
    "duration": 28,
    "start_time": "2025-02-11T17:18:04.641Z"
   },
   {
    "duration": 57,
    "start_time": "2025-02-11T17:18:04.670Z"
   },
   {
    "duration": 1026,
    "start_time": "2025-02-11T17:18:04.729Z"
   },
   {
    "duration": 3,
    "start_time": "2025-02-11T17:18:05.756Z"
   },
   {
    "duration": 734,
    "start_time": "2025-02-11T17:18:05.760Z"
   },
   {
    "duration": 941,
    "start_time": "2025-02-11T17:18:06.500Z"
   },
   {
    "duration": 656,
    "start_time": "2025-02-11T17:18:07.443Z"
   },
   {
    "duration": 963,
    "start_time": "2025-02-11T17:18:08.101Z"
   },
   {
    "duration": 626,
    "start_time": "2025-02-11T17:18:09.066Z"
   },
   {
    "duration": 4,
    "start_time": "2025-02-11T17:18:09.698Z"
   },
   {
    "duration": 14,
    "start_time": "2025-02-11T17:18:09.703Z"
   },
   {
    "duration": 5,
    "start_time": "2025-02-11T17:18:09.719Z"
   },
   {
    "duration": 18,
    "start_time": "2025-02-11T17:18:09.728Z"
   },
   {
    "duration": 273,
    "start_time": "2025-02-11T17:18:09.748Z"
   },
   {
    "duration": 80,
    "start_time": "2025-02-11T17:18:10.022Z"
   },
   {
    "duration": 96,
    "start_time": "2025-02-11T17:18:10.105Z"
   },
   {
    "duration": 23,
    "start_time": "2025-02-11T17:18:10.202Z"
   },
   {
    "duration": 172,
    "start_time": "2025-02-11T17:18:10.228Z"
   },
   {
    "duration": 67,
    "start_time": "2025-02-11T17:18:10.402Z"
   },
   {
    "duration": 131,
    "start_time": "2025-02-11T17:18:10.471Z"
   },
   {
    "duration": 12,
    "start_time": "2025-02-11T17:18:10.604Z"
   },
   {
    "duration": 7,
    "start_time": "2025-02-11T17:18:10.618Z"
   },
   {
    "duration": 3,
    "start_time": "2025-02-11T17:18:10.627Z"
   },
   {
    "duration": 17,
    "start_time": "2025-02-11T17:18:10.632Z"
   },
   {
    "duration": 3,
    "start_time": "2025-02-11T17:18:10.651Z"
   },
   {
    "duration": 7,
    "start_time": "2025-02-11T17:18:10.656Z"
   },
   {
    "duration": 2,
    "start_time": "2025-02-11T17:18:10.665Z"
   },
   {
    "duration": 30,
    "start_time": "2025-02-11T17:18:10.669Z"
   },
   {
    "duration": 3,
    "start_time": "2025-02-11T17:18:10.701Z"
   },
   {
    "duration": 12,
    "start_time": "2025-02-11T17:18:10.705Z"
   },
   {
    "duration": 5,
    "start_time": "2025-02-11T17:18:10.719Z"
   },
   {
    "duration": 7,
    "start_time": "2025-02-11T17:18:10.725Z"
   },
   {
    "duration": 5,
    "start_time": "2025-02-11T17:18:10.734Z"
   },
   {
    "duration": 5,
    "start_time": "2025-02-11T17:18:10.741Z"
   },
   {
    "duration": 7,
    "start_time": "2025-02-11T17:18:10.747Z"
   },
   {
    "duration": 5,
    "start_time": "2025-02-11T17:18:10.755Z"
   },
   {
    "duration": 37,
    "start_time": "2025-02-11T17:18:10.762Z"
   },
   {
    "duration": 2108,
    "start_time": "2025-02-11T17:18:10.802Z"
   },
   {
    "duration": 10,
    "start_time": "2025-02-11T17:18:12.912Z"
   },
   {
    "duration": 2079,
    "start_time": "2025-02-11T17:18:12.923Z"
   },
   {
    "duration": 9,
    "start_time": "2025-02-11T17:18:15.004Z"
   },
   {
    "duration": 2070,
    "start_time": "2025-02-11T17:18:15.014Z"
   },
   {
    "duration": 14,
    "start_time": "2025-02-11T17:18:17.085Z"
   },
   {
    "duration": 3374,
    "start_time": "2025-02-12T07:42:45.791Z"
   },
   {
    "duration": 2488,
    "start_time": "2025-02-12T07:44:43.598Z"
   },
   {
    "duration": 1684,
    "start_time": "2025-02-12T07:44:46.089Z"
   },
   {
    "duration": 147,
    "start_time": "2025-02-12T07:44:47.774Z"
   },
   {
    "duration": 15,
    "start_time": "2025-02-12T07:44:47.924Z"
   },
   {
    "duration": 141,
    "start_time": "2025-02-12T07:44:47.941Z"
   },
   {
    "duration": 15,
    "start_time": "2025-02-12T07:44:48.084Z"
   },
   {
    "duration": 142,
    "start_time": "2025-02-12T07:44:48.101Z"
   },
   {
    "duration": 15,
    "start_time": "2025-02-12T07:44:48.245Z"
   },
   {
    "duration": 19,
    "start_time": "2025-02-12T07:44:48.261Z"
   },
   {
    "duration": 30,
    "start_time": "2025-02-12T07:44:48.283Z"
   },
   {
    "duration": 13,
    "start_time": "2025-02-12T07:44:48.315Z"
   },
   {
    "duration": 13,
    "start_time": "2025-02-12T07:44:48.329Z"
   },
   {
    "duration": 11,
    "start_time": "2025-02-12T07:44:48.343Z"
   },
   {
    "duration": 5,
    "start_time": "2025-02-12T07:44:48.355Z"
   },
   {
    "duration": 5,
    "start_time": "2025-02-12T07:44:48.361Z"
   },
   {
    "duration": 85,
    "start_time": "2025-02-12T07:44:48.368Z"
   },
   {
    "duration": 23,
    "start_time": "2025-02-12T07:44:48.455Z"
   },
   {
    "duration": 45,
    "start_time": "2025-02-12T07:44:48.479Z"
   },
   {
    "duration": 970,
    "start_time": "2025-02-12T07:44:48.525Z"
   },
   {
    "duration": 3,
    "start_time": "2025-02-12T07:44:49.497Z"
   },
   {
    "duration": 2628,
    "start_time": "2025-02-12T07:45:23.273Z"
   },
   {
    "duration": 1530,
    "start_time": "2025-02-12T07:45:25.904Z"
   },
   {
    "duration": 151,
    "start_time": "2025-02-12T07:45:27.435Z"
   },
   {
    "duration": 15,
    "start_time": "2025-02-12T07:45:27.588Z"
   },
   {
    "duration": 138,
    "start_time": "2025-02-12T07:45:27.605Z"
   },
   {
    "duration": 14,
    "start_time": "2025-02-12T07:45:27.745Z"
   },
   {
    "duration": 144,
    "start_time": "2025-02-12T07:45:27.761Z"
   },
   {
    "duration": 18,
    "start_time": "2025-02-12T07:45:27.907Z"
   },
   {
    "duration": 17,
    "start_time": "2025-02-12T07:45:27.927Z"
   },
   {
    "duration": 11,
    "start_time": "2025-02-12T07:45:27.946Z"
   },
   {
    "duration": 19,
    "start_time": "2025-02-12T07:45:27.958Z"
   },
   {
    "duration": 39,
    "start_time": "2025-02-12T07:45:27.979Z"
   },
   {
    "duration": 18,
    "start_time": "2025-02-12T07:45:28.019Z"
   },
   {
    "duration": 14,
    "start_time": "2025-02-12T07:45:28.039Z"
   },
   {
    "duration": 11,
    "start_time": "2025-02-12T07:45:28.054Z"
   },
   {
    "duration": 6,
    "start_time": "2025-02-12T07:45:28.067Z"
   },
   {
    "duration": 41,
    "start_time": "2025-02-12T07:45:28.074Z"
   },
   {
    "duration": 54,
    "start_time": "2025-02-12T07:45:28.116Z"
   },
   {
    "duration": 44,
    "start_time": "2025-02-12T07:45:28.171Z"
   },
   {
    "duration": 37,
    "start_time": "2025-02-12T07:45:28.217Z"
   },
   {
    "duration": 1046,
    "start_time": "2025-02-12T07:45:28.256Z"
   },
   {
    "duration": 3,
    "start_time": "2025-02-12T07:45:29.304Z"
   },
   {
    "duration": 2527,
    "start_time": "2025-02-12T07:46:29.231Z"
   },
   {
    "duration": 1461,
    "start_time": "2025-02-12T07:46:31.760Z"
   },
   {
    "duration": 150,
    "start_time": "2025-02-12T07:46:33.223Z"
   },
   {
    "duration": 15,
    "start_time": "2025-02-12T07:46:33.376Z"
   },
   {
    "duration": 146,
    "start_time": "2025-02-12T07:46:33.393Z"
   },
   {
    "duration": 14,
    "start_time": "2025-02-12T07:46:33.541Z"
   },
   {
    "duration": 145,
    "start_time": "2025-02-12T07:46:33.556Z"
   },
   {
    "duration": 21,
    "start_time": "2025-02-12T07:46:33.703Z"
   },
   {
    "duration": 20,
    "start_time": "2025-02-12T07:46:33.726Z"
   },
   {
    "duration": 23,
    "start_time": "2025-02-12T07:46:33.749Z"
   },
   {
    "duration": 9,
    "start_time": "2025-02-12T07:46:33.774Z"
   },
   {
    "duration": 23,
    "start_time": "2025-02-12T07:46:33.813Z"
   },
   {
    "duration": 20,
    "start_time": "2025-02-12T07:46:33.838Z"
   },
   {
    "duration": 54,
    "start_time": "2025-02-12T07:46:33.859Z"
   },
   {
    "duration": 16,
    "start_time": "2025-02-12T07:46:33.915Z"
   },
   {
    "duration": 16,
    "start_time": "2025-02-12T07:46:33.933Z"
   },
   {
    "duration": 7,
    "start_time": "2025-02-12T07:46:33.951Z"
   },
   {
    "duration": 7,
    "start_time": "2025-02-12T07:46:33.960Z"
   },
   {
    "duration": 103,
    "start_time": "2025-02-12T07:46:33.969Z"
   },
   {
    "duration": 44,
    "start_time": "2025-02-12T07:46:34.074Z"
   },
   {
    "duration": 43,
    "start_time": "2025-02-12T07:46:34.119Z"
   },
   {
    "duration": 1087,
    "start_time": "2025-02-12T07:46:34.164Z"
   },
   {
    "duration": 3,
    "start_time": "2025-02-12T07:46:35.253Z"
   },
   {
    "duration": 135679,
    "start_time": "2025-02-12T07:46:35.257Z"
   },
   {
    "duration": 912,
    "start_time": "2025-02-12T07:48:50.937Z"
   },
   {
    "duration": 633,
    "start_time": "2025-02-12T07:48:51.851Z"
   },
   {
    "duration": 997,
    "start_time": "2025-02-12T07:48:52.485Z"
   },
   {
    "duration": 604,
    "start_time": "2025-02-12T07:48:53.486Z"
   },
   {
    "duration": 2,
    "start_time": "2025-02-12T07:48:54.092Z"
   },
   {
    "duration": 5,
    "start_time": "2025-02-12T07:48:54.095Z"
   },
   {
    "duration": 14,
    "start_time": "2025-02-12T07:48:54.101Z"
   },
   {
    "duration": 8,
    "start_time": "2025-02-12T07:48:54.116Z"
   },
   {
    "duration": 96,
    "start_time": "2025-02-12T07:48:54.126Z"
   },
   {
    "duration": 159,
    "start_time": "2025-02-12T07:48:54.224Z"
   },
   {
    "duration": 0,
    "start_time": "2025-02-12T07:48:54.385Z"
   },
   {
    "duration": 0,
    "start_time": "2025-02-12T07:48:54.386Z"
   },
   {
    "duration": 0,
    "start_time": "2025-02-12T07:48:54.387Z"
   },
   {
    "duration": 0,
    "start_time": "2025-02-12T07:48:54.388Z"
   },
   {
    "duration": 0,
    "start_time": "2025-02-12T07:48:54.389Z"
   },
   {
    "duration": 0,
    "start_time": "2025-02-12T07:48:54.390Z"
   },
   {
    "duration": 0,
    "start_time": "2025-02-12T07:48:54.391Z"
   },
   {
    "duration": 0,
    "start_time": "2025-02-12T07:48:54.392Z"
   },
   {
    "duration": 0,
    "start_time": "2025-02-12T07:48:54.393Z"
   },
   {
    "duration": 0,
    "start_time": "2025-02-12T07:48:54.394Z"
   },
   {
    "duration": 0,
    "start_time": "2025-02-12T07:48:54.395Z"
   },
   {
    "duration": 0,
    "start_time": "2025-02-12T07:48:54.414Z"
   },
   {
    "duration": 0,
    "start_time": "2025-02-12T07:48:54.415Z"
   },
   {
    "duration": 0,
    "start_time": "2025-02-12T07:48:54.416Z"
   },
   {
    "duration": 0,
    "start_time": "2025-02-12T07:48:54.417Z"
   },
   {
    "duration": 0,
    "start_time": "2025-02-12T07:48:54.418Z"
   },
   {
    "duration": 0,
    "start_time": "2025-02-12T07:48:54.419Z"
   },
   {
    "duration": 0,
    "start_time": "2025-02-12T07:48:54.420Z"
   },
   {
    "duration": 0,
    "start_time": "2025-02-12T07:48:54.421Z"
   },
   {
    "duration": 0,
    "start_time": "2025-02-12T07:48:54.422Z"
   },
   {
    "duration": 0,
    "start_time": "2025-02-12T07:48:54.424Z"
   },
   {
    "duration": 0,
    "start_time": "2025-02-12T07:48:54.424Z"
   },
   {
    "duration": 0,
    "start_time": "2025-02-12T07:48:54.425Z"
   },
   {
    "duration": 0,
    "start_time": "2025-02-12T07:48:54.427Z"
   },
   {
    "duration": 0,
    "start_time": "2025-02-12T07:48:54.427Z"
   },
   {
    "duration": 0,
    "start_time": "2025-02-12T07:48:54.428Z"
   },
   {
    "duration": 0,
    "start_time": "2025-02-12T07:48:54.429Z"
   },
   {
    "duration": 0,
    "start_time": "2025-02-12T07:48:54.430Z"
   },
   {
    "duration": 2488,
    "start_time": "2025-02-12T07:49:43.853Z"
   },
   {
    "duration": 1483,
    "start_time": "2025-02-12T07:49:46.343Z"
   },
   {
    "duration": 152,
    "start_time": "2025-02-12T07:49:47.828Z"
   },
   {
    "duration": 17,
    "start_time": "2025-02-12T07:49:47.982Z"
   },
   {
    "duration": 141,
    "start_time": "2025-02-12T07:49:48.001Z"
   },
   {
    "duration": 14,
    "start_time": "2025-02-12T07:49:48.144Z"
   },
   {
    "duration": 163,
    "start_time": "2025-02-12T07:49:48.159Z"
   },
   {
    "duration": 13,
    "start_time": "2025-02-12T07:49:48.323Z"
   },
   {
    "duration": 34,
    "start_time": "2025-02-12T07:49:48.338Z"
   },
   {
    "duration": 49,
    "start_time": "2025-02-12T07:49:48.374Z"
   },
   {
    "duration": 0,
    "start_time": "2025-02-12T07:49:48.425Z"
   },
   {
    "duration": 0,
    "start_time": "2025-02-12T07:49:48.427Z"
   },
   {
    "duration": 0,
    "start_time": "2025-02-12T07:49:48.428Z"
   },
   {
    "duration": 0,
    "start_time": "2025-02-12T07:49:48.429Z"
   },
   {
    "duration": 0,
    "start_time": "2025-02-12T07:49:48.430Z"
   },
   {
    "duration": 0,
    "start_time": "2025-02-12T07:49:48.431Z"
   },
   {
    "duration": 0,
    "start_time": "2025-02-12T07:49:48.432Z"
   },
   {
    "duration": 0,
    "start_time": "2025-02-12T07:49:48.433Z"
   },
   {
    "duration": 0,
    "start_time": "2025-02-12T07:49:48.434Z"
   },
   {
    "duration": 0,
    "start_time": "2025-02-12T07:49:48.435Z"
   },
   {
    "duration": 0,
    "start_time": "2025-02-12T07:49:48.436Z"
   },
   {
    "duration": 0,
    "start_time": "2025-02-12T07:49:48.437Z"
   },
   {
    "duration": 0,
    "start_time": "2025-02-12T07:49:48.438Z"
   },
   {
    "duration": 0,
    "start_time": "2025-02-12T07:49:48.439Z"
   },
   {
    "duration": 0,
    "start_time": "2025-02-12T07:49:48.440Z"
   },
   {
    "duration": 0,
    "start_time": "2025-02-12T07:49:48.441Z"
   },
   {
    "duration": 0,
    "start_time": "2025-02-12T07:49:48.442Z"
   },
   {
    "duration": 0,
    "start_time": "2025-02-12T07:49:48.443Z"
   },
   {
    "duration": 0,
    "start_time": "2025-02-12T07:49:48.444Z"
   },
   {
    "duration": 0,
    "start_time": "2025-02-12T07:49:48.445Z"
   },
   {
    "duration": 0,
    "start_time": "2025-02-12T07:49:48.446Z"
   },
   {
    "duration": 0,
    "start_time": "2025-02-12T07:49:48.447Z"
   },
   {
    "duration": 0,
    "start_time": "2025-02-12T07:49:48.449Z"
   },
   {
    "duration": 0,
    "start_time": "2025-02-12T07:49:48.450Z"
   },
   {
    "duration": 0,
    "start_time": "2025-02-12T07:49:48.451Z"
   },
   {
    "duration": 0,
    "start_time": "2025-02-12T07:49:48.452Z"
   },
   {
    "duration": 0,
    "start_time": "2025-02-12T07:49:48.453Z"
   },
   {
    "duration": 0,
    "start_time": "2025-02-12T07:49:48.454Z"
   },
   {
    "duration": 0,
    "start_time": "2025-02-12T07:49:48.455Z"
   },
   {
    "duration": 0,
    "start_time": "2025-02-12T07:49:48.456Z"
   },
   {
    "duration": 0,
    "start_time": "2025-02-12T07:49:48.457Z"
   },
   {
    "duration": 0,
    "start_time": "2025-02-12T07:49:48.458Z"
   },
   {
    "duration": 0,
    "start_time": "2025-02-12T07:49:48.459Z"
   },
   {
    "duration": 0,
    "start_time": "2025-02-12T07:49:48.460Z"
   },
   {
    "duration": 0,
    "start_time": "2025-02-12T07:49:48.460Z"
   },
   {
    "duration": 0,
    "start_time": "2025-02-12T07:49:48.513Z"
   },
   {
    "duration": 0,
    "start_time": "2025-02-12T07:49:48.514Z"
   },
   {
    "duration": 0,
    "start_time": "2025-02-12T07:49:48.516Z"
   },
   {
    "duration": 0,
    "start_time": "2025-02-12T07:49:48.517Z"
   },
   {
    "duration": 0,
    "start_time": "2025-02-12T07:49:48.518Z"
   },
   {
    "duration": 0,
    "start_time": "2025-02-12T07:49:48.519Z"
   },
   {
    "duration": 0,
    "start_time": "2025-02-12T07:49:48.520Z"
   },
   {
    "duration": 0,
    "start_time": "2025-02-12T07:49:48.521Z"
   },
   {
    "duration": 0,
    "start_time": "2025-02-12T07:49:48.522Z"
   },
   {
    "duration": 0,
    "start_time": "2025-02-12T07:49:48.523Z"
   },
   {
    "duration": 0,
    "start_time": "2025-02-12T07:49:48.524Z"
   },
   {
    "duration": 0,
    "start_time": "2025-02-12T07:49:48.525Z"
   },
   {
    "duration": 0,
    "start_time": "2025-02-12T07:49:48.526Z"
   },
   {
    "duration": 0,
    "start_time": "2025-02-12T07:49:48.527Z"
   },
   {
    "duration": 0,
    "start_time": "2025-02-12T07:49:48.528Z"
   },
   {
    "duration": 0,
    "start_time": "2025-02-12T07:49:48.529Z"
   },
   {
    "duration": 0,
    "start_time": "2025-02-12T07:49:48.530Z"
   },
   {
    "duration": 0,
    "start_time": "2025-02-12T07:49:48.531Z"
   },
   {
    "duration": 132,
    "start_time": "2025-02-12T07:50:08.600Z"
   },
   {
    "duration": 2524,
    "start_time": "2025-02-12T07:50:18.556Z"
   },
   {
    "duration": 1432,
    "start_time": "2025-02-12T07:50:21.083Z"
   },
   {
    "duration": 151,
    "start_time": "2025-02-12T07:50:22.517Z"
   },
   {
    "duration": 16,
    "start_time": "2025-02-12T07:50:22.670Z"
   },
   {
    "duration": 138,
    "start_time": "2025-02-12T07:50:22.689Z"
   },
   {
    "duration": 16,
    "start_time": "2025-02-12T07:50:22.829Z"
   },
   {
    "duration": 151,
    "start_time": "2025-02-12T07:50:22.847Z"
   },
   {
    "duration": 21,
    "start_time": "2025-02-12T07:50:23.000Z"
   },
   {
    "duration": 20,
    "start_time": "2025-02-12T07:50:23.023Z"
   },
   {
    "duration": 161,
    "start_time": "2025-02-12T07:50:23.044Z"
   },
   {
    "duration": 0,
    "start_time": "2025-02-12T07:50:23.208Z"
   },
   {
    "duration": 0,
    "start_time": "2025-02-12T07:50:23.213Z"
   },
   {
    "duration": 0,
    "start_time": "2025-02-12T07:50:23.214Z"
   },
   {
    "duration": 0,
    "start_time": "2025-02-12T07:50:23.215Z"
   },
   {
    "duration": 0,
    "start_time": "2025-02-12T07:50:23.216Z"
   },
   {
    "duration": 1,
    "start_time": "2025-02-12T07:50:23.217Z"
   },
   {
    "duration": 0,
    "start_time": "2025-02-12T07:50:23.219Z"
   },
   {
    "duration": 0,
    "start_time": "2025-02-12T07:50:23.220Z"
   },
   {
    "duration": 0,
    "start_time": "2025-02-12T07:50:23.221Z"
   },
   {
    "duration": 0,
    "start_time": "2025-02-12T07:50:23.222Z"
   },
   {
    "duration": 0,
    "start_time": "2025-02-12T07:50:23.223Z"
   },
   {
    "duration": 0,
    "start_time": "2025-02-12T07:50:23.224Z"
   },
   {
    "duration": 0,
    "start_time": "2025-02-12T07:50:23.224Z"
   },
   {
    "duration": 0,
    "start_time": "2025-02-12T07:50:23.225Z"
   },
   {
    "duration": 0,
    "start_time": "2025-02-12T07:50:23.226Z"
   },
   {
    "duration": 0,
    "start_time": "2025-02-12T07:50:23.227Z"
   },
   {
    "duration": 0,
    "start_time": "2025-02-12T07:50:23.229Z"
   },
   {
    "duration": 0,
    "start_time": "2025-02-12T07:50:23.230Z"
   },
   {
    "duration": 0,
    "start_time": "2025-02-12T07:50:23.231Z"
   },
   {
    "duration": 0,
    "start_time": "2025-02-12T07:50:23.232Z"
   },
   {
    "duration": 0,
    "start_time": "2025-02-12T07:50:23.233Z"
   },
   {
    "duration": 0,
    "start_time": "2025-02-12T07:50:23.233Z"
   },
   {
    "duration": 0,
    "start_time": "2025-02-12T07:50:23.234Z"
   },
   {
    "duration": 0,
    "start_time": "2025-02-12T07:50:23.235Z"
   },
   {
    "duration": 0,
    "start_time": "2025-02-12T07:50:23.236Z"
   },
   {
    "duration": 0,
    "start_time": "2025-02-12T07:50:23.237Z"
   },
   {
    "duration": 0,
    "start_time": "2025-02-12T07:50:23.238Z"
   },
   {
    "duration": 0,
    "start_time": "2025-02-12T07:50:23.239Z"
   },
   {
    "duration": 0,
    "start_time": "2025-02-12T07:50:23.240Z"
   },
   {
    "duration": 0,
    "start_time": "2025-02-12T07:50:23.241Z"
   },
   {
    "duration": 0,
    "start_time": "2025-02-12T07:50:23.242Z"
   },
   {
    "duration": 0,
    "start_time": "2025-02-12T07:50:23.243Z"
   },
   {
    "duration": 0,
    "start_time": "2025-02-12T07:50:23.244Z"
   },
   {
    "duration": 0,
    "start_time": "2025-02-12T07:50:23.244Z"
   },
   {
    "duration": 0,
    "start_time": "2025-02-12T07:50:23.246Z"
   },
   {
    "duration": 0,
    "start_time": "2025-02-12T07:50:23.246Z"
   },
   {
    "duration": 0,
    "start_time": "2025-02-12T07:50:23.247Z"
   },
   {
    "duration": 0,
    "start_time": "2025-02-12T07:50:23.248Z"
   },
   {
    "duration": 0,
    "start_time": "2025-02-12T07:50:23.250Z"
   },
   {
    "duration": 0,
    "start_time": "2025-02-12T07:50:23.251Z"
   },
   {
    "duration": 0,
    "start_time": "2025-02-12T07:50:23.252Z"
   },
   {
    "duration": 0,
    "start_time": "2025-02-12T07:50:23.314Z"
   },
   {
    "duration": 0,
    "start_time": "2025-02-12T07:50:23.315Z"
   },
   {
    "duration": 0,
    "start_time": "2025-02-12T07:50:23.316Z"
   },
   {
    "duration": 0,
    "start_time": "2025-02-12T07:50:23.317Z"
   },
   {
    "duration": 0,
    "start_time": "2025-02-12T07:50:23.318Z"
   },
   {
    "duration": 0,
    "start_time": "2025-02-12T07:50:23.319Z"
   },
   {
    "duration": 0,
    "start_time": "2025-02-12T07:50:23.320Z"
   },
   {
    "duration": 0,
    "start_time": "2025-02-12T07:50:23.321Z"
   },
   {
    "duration": 0,
    "start_time": "2025-02-12T07:50:23.322Z"
   },
   {
    "duration": 0,
    "start_time": "2025-02-12T07:50:23.323Z"
   },
   {
    "duration": 0,
    "start_time": "2025-02-12T07:50:23.324Z"
   },
   {
    "duration": 0,
    "start_time": "2025-02-12T07:50:23.325Z"
   },
   {
    "duration": 21,
    "start_time": "2025-02-12T07:50:50.124Z"
   },
   {
    "duration": 14,
    "start_time": "2025-02-12T07:51:08.238Z"
   },
   {
    "duration": 12,
    "start_time": "2025-02-12T07:51:10.330Z"
   },
   {
    "duration": 23,
    "start_time": "2025-02-12T07:51:14.702Z"
   },
   {
    "duration": 56,
    "start_time": "2025-02-12T07:54:42.664Z"
   },
   {
    "duration": 14,
    "start_time": "2025-02-12T07:58:59.220Z"
   },
   {
    "duration": 19,
    "start_time": "2025-02-12T08:02:03.137Z"
   },
   {
    "duration": 24,
    "start_time": "2025-02-12T08:02:15.284Z"
   },
   {
    "duration": 16,
    "start_time": "2025-02-12T08:03:40.530Z"
   },
   {
    "duration": 32,
    "start_time": "2025-02-12T08:03:54.845Z"
   },
   {
    "duration": 27,
    "start_time": "2025-02-12T08:04:02.702Z"
   },
   {
    "duration": 22,
    "start_time": "2025-02-12T08:04:05.696Z"
   },
   {
    "duration": 87,
    "start_time": "2025-02-12T08:04:31.925Z"
   },
   {
    "duration": 18,
    "start_time": "2025-02-12T08:04:46.421Z"
   },
   {
    "duration": 20,
    "start_time": "2025-02-12T08:04:50.924Z"
   },
   {
    "duration": 22,
    "start_time": "2025-02-12T08:04:53.926Z"
   },
   {
    "duration": 2519,
    "start_time": "2025-02-12T08:09:02.930Z"
   },
   {
    "duration": 1546,
    "start_time": "2025-02-12T08:09:05.452Z"
   },
   {
    "duration": 167,
    "start_time": "2025-02-12T08:09:07.000Z"
   },
   {
    "duration": 16,
    "start_time": "2025-02-12T08:09:07.170Z"
   },
   {
    "duration": 154,
    "start_time": "2025-02-12T08:09:07.187Z"
   },
   {
    "duration": 15,
    "start_time": "2025-02-12T08:09:07.343Z"
   },
   {
    "duration": 151,
    "start_time": "2025-02-12T08:09:07.359Z"
   },
   {
    "duration": 15,
    "start_time": "2025-02-12T08:09:07.511Z"
   },
   {
    "duration": 58,
    "start_time": "2025-02-12T08:09:07.527Z"
   },
   {
    "duration": 0,
    "start_time": "2025-02-12T08:09:07.588Z"
   },
   {
    "duration": 0,
    "start_time": "2025-02-12T08:09:07.589Z"
   },
   {
    "duration": 0,
    "start_time": "2025-02-12T08:09:07.590Z"
   },
   {
    "duration": 0,
    "start_time": "2025-02-12T08:09:07.592Z"
   },
   {
    "duration": 0,
    "start_time": "2025-02-12T08:09:07.593Z"
   },
   {
    "duration": 0,
    "start_time": "2025-02-12T08:09:07.594Z"
   },
   {
    "duration": 0,
    "start_time": "2025-02-12T08:09:07.595Z"
   },
   {
    "duration": 0,
    "start_time": "2025-02-12T08:09:07.596Z"
   },
   {
    "duration": 0,
    "start_time": "2025-02-12T08:09:07.597Z"
   },
   {
    "duration": 0,
    "start_time": "2025-02-12T08:09:07.598Z"
   },
   {
    "duration": 0,
    "start_time": "2025-02-12T08:09:07.600Z"
   },
   {
    "duration": 0,
    "start_time": "2025-02-12T08:09:07.601Z"
   },
   {
    "duration": 0,
    "start_time": "2025-02-12T08:09:07.602Z"
   },
   {
    "duration": 0,
    "start_time": "2025-02-12T08:09:07.603Z"
   },
   {
    "duration": 0,
    "start_time": "2025-02-12T08:09:07.604Z"
   },
   {
    "duration": 0,
    "start_time": "2025-02-12T08:09:07.605Z"
   },
   {
    "duration": 0,
    "start_time": "2025-02-12T08:09:07.606Z"
   },
   {
    "duration": 0,
    "start_time": "2025-02-12T08:09:07.607Z"
   },
   {
    "duration": 0,
    "start_time": "2025-02-12T08:09:07.608Z"
   },
   {
    "duration": 0,
    "start_time": "2025-02-12T08:09:07.609Z"
   },
   {
    "duration": 0,
    "start_time": "2025-02-12T08:09:07.610Z"
   },
   {
    "duration": 0,
    "start_time": "2025-02-12T08:09:07.613Z"
   },
   {
    "duration": 0,
    "start_time": "2025-02-12T08:09:07.614Z"
   },
   {
    "duration": 0,
    "start_time": "2025-02-12T08:09:07.615Z"
   },
   {
    "duration": 0,
    "start_time": "2025-02-12T08:09:07.616Z"
   },
   {
    "duration": 116,
    "start_time": "2025-02-12T08:09:08.057Z"
   },
   {
    "duration": 0,
    "start_time": "2025-02-12T08:09:08.175Z"
   },
   {
    "duration": 0,
    "start_time": "2025-02-12T08:09:08.176Z"
   },
   {
    "duration": 0,
    "start_time": "2025-02-12T08:09:08.177Z"
   },
   {
    "duration": 0,
    "start_time": "2025-02-12T08:09:08.178Z"
   },
   {
    "duration": 0,
    "start_time": "2025-02-12T08:09:08.180Z"
   },
   {
    "duration": 0,
    "start_time": "2025-02-12T08:09:08.181Z"
   },
   {
    "duration": 0,
    "start_time": "2025-02-12T08:09:08.182Z"
   },
   {
    "duration": 0,
    "start_time": "2025-02-12T08:09:08.183Z"
   },
   {
    "duration": 0,
    "start_time": "2025-02-12T08:09:08.184Z"
   },
   {
    "duration": 0,
    "start_time": "2025-02-12T08:09:08.185Z"
   },
   {
    "duration": 0,
    "start_time": "2025-02-12T08:09:08.186Z"
   },
   {
    "duration": 0,
    "start_time": "2025-02-12T08:09:08.187Z"
   },
   {
    "duration": 0,
    "start_time": "2025-02-12T08:09:08.189Z"
   },
   {
    "duration": 0,
    "start_time": "2025-02-12T08:09:08.189Z"
   },
   {
    "duration": 0,
    "start_time": "2025-02-12T08:09:08.190Z"
   },
   {
    "duration": 9,
    "start_time": "2025-02-12T08:09:09.003Z"
   },
   {
    "duration": 0,
    "start_time": "2025-02-12T08:09:09.014Z"
   },
   {
    "duration": 0,
    "start_time": "2025-02-12T08:09:09.015Z"
   },
   {
    "duration": 0,
    "start_time": "2025-02-12T08:09:09.016Z"
   },
   {
    "duration": 0,
    "start_time": "2025-02-12T08:09:09.017Z"
   },
   {
    "duration": 0,
    "start_time": "2025-02-12T08:09:09.018Z"
   },
   {
    "duration": 0,
    "start_time": "2025-02-12T08:09:09.020Z"
   },
   {
    "duration": 0,
    "start_time": "2025-02-12T08:09:09.021Z"
   },
   {
    "duration": 1,
    "start_time": "2025-02-12T08:09:09.021Z"
   },
   {
    "duration": 0,
    "start_time": "2025-02-12T08:09:09.023Z"
   },
   {
    "duration": 0,
    "start_time": "2025-02-12T08:09:09.024Z"
   },
   {
    "duration": 0,
    "start_time": "2025-02-12T08:09:09.025Z"
   },
   {
    "duration": 0,
    "start_time": "2025-02-12T08:09:09.026Z"
   },
   {
    "duration": 81,
    "start_time": "2025-02-12T08:09:41.914Z"
   },
   {
    "duration": 70,
    "start_time": "2025-02-12T08:09:56.099Z"
   },
   {
    "duration": 31,
    "start_time": "2025-02-12T08:10:05.381Z"
   },
   {
    "duration": 31,
    "start_time": "2025-02-12T08:10:39.242Z"
   },
   {
    "duration": 32,
    "start_time": "2025-02-12T08:10:52.204Z"
   },
   {
    "duration": 31,
    "start_time": "2025-02-12T08:10:57.372Z"
   },
   {
    "duration": 67,
    "start_time": "2025-02-12T08:11:26.815Z"
   },
   {
    "duration": 12,
    "start_time": "2025-02-12T08:11:32.798Z"
   },
   {
    "duration": 16,
    "start_time": "2025-02-12T08:11:33.309Z"
   },
   {
    "duration": 13,
    "start_time": "2025-02-12T08:11:33.455Z"
   },
   {
    "duration": 21,
    "start_time": "2025-02-12T08:11:33.617Z"
   },
   {
    "duration": 14,
    "start_time": "2025-02-12T08:11:33.781Z"
   },
   {
    "duration": 2818,
    "start_time": "2025-02-12T08:23:31.388Z"
   },
   {
    "duration": 1496,
    "start_time": "2025-02-12T08:23:34.208Z"
   },
   {
    "duration": 152,
    "start_time": "2025-02-12T08:23:35.705Z"
   },
   {
    "duration": 15,
    "start_time": "2025-02-12T08:23:35.859Z"
   },
   {
    "duration": 159,
    "start_time": "2025-02-12T08:23:35.876Z"
   },
   {
    "duration": 18,
    "start_time": "2025-02-12T08:23:36.036Z"
   },
   {
    "duration": 152,
    "start_time": "2025-02-12T08:23:36.055Z"
   },
   {
    "duration": 16,
    "start_time": "2025-02-12T08:23:36.209Z"
   },
   {
    "duration": 91,
    "start_time": "2025-02-12T08:23:36.227Z"
   },
   {
    "duration": 31,
    "start_time": "2025-02-12T08:23:36.321Z"
   },
   {
    "duration": 67,
    "start_time": "2025-02-12T08:23:36.353Z"
   },
   {
    "duration": 12,
    "start_time": "2025-02-12T08:23:36.421Z"
   },
   {
    "duration": 18,
    "start_time": "2025-02-12T08:23:36.434Z"
   },
   {
    "duration": 12,
    "start_time": "2025-02-12T08:23:36.454Z"
   },
   {
    "duration": 5,
    "start_time": "2025-02-12T08:23:36.468Z"
   },
   {
    "duration": 37,
    "start_time": "2025-02-12T08:23:36.475Z"
   },
   {
    "duration": 27,
    "start_time": "2025-02-12T08:23:36.515Z"
   },
   {
    "duration": 43,
    "start_time": "2025-02-12T08:23:36.545Z"
   },
   {
    "duration": 30,
    "start_time": "2025-02-12T08:23:36.590Z"
   },
   {
    "duration": 29,
    "start_time": "2025-02-12T08:23:36.622Z"
   },
   {
    "duration": 933,
    "start_time": "2025-02-12T08:23:36.652Z"
   },
   {
    "duration": 2,
    "start_time": "2025-02-12T08:23:37.587Z"
   },
   {
    "duration": 698,
    "start_time": "2025-02-12T08:23:37.591Z"
   },
   {
    "duration": 909,
    "start_time": "2025-02-12T08:23:38.291Z"
   },
   {
    "duration": 597,
    "start_time": "2025-02-12T08:23:39.202Z"
   },
   {
    "duration": 922,
    "start_time": "2025-02-12T08:23:39.800Z"
   },
   {
    "duration": 572,
    "start_time": "2025-02-12T08:23:40.723Z"
   },
   {
    "duration": 3,
    "start_time": "2025-02-12T08:23:41.298Z"
   },
   {
    "duration": 3,
    "start_time": "2025-02-12T08:23:41.313Z"
   },
   {
    "duration": 5,
    "start_time": "2025-02-12T08:23:41.317Z"
   },
   {
    "duration": 7,
    "start_time": "2025-02-12T08:23:41.323Z"
   },
   {
    "duration": 204,
    "start_time": "2025-02-12T08:23:41.332Z"
   },
   {
    "duration": 23,
    "start_time": "2025-02-12T08:23:41.538Z"
   },
   {
    "duration": 151,
    "start_time": "2025-02-12T08:23:41.563Z"
   },
   {
    "duration": 21,
    "start_time": "2025-02-12T08:23:41.716Z"
   },
   {
    "duration": 82,
    "start_time": "2025-02-12T08:23:41.740Z"
   },
   {
    "duration": 21,
    "start_time": "2025-02-12T08:23:41.914Z"
   },
   {
    "duration": 176,
    "start_time": "2025-02-12T08:23:41.938Z"
   },
   {
    "duration": 7,
    "start_time": "2025-02-12T08:23:42.116Z"
   },
   {
    "duration": 8,
    "start_time": "2025-02-12T08:23:42.124Z"
   },
   {
    "duration": 3,
    "start_time": "2025-02-12T08:23:42.134Z"
   },
   {
    "duration": 7,
    "start_time": "2025-02-12T08:23:42.139Z"
   },
   {
    "duration": 2,
    "start_time": "2025-02-12T08:23:42.148Z"
   },
   {
    "duration": 13,
    "start_time": "2025-02-12T08:23:42.152Z"
   },
   {
    "duration": 4,
    "start_time": "2025-02-12T08:23:42.167Z"
   },
   {
    "duration": 5,
    "start_time": "2025-02-12T08:23:42.172Z"
   },
   {
    "duration": 35,
    "start_time": "2025-02-12T08:23:42.179Z"
   },
   {
    "duration": 5,
    "start_time": "2025-02-12T08:23:42.216Z"
   },
   {
    "duration": 3,
    "start_time": "2025-02-12T08:23:42.223Z"
   },
   {
    "duration": 5,
    "start_time": "2025-02-12T08:23:42.227Z"
   },
   {
    "duration": 3,
    "start_time": "2025-02-12T08:23:42.233Z"
   },
   {
    "duration": 2,
    "start_time": "2025-02-12T08:23:42.238Z"
   },
   {
    "duration": 34,
    "start_time": "2025-02-12T08:23:42.242Z"
   },
   {
    "duration": 4,
    "start_time": "2025-02-12T08:23:42.278Z"
   },
   {
    "duration": 3,
    "start_time": "2025-02-12T08:23:42.284Z"
   },
   {
    "duration": 2015,
    "start_time": "2025-02-12T08:23:42.289Z"
   },
   {
    "duration": 12,
    "start_time": "2025-02-12T08:23:44.306Z"
   },
   {
    "duration": 1993,
    "start_time": "2025-02-12T08:23:44.320Z"
   },
   {
    "duration": 7,
    "start_time": "2025-02-12T08:23:46.315Z"
   },
   {
    "duration": 1918,
    "start_time": "2025-02-12T08:23:46.324Z"
   },
   {
    "duration": 7,
    "start_time": "2025-02-12T08:23:48.244Z"
   },
   {
    "duration": 74,
    "start_time": "2025-02-12T08:24:41.207Z"
   },
   {
    "duration": 110,
    "start_time": "2025-02-12T08:27:48.506Z"
   },
   {
    "duration": 4,
    "start_time": "2025-02-12T08:27:52.721Z"
   },
   {
    "duration": 21,
    "start_time": "2025-02-12T08:27:53.855Z"
   },
   {
    "duration": 21,
    "start_time": "2025-02-12T08:28:54.051Z"
   },
   {
    "duration": 23,
    "start_time": "2025-02-12T08:28:54.283Z"
   },
   {
    "duration": 23,
    "start_time": "2025-02-12T08:29:14.870Z"
   },
   {
    "duration": 23,
    "start_time": "2025-02-12T08:29:24.784Z"
   },
   {
    "duration": 4,
    "start_time": "2025-02-12T08:31:42.837Z"
   },
   {
    "duration": 6,
    "start_time": "2025-02-12T08:32:47.048Z"
   },
   {
    "duration": 4,
    "start_time": "2025-02-12T08:33:00.183Z"
   },
   {
    "duration": 5,
    "start_time": "2025-02-12T08:33:00.546Z"
   },
   {
    "duration": 5,
    "start_time": "2025-02-12T08:33:19.379Z"
   },
   {
    "duration": 5,
    "start_time": "2025-02-12T08:33:47.431Z"
   },
   {
    "duration": 5,
    "start_time": "2025-02-12T08:33:47.575Z"
   },
   {
    "duration": 3,
    "start_time": "2025-02-12T08:34:13.343Z"
   },
   {
    "duration": 5,
    "start_time": "2025-02-12T08:34:13.692Z"
   },
   {
    "duration": 5,
    "start_time": "2025-02-12T08:34:13.806Z"
   },
   {
    "duration": 5,
    "start_time": "2025-02-12T08:34:13.935Z"
   },
   {
    "duration": 3,
    "start_time": "2025-02-12T08:37:36.655Z"
   },
   {
    "duration": 5,
    "start_time": "2025-02-12T08:37:36.800Z"
   },
   {
    "duration": 6,
    "start_time": "2025-02-12T08:37:36.942Z"
   },
   {
    "duration": 5,
    "start_time": "2025-02-12T08:37:37.138Z"
   },
   {
    "duration": 6,
    "start_time": "2025-02-12T08:50:15.092Z"
   },
   {
    "duration": 13,
    "start_time": "2025-02-12T08:50:40.997Z"
   },
   {
    "duration": 3,
    "start_time": "2025-02-12T08:50:50.588Z"
   },
   {
    "duration": 6,
    "start_time": "2025-02-12T08:50:53.817Z"
   },
   {
    "duration": 15,
    "start_time": "2025-02-12T08:50:55.107Z"
   },
   {
    "duration": 3,
    "start_time": "2025-02-12T08:51:01.135Z"
   },
   {
    "duration": 6,
    "start_time": "2025-02-12T08:51:03.976Z"
   },
   {
    "duration": 17,
    "start_time": "2025-02-12T08:51:04.108Z"
   },
   {
    "duration": 13,
    "start_time": "2025-02-12T08:51:04.268Z"
   },
   {
    "duration": 3,
    "start_time": "2025-02-12T08:51:24.980Z"
   },
   {
    "duration": 2,
    "start_time": "2025-02-12T08:51:25.142Z"
   },
   {
    "duration": 3,
    "start_time": "2025-02-12T08:51:25.265Z"
   },
   {
    "duration": 3,
    "start_time": "2025-02-12T08:51:25.386Z"
   },
   {
    "duration": 6,
    "start_time": "2025-02-12T08:51:28.615Z"
   },
   {
    "duration": 1978,
    "start_time": "2025-02-12T08:51:28.781Z"
   },
   {
    "duration": 1986,
    "start_time": "2025-02-12T08:51:30.761Z"
   },
   {
    "duration": 1952,
    "start_time": "2025-02-12T08:51:49.740Z"
   },
   {
    "duration": 1960,
    "start_time": "2025-02-12T08:51:51.694Z"
   },
   {
    "duration": 2025,
    "start_time": "2025-02-12T08:52:16.433Z"
   },
   {
    "duration": 5,
    "start_time": "2025-02-12T08:53:56.099Z"
   },
   {
    "duration": 1985,
    "start_time": "2025-02-12T08:53:57.100Z"
   },
   {
    "duration": 11,
    "start_time": "2025-02-12T08:55:08.080Z"
   },
   {
    "duration": 63,
    "start_time": "2025-02-12T08:56:13.002Z"
   },
   {
    "duration": 10,
    "start_time": "2025-02-12T08:56:15.747Z"
   },
   {
    "duration": 6,
    "start_time": "2025-02-12T08:57:01.408Z"
   },
   {
    "duration": 5,
    "start_time": "2025-02-12T08:58:56.297Z"
   },
   {
    "duration": 20,
    "start_time": "2025-02-12T08:58:57.216Z"
   },
   {
    "duration": 16,
    "start_time": "2025-02-12T08:58:57.888Z"
   },
   {
    "duration": 60,
    "start_time": "2025-02-12T08:59:14.806Z"
   },
   {
    "duration": 6,
    "start_time": "2025-02-12T08:59:29.324Z"
   },
   {
    "duration": 19,
    "start_time": "2025-02-12T08:59:30.551Z"
   },
   {
    "duration": 6,
    "start_time": "2025-02-12T09:00:02.432Z"
   },
   {
    "duration": 18,
    "start_time": "2025-02-12T09:00:06.173Z"
   },
   {
    "duration": 2611,
    "start_time": "2025-02-12T09:00:42.915Z"
   },
   {
    "duration": 1526,
    "start_time": "2025-02-12T09:00:45.528Z"
   },
   {
    "duration": 159,
    "start_time": "2025-02-12T09:00:47.055Z"
   },
   {
    "duration": 16,
    "start_time": "2025-02-12T09:00:47.216Z"
   },
   {
    "duration": 148,
    "start_time": "2025-02-12T09:00:47.234Z"
   },
   {
    "duration": 15,
    "start_time": "2025-02-12T09:00:47.383Z"
   },
   {
    "duration": 141,
    "start_time": "2025-02-12T09:00:47.399Z"
   },
   {
    "duration": 14,
    "start_time": "2025-02-12T09:00:47.542Z"
   },
   {
    "duration": 94,
    "start_time": "2025-02-12T09:00:47.557Z"
   },
   {
    "duration": 33,
    "start_time": "2025-02-12T09:00:47.654Z"
   },
   {
    "duration": 80,
    "start_time": "2025-02-12T09:00:47.689Z"
   },
   {
    "duration": 11,
    "start_time": "2025-02-12T09:00:47.771Z"
   },
   {
    "duration": 31,
    "start_time": "2025-02-12T09:00:47.783Z"
   },
   {
    "duration": 14,
    "start_time": "2025-02-12T09:00:47.816Z"
   },
   {
    "duration": 11,
    "start_time": "2025-02-12T09:00:47.832Z"
   },
   {
    "duration": 5,
    "start_time": "2025-02-12T09:00:47.845Z"
   },
   {
    "duration": 5,
    "start_time": "2025-02-12T09:00:47.852Z"
   },
   {
    "duration": 59,
    "start_time": "2025-02-12T09:00:47.858Z"
   },
   {
    "duration": 23,
    "start_time": "2025-02-12T09:00:47.919Z"
   },
   {
    "duration": 30,
    "start_time": "2025-02-12T09:00:47.944Z"
   },
   {
    "duration": 1007,
    "start_time": "2025-02-12T09:00:47.976Z"
   },
   {
    "duration": 3,
    "start_time": "2025-02-12T09:00:48.985Z"
   },
   {
    "duration": 783,
    "start_time": "2025-02-12T09:00:48.989Z"
   },
   {
    "duration": 1012,
    "start_time": "2025-02-12T09:00:49.774Z"
   },
   {
    "duration": 610,
    "start_time": "2025-02-12T09:00:50.788Z"
   },
   {
    "duration": 958,
    "start_time": "2025-02-12T09:00:51.400Z"
   },
   {
    "duration": 656,
    "start_time": "2025-02-12T09:00:52.360Z"
   },
   {
    "duration": 3,
    "start_time": "2025-02-12T09:00:53.020Z"
   },
   {
    "duration": 19,
    "start_time": "2025-02-12T09:00:53.024Z"
   },
   {
    "duration": 3,
    "start_time": "2025-02-12T09:00:53.044Z"
   },
   {
    "duration": 11,
    "start_time": "2025-02-12T09:00:53.049Z"
   },
   {
    "duration": 251,
    "start_time": "2025-02-12T09:00:53.062Z"
   },
   {
    "duration": 4,
    "start_time": "2025-02-12T09:00:53.315Z"
   },
   {
    "duration": 95,
    "start_time": "2025-02-12T09:00:53.320Z"
   },
   {
    "duration": 197,
    "start_time": "2025-02-12T09:00:53.417Z"
   },
   {
    "duration": 199,
    "start_time": "2025-02-12T09:00:53.617Z"
   },
   {
    "duration": 96,
    "start_time": "2025-02-12T09:00:53.818Z"
   },
   {
    "duration": 5,
    "start_time": "2025-02-12T09:00:53.916Z"
   },
   {
    "duration": 4,
    "start_time": "2025-02-12T09:00:53.923Z"
   },
   {
    "duration": 5,
    "start_time": "2025-02-12T09:00:53.929Z"
   },
   {
    "duration": 3,
    "start_time": "2025-02-12T09:00:53.935Z"
   },
   {
    "duration": 3,
    "start_time": "2025-02-12T09:00:53.939Z"
   },
   {
    "duration": 3,
    "start_time": "2025-02-12T09:00:53.943Z"
   },
   {
    "duration": 4,
    "start_time": "2025-02-12T09:00:53.947Z"
   },
   {
    "duration": 162,
    "start_time": "2025-02-12T09:00:53.952Z"
   },
   {
    "duration": 0,
    "start_time": "2025-02-12T09:00:54.116Z"
   },
   {
    "duration": 0,
    "start_time": "2025-02-12T09:00:54.117Z"
   },
   {
    "duration": 0,
    "start_time": "2025-02-12T09:00:54.118Z"
   },
   {
    "duration": 0,
    "start_time": "2025-02-12T09:00:54.119Z"
   },
   {
    "duration": 0,
    "start_time": "2025-02-12T09:00:54.120Z"
   },
   {
    "duration": 0,
    "start_time": "2025-02-12T09:00:54.122Z"
   },
   {
    "duration": 3,
    "start_time": "2025-02-12T09:01:44.924Z"
   },
   {
    "duration": 3,
    "start_time": "2025-02-12T09:01:47.652Z"
   },
   {
    "duration": 5,
    "start_time": "2025-02-12T09:01:48.594Z"
   },
   {
    "duration": 18,
    "start_time": "2025-02-12T09:01:49.412Z"
   },
   {
    "duration": 7,
    "start_time": "2025-02-12T09:02:31.035Z"
   },
   {
    "duration": 28,
    "start_time": "2025-02-12T09:02:34.736Z"
   },
   {
    "duration": 6,
    "start_time": "2025-02-12T09:04:00.566Z"
   },
   {
    "duration": 31,
    "start_time": "2025-02-12T09:04:00.646Z"
   },
   {
    "duration": 24,
    "start_time": "2025-02-12T09:04:01.315Z"
   },
   {
    "duration": 5,
    "start_time": "2025-02-12T09:04:14.505Z"
   },
   {
    "duration": 27,
    "start_time": "2025-02-12T09:04:14.600Z"
   },
   {
    "duration": 25,
    "start_time": "2025-02-12T09:04:14.747Z"
   },
   {
    "duration": 6,
    "start_time": "2025-02-12T09:04:25.529Z"
   },
   {
    "duration": 30,
    "start_time": "2025-02-12T09:04:26.758Z"
   },
   {
    "duration": 25,
    "start_time": "2025-02-12T09:04:26.864Z"
   },
   {
    "duration": 6,
    "start_time": "2025-02-12T09:13:29.513Z"
   },
   {
    "duration": 44,
    "start_time": "2025-02-12T09:13:32.212Z"
   },
   {
    "duration": 6,
    "start_time": "2025-02-12T09:16:10.275Z"
   },
   {
    "duration": 2058,
    "start_time": "2025-02-12T09:16:10.417Z"
   },
   {
    "duration": 7,
    "start_time": "2025-02-12T09:17:23.155Z"
   },
   {
    "duration": 3,
    "start_time": "2025-02-12T09:19:00.686Z"
   },
   {
    "duration": 9,
    "start_time": "2025-02-12T09:20:36.141Z"
   },
   {
    "duration": 1483,
    "start_time": "2025-02-12T09:20:36.183Z"
   },
   {
    "duration": 14,
    "start_time": "2025-02-12T09:20:37.667Z"
   },
   {
    "duration": 1446,
    "start_time": "2025-02-12T09:21:16.121Z"
   },
   {
    "duration": 14,
    "start_time": "2025-02-12T09:21:17.569Z"
   },
   {
    "duration": 0,
    "start_time": "2025-02-12T09:21:17.584Z"
   },
   {
    "duration": 22,
    "start_time": "2025-02-12T09:21:21.306Z"
   },
   {
    "duration": 5,
    "start_time": "2025-02-12T09:21:50.520Z"
   },
   {
    "duration": 2125,
    "start_time": "2025-02-12T09:21:51.179Z"
   },
   {
    "duration": 14,
    "start_time": "2025-02-12T09:21:53.314Z"
   },
   {
    "duration": 0,
    "start_time": "2025-02-12T09:21:53.329Z"
   },
   {
    "duration": 7,
    "start_time": "2025-02-12T09:22:43.671Z"
   },
   {
    "duration": 7,
    "start_time": "2025-02-12T09:22:54.896Z"
   },
   {
    "duration": 12,
    "start_time": "2025-02-12T09:23:23.131Z"
   },
   {
    "duration": 2111,
    "start_time": "2025-02-12T09:23:23.359Z"
   },
   {
    "duration": 2102,
    "start_time": "2025-02-12T09:23:25.472Z"
   },
   {
    "duration": 2187,
    "start_time": "2025-02-12T09:23:27.575Z"
   },
   {
    "duration": 5,
    "start_time": "2025-02-12T09:23:37.498Z"
   },
   {
    "duration": 1381,
    "start_time": "2025-02-12T09:23:37.650Z"
   },
   {
    "duration": 1383,
    "start_time": "2025-02-12T09:23:39.033Z"
   },
   {
    "duration": 1433,
    "start_time": "2025-02-12T09:23:40.418Z"
   },
   {
    "duration": 2507,
    "start_time": "2025-02-12T09:25:13.538Z"
   },
   {
    "duration": 1498,
    "start_time": "2025-02-12T09:25:16.048Z"
   },
   {
    "duration": 152,
    "start_time": "2025-02-12T09:25:17.548Z"
   },
   {
    "duration": 22,
    "start_time": "2025-02-12T09:25:17.701Z"
   },
   {
    "duration": 137,
    "start_time": "2025-02-12T09:25:17.724Z"
   },
   {
    "duration": 15,
    "start_time": "2025-02-12T09:25:17.863Z"
   },
   {
    "duration": 142,
    "start_time": "2025-02-12T09:25:17.880Z"
   },
   {
    "duration": 16,
    "start_time": "2025-02-12T09:25:18.024Z"
   },
   {
    "duration": 90,
    "start_time": "2025-02-12T09:25:18.042Z"
   },
   {
    "duration": 31,
    "start_time": "2025-02-12T09:25:18.135Z"
   },
   {
    "duration": 70,
    "start_time": "2025-02-12T09:25:18.167Z"
   },
   {
    "duration": 11,
    "start_time": "2025-02-12T09:25:18.238Z"
   },
   {
    "duration": 12,
    "start_time": "2025-02-12T09:25:18.251Z"
   },
   {
    "duration": 12,
    "start_time": "2025-02-12T09:25:18.264Z"
   },
   {
    "duration": 5,
    "start_time": "2025-02-12T09:25:18.278Z"
   },
   {
    "duration": 6,
    "start_time": "2025-02-12T09:25:18.313Z"
   },
   {
    "duration": 5,
    "start_time": "2025-02-12T09:25:18.320Z"
   },
   {
    "duration": 32,
    "start_time": "2025-02-12T09:25:18.326Z"
   },
   {
    "duration": 22,
    "start_time": "2025-02-12T09:25:18.359Z"
   },
   {
    "duration": 51,
    "start_time": "2025-02-12T09:25:18.382Z"
   },
   {
    "duration": 960,
    "start_time": "2025-02-12T09:25:18.435Z"
   },
   {
    "duration": 3,
    "start_time": "2025-02-12T09:25:19.396Z"
   },
   {
    "duration": 717,
    "start_time": "2025-02-12T09:25:19.401Z"
   },
   {
    "duration": 968,
    "start_time": "2025-02-12T09:25:20.119Z"
   },
   {
    "duration": 617,
    "start_time": "2025-02-12T09:25:21.089Z"
   },
   {
    "duration": 958,
    "start_time": "2025-02-12T09:25:21.713Z"
   },
   {
    "duration": 625,
    "start_time": "2025-02-12T09:25:22.673Z"
   },
   {
    "duration": 3,
    "start_time": "2025-02-12T09:25:23.302Z"
   },
   {
    "duration": 4,
    "start_time": "2025-02-12T09:25:23.314Z"
   },
   {
    "duration": 3,
    "start_time": "2025-02-12T09:25:23.319Z"
   },
   {
    "duration": 7,
    "start_time": "2025-02-12T09:25:23.324Z"
   },
   {
    "duration": 224,
    "start_time": "2025-02-12T09:25:23.332Z"
   },
   {
    "duration": 4,
    "start_time": "2025-02-12T09:25:23.557Z"
   },
   {
    "duration": 58,
    "start_time": "2025-02-12T09:25:23.562Z"
   },
   {
    "duration": 192,
    "start_time": "2025-02-12T09:25:23.622Z"
   },
   {
    "duration": 197,
    "start_time": "2025-02-12T09:25:23.817Z"
   },
   {
    "duration": 4,
    "start_time": "2025-02-12T09:25:24.017Z"
   },
   {
    "duration": 95,
    "start_time": "2025-02-12T09:25:24.023Z"
   },
   {
    "duration": 5,
    "start_time": "2025-02-12T09:25:24.119Z"
   },
   {
    "duration": 5,
    "start_time": "2025-02-12T09:25:24.125Z"
   },
   {
    "duration": 2,
    "start_time": "2025-02-12T09:25:24.131Z"
   },
   {
    "duration": 3,
    "start_time": "2025-02-12T09:25:24.135Z"
   },
   {
    "duration": 3,
    "start_time": "2025-02-12T09:25:24.139Z"
   },
   {
    "duration": 4,
    "start_time": "2025-02-12T09:25:24.144Z"
   },
   {
    "duration": 6,
    "start_time": "2025-02-12T09:25:24.150Z"
   },
   {
    "duration": 4,
    "start_time": "2025-02-12T09:25:24.157Z"
   },
   {
    "duration": 51,
    "start_time": "2025-02-12T09:25:24.163Z"
   },
   {
    "duration": 125,
    "start_time": "2025-02-12T09:25:24.216Z"
   },
   {
    "duration": 0,
    "start_time": "2025-02-12T09:25:24.343Z"
   },
   {
    "duration": 0,
    "start_time": "2025-02-12T09:25:24.345Z"
   },
   {
    "duration": 0,
    "start_time": "2025-02-12T09:25:24.346Z"
   },
   {
    "duration": 6,
    "start_time": "2025-02-12T09:26:31.958Z"
   },
   {
    "duration": 15,
    "start_time": "2025-02-12T09:26:31.981Z"
   },
   {
    "duration": 6,
    "start_time": "2025-02-12T09:26:39.850Z"
   },
   {
    "duration": 1629,
    "start_time": "2025-02-12T09:26:39.927Z"
   },
   {
    "duration": 1653,
    "start_time": "2025-02-12T09:26:44.815Z"
   },
   {
    "duration": 1664,
    "start_time": "2025-02-12T09:26:46.470Z"
   },
   {
    "duration": 56,
    "start_time": "2025-02-12T09:30:34.624Z"
   },
   {
    "duration": 1653,
    "start_time": "2025-02-12T09:30:34.768Z"
   },
   {
    "duration": 1628,
    "start_time": "2025-02-12T09:30:36.423Z"
   },
   {
    "duration": 1636,
    "start_time": "2025-02-12T09:30:38.052Z"
   },
   {
    "duration": 6,
    "start_time": "2025-02-12T09:30:48.093Z"
   },
   {
    "duration": 1626,
    "start_time": "2025-02-12T09:30:48.224Z"
   },
   {
    "duration": 1604,
    "start_time": "2025-02-12T09:30:49.851Z"
   },
   {
    "duration": 1600,
    "start_time": "2025-02-12T09:30:51.456Z"
   },
   {
    "duration": 5,
    "start_time": "2025-02-12T09:31:21.347Z"
   },
   {
    "duration": 1694,
    "start_time": "2025-02-12T09:31:22.032Z"
   },
   {
    "duration": 1662,
    "start_time": "2025-02-12T09:31:23.728Z"
   },
   {
    "duration": 1777,
    "start_time": "2025-02-12T09:31:25.392Z"
   },
   {
    "duration": 5,
    "start_time": "2025-02-12T09:31:50.671Z"
   },
   {
    "duration": 1632,
    "start_time": "2025-02-12T09:31:50.801Z"
   },
   {
    "duration": 1646,
    "start_time": "2025-02-12T09:31:52.435Z"
   },
   {
    "duration": 1631,
    "start_time": "2025-02-12T09:31:54.083Z"
   },
   {
    "duration": 6,
    "start_time": "2025-02-12T09:35:00.931Z"
   },
   {
    "duration": 1654,
    "start_time": "2025-02-12T09:35:01.045Z"
   },
   {
    "duration": 1715,
    "start_time": "2025-02-12T09:35:02.701Z"
   },
   {
    "duration": 6,
    "start_time": "2025-02-12T09:35:36.295Z"
   },
   {
    "duration": 1635,
    "start_time": "2025-02-12T09:35:36.432Z"
   },
   {
    "duration": 1604,
    "start_time": "2025-02-12T09:35:38.069Z"
   },
   {
    "duration": 1590,
    "start_time": "2025-02-12T09:35:39.675Z"
   },
   {
    "duration": 6,
    "start_time": "2025-02-12T09:36:33.971Z"
   },
   {
    "duration": 6,
    "start_time": "2025-02-12T09:40:23.206Z"
   },
   {
    "duration": 1706,
    "start_time": "2025-02-12T09:40:23.325Z"
   },
   {
    "duration": 1732,
    "start_time": "2025-02-12T09:40:25.033Z"
   },
   {
    "duration": 1666,
    "start_time": "2025-02-12T09:40:26.767Z"
   },
   {
    "duration": 5,
    "start_time": "2025-02-12T09:40:42.927Z"
   },
   {
    "duration": 6,
    "start_time": "2025-02-12T09:40:59.278Z"
   },
   {
    "duration": 1695,
    "start_time": "2025-02-12T09:41:02.934Z"
   },
   {
    "duration": 6,
    "start_time": "2025-02-12T09:41:44.509Z"
   },
   {
    "duration": 1636,
    "start_time": "2025-02-12T09:41:45.928Z"
   },
   {
    "duration": 1667,
    "start_time": "2025-02-12T09:41:47.567Z"
   },
   {
    "duration": 6,
    "start_time": "2025-02-12T09:41:55.105Z"
   },
   {
    "duration": 6,
    "start_time": "2025-02-12T09:42:02.258Z"
   },
   {
    "duration": 1647,
    "start_time": "2025-02-12T09:42:02.355Z"
   },
   {
    "duration": 1680,
    "start_time": "2025-02-12T09:42:04.004Z"
   },
   {
    "duration": 1693,
    "start_time": "2025-02-12T09:42:05.686Z"
   },
   {
    "duration": 5,
    "start_time": "2025-02-12T09:43:05.287Z"
   },
   {
    "duration": 1758,
    "start_time": "2025-02-12T09:43:05.829Z"
   },
   {
    "duration": 1818,
    "start_time": "2025-02-12T09:43:07.589Z"
   },
   {
    "duration": 6,
    "start_time": "2025-02-12T09:44:46.608Z"
   },
   {
    "duration": 1660,
    "start_time": "2025-02-12T09:44:47.712Z"
   },
   {
    "duration": 6,
    "start_time": "2025-02-12T09:45:03.872Z"
   },
   {
    "duration": 1789,
    "start_time": "2025-02-12T09:45:04.961Z"
   },
   {
    "duration": 8,
    "start_time": "2025-02-12T09:45:35.156Z"
   },
   {
    "duration": 1849,
    "start_time": "2025-02-12T09:45:35.620Z"
   },
   {
    "duration": 1878,
    "start_time": "2025-02-12T09:45:37.471Z"
   },
   {
    "duration": 5,
    "start_time": "2025-02-12T09:45:57.481Z"
   },
   {
    "duration": 1712,
    "start_time": "2025-02-12T09:45:57.778Z"
   },
   {
    "duration": 7,
    "start_time": "2025-02-12T09:46:13.727Z"
   },
   {
    "duration": 1688,
    "start_time": "2025-02-12T09:46:14.343Z"
   },
   {
    "duration": 6,
    "start_time": "2025-02-12T09:46:24.667Z"
   },
   {
    "duration": 1671,
    "start_time": "2025-02-12T09:46:24.765Z"
   },
   {
    "duration": 6,
    "start_time": "2025-02-12T09:46:35.883Z"
   },
   {
    "duration": 1784,
    "start_time": "2025-02-12T09:46:35.960Z"
   },
   {
    "duration": 6,
    "start_time": "2025-02-12T09:46:48.645Z"
   },
   {
    "duration": 1894,
    "start_time": "2025-02-12T09:46:48.653Z"
   },
   {
    "duration": 7,
    "start_time": "2025-02-12T09:46:59.547Z"
   },
   {
    "duration": 1756,
    "start_time": "2025-02-12T09:46:59.710Z"
   },
   {
    "duration": 6,
    "start_time": "2025-02-12T09:47:08.849Z"
   },
   {
    "duration": 1671,
    "start_time": "2025-02-12T09:47:09.016Z"
   },
   {
    "duration": 1788,
    "start_time": "2025-02-12T09:47:10.688Z"
   },
   {
    "duration": 7,
    "start_time": "2025-02-12T09:47:23.101Z"
   },
   {
    "duration": 1638,
    "start_time": "2025-02-12T09:47:23.238Z"
   },
   {
    "duration": 1703,
    "start_time": "2025-02-12T09:47:24.878Z"
   },
   {
    "duration": 6,
    "start_time": "2025-02-12T09:47:31.120Z"
   },
   {
    "duration": 1604,
    "start_time": "2025-02-12T09:47:31.162Z"
   },
   {
    "duration": 1648,
    "start_time": "2025-02-12T09:47:32.768Z"
   },
   {
    "duration": 1625,
    "start_time": "2025-02-12T09:47:41.722Z"
   },
   {
    "duration": 6,
    "start_time": "2025-02-12T09:48:08.181Z"
   },
   {
    "duration": 1786,
    "start_time": "2025-02-12T09:48:12.575Z"
   },
   {
    "duration": 7,
    "start_time": "2025-02-12T09:48:19.779Z"
   },
   {
    "duration": 1615,
    "start_time": "2025-02-12T09:48:21.503Z"
   },
   {
    "duration": 6,
    "start_time": "2025-02-12T09:48:32.842Z"
   },
   {
    "duration": 1725,
    "start_time": "2025-02-12T09:48:33.793Z"
   },
   {
    "duration": 5,
    "start_time": "2025-02-12T09:48:39.589Z"
   },
   {
    "duration": 1664,
    "start_time": "2025-02-12T09:48:39.725Z"
   },
   {
    "duration": 1847,
    "start_time": "2025-02-12T09:48:41.390Z"
   },
   {
    "duration": 1776,
    "start_time": "2025-02-12T09:48:43.239Z"
   },
   {
    "duration": 9,
    "start_time": "2025-02-12T09:51:25.401Z"
   },
   {
    "duration": 2141,
    "start_time": "2025-02-12T09:51:25.677Z"
   },
   {
    "duration": 0,
    "start_time": "2025-02-12T09:51:27.820Z"
   },
   {
    "duration": 0,
    "start_time": "2025-02-12T09:51:27.821Z"
   },
   {
    "duration": 9,
    "start_time": "2025-02-12T09:52:09.347Z"
   },
   {
    "duration": 2282,
    "start_time": "2025-02-12T09:52:09.358Z"
   },
   {
    "duration": 2263,
    "start_time": "2025-02-12T09:52:11.642Z"
   },
   {
    "duration": 2297,
    "start_time": "2025-02-12T09:52:13.906Z"
   },
   {
    "duration": 9,
    "start_time": "2025-02-12T09:53:13.641Z"
   },
   {
    "duration": 2127,
    "start_time": "2025-02-12T09:53:13.986Z"
   },
   {
    "duration": 2175,
    "start_time": "2025-02-12T09:53:16.116Z"
   },
   {
    "duration": 2020,
    "start_time": "2025-02-12T09:53:18.293Z"
   },
   {
    "duration": 8,
    "start_time": "2025-02-12T09:55:30.991Z"
   },
   {
    "duration": 1992,
    "start_time": "2025-02-12T09:55:31.109Z"
   },
   {
    "duration": 2077,
    "start_time": "2025-02-12T09:55:33.103Z"
   },
   {
    "duration": 2089,
    "start_time": "2025-02-12T09:55:35.182Z"
   },
   {
    "duration": 121,
    "start_time": "2025-02-12T09:55:57.318Z"
   },
   {
    "duration": 2038,
    "start_time": "2025-02-12T09:55:57.546Z"
   },
   {
    "duration": 2020,
    "start_time": "2025-02-12T09:55:59.586Z"
   },
   {
    "duration": 2087,
    "start_time": "2025-02-12T09:56:01.608Z"
   },
   {
    "duration": 8,
    "start_time": "2025-02-12T09:59:38.469Z"
   },
   {
    "duration": 14,
    "start_time": "2025-02-12T09:59:59.896Z"
   },
   {
    "duration": 47,
    "start_time": "2025-02-12T09:59:59.988Z"
   },
   {
    "duration": 7,
    "start_time": "2025-02-12T10:00:00.135Z"
   },
   {
    "duration": 7,
    "start_time": "2025-02-12T10:00:00.240Z"
   },
   {
    "duration": 2613,
    "start_time": "2025-02-12T10:00:10.877Z"
   },
   {
    "duration": 1640,
    "start_time": "2025-02-12T10:00:13.493Z"
   },
   {
    "duration": 177,
    "start_time": "2025-02-12T10:00:15.135Z"
   },
   {
    "duration": 17,
    "start_time": "2025-02-12T10:00:15.314Z"
   },
   {
    "duration": 163,
    "start_time": "2025-02-12T10:00:15.333Z"
   },
   {
    "duration": 22,
    "start_time": "2025-02-12T10:00:15.497Z"
   },
   {
    "duration": 152,
    "start_time": "2025-02-12T10:00:15.520Z"
   },
   {
    "duration": 15,
    "start_time": "2025-02-12T10:00:15.674Z"
   },
   {
    "duration": 101,
    "start_time": "2025-02-12T10:00:15.691Z"
   },
   {
    "duration": 45,
    "start_time": "2025-02-12T10:00:15.794Z"
   },
   {
    "duration": 50,
    "start_time": "2025-02-12T10:00:15.840Z"
   },
   {
    "duration": 24,
    "start_time": "2025-02-12T10:00:15.891Z"
   },
   {
    "duration": 13,
    "start_time": "2025-02-12T10:00:15.917Z"
   },
   {
    "duration": 14,
    "start_time": "2025-02-12T10:00:15.933Z"
   },
   {
    "duration": 6,
    "start_time": "2025-02-12T10:00:15.948Z"
   },
   {
    "duration": 11,
    "start_time": "2025-02-12T10:00:15.956Z"
   },
   {
    "duration": 5,
    "start_time": "2025-02-12T10:00:15.968Z"
   },
   {
    "duration": 69,
    "start_time": "2025-02-12T10:00:15.975Z"
   },
   {
    "duration": 23,
    "start_time": "2025-02-12T10:00:16.046Z"
   },
   {
    "duration": 59,
    "start_time": "2025-02-12T10:00:16.071Z"
   },
   {
    "duration": 1029,
    "start_time": "2025-02-12T10:00:16.132Z"
   },
   {
    "duration": 3,
    "start_time": "2025-02-12T10:00:17.163Z"
   },
   {
    "duration": 714,
    "start_time": "2025-02-12T10:00:17.168Z"
   },
   {
    "duration": 940,
    "start_time": "2025-02-12T10:00:17.883Z"
   },
   {
    "duration": 607,
    "start_time": "2025-02-12T10:00:18.825Z"
   },
   {
    "duration": 924,
    "start_time": "2025-02-12T10:00:19.434Z"
   },
   {
    "duration": 635,
    "start_time": "2025-02-12T10:00:20.359Z"
   },
   {
    "duration": 2,
    "start_time": "2025-02-12T10:00:20.996Z"
   },
   {
    "duration": 22,
    "start_time": "2025-02-12T10:00:21.000Z"
   },
   {
    "duration": 8,
    "start_time": "2025-02-12T10:00:21.023Z"
   },
   {
    "duration": 11,
    "start_time": "2025-02-12T10:00:21.033Z"
   },
   {
    "duration": 108,
    "start_time": "2025-02-12T10:00:21.046Z"
   },
   {
    "duration": 107,
    "start_time": "2025-02-12T10:00:21.155Z"
   },
   {
    "duration": 55,
    "start_time": "2025-02-12T10:00:21.264Z"
   },
   {
    "duration": 195,
    "start_time": "2025-02-12T10:00:21.321Z"
   },
   {
    "duration": 118,
    "start_time": "2025-02-12T10:00:21.518Z"
   },
   {
    "duration": 92,
    "start_time": "2025-02-12T10:00:21.722Z"
   },
   {
    "duration": 7,
    "start_time": "2025-02-12T10:00:21.816Z"
   },
   {
    "duration": 5,
    "start_time": "2025-02-12T10:00:21.824Z"
   },
   {
    "duration": 7,
    "start_time": "2025-02-12T10:00:21.830Z"
   },
   {
    "duration": 2,
    "start_time": "2025-02-12T10:00:21.842Z"
   },
   {
    "duration": 3,
    "start_time": "2025-02-12T10:00:21.846Z"
   },
   {
    "duration": 3,
    "start_time": "2025-02-12T10:00:21.851Z"
   },
   {
    "duration": 6,
    "start_time": "2025-02-12T10:00:21.856Z"
   },
   {
    "duration": 7,
    "start_time": "2025-02-12T10:00:21.863Z"
   },
   {
    "duration": 4,
    "start_time": "2025-02-12T10:00:21.871Z"
   },
   {
    "duration": 9,
    "start_time": "2025-02-12T10:00:21.914Z"
   },
   {
    "duration": 15,
    "start_time": "2025-02-12T10:00:51.526Z"
   },
   {
    "duration": 44,
    "start_time": "2025-02-12T10:00:51.636Z"
   },
   {
    "duration": 6,
    "start_time": "2025-02-12T10:00:51.795Z"
   },
   {
    "duration": 6,
    "start_time": "2025-02-12T10:00:51.915Z"
   },
   {
    "duration": 2546,
    "start_time": "2025-02-12T10:00:59.981Z"
   },
   {
    "duration": 1549,
    "start_time": "2025-02-12T10:01:02.530Z"
   },
   {
    "duration": 152,
    "start_time": "2025-02-12T10:01:04.081Z"
   },
   {
    "duration": 15,
    "start_time": "2025-02-12T10:01:04.236Z"
   },
   {
    "duration": 137,
    "start_time": "2025-02-12T10:01:04.252Z"
   },
   {
    "duration": 22,
    "start_time": "2025-02-12T10:01:04.391Z"
   },
   {
    "duration": 138,
    "start_time": "2025-02-12T10:01:04.415Z"
   },
   {
    "duration": 14,
    "start_time": "2025-02-12T10:01:04.554Z"
   },
   {
    "duration": 89,
    "start_time": "2025-02-12T10:01:04.570Z"
   },
   {
    "duration": 52,
    "start_time": "2025-02-12T10:01:04.662Z"
   },
   {
    "duration": 53,
    "start_time": "2025-02-12T10:01:04.715Z"
   },
   {
    "duration": 12,
    "start_time": "2025-02-12T10:01:04.770Z"
   },
   {
    "duration": 33,
    "start_time": "2025-02-12T10:01:04.783Z"
   },
   {
    "duration": 31,
    "start_time": "2025-02-12T10:01:04.818Z"
   },
   {
    "duration": 17,
    "start_time": "2025-02-12T10:01:04.851Z"
   },
   {
    "duration": 6,
    "start_time": "2025-02-12T10:01:04.870Z"
   },
   {
    "duration": 11,
    "start_time": "2025-02-12T10:01:04.877Z"
   },
   {
    "duration": 39,
    "start_time": "2025-02-12T10:01:04.889Z"
   },
   {
    "duration": 25,
    "start_time": "2025-02-12T10:01:04.930Z"
   },
   {
    "duration": 31,
    "start_time": "2025-02-12T10:01:04.956Z"
   },
   {
    "duration": 1005,
    "start_time": "2025-02-12T10:01:04.989Z"
   },
   {
    "duration": 3,
    "start_time": "2025-02-12T10:01:05.996Z"
   },
   {
    "duration": 720,
    "start_time": "2025-02-12T10:01:06.001Z"
   },
   {
    "duration": 934,
    "start_time": "2025-02-12T10:01:06.722Z"
   },
   {
    "duration": 630,
    "start_time": "2025-02-12T10:01:07.658Z"
   },
   {
    "duration": 958,
    "start_time": "2025-02-12T10:01:08.291Z"
   },
   {
    "duration": 633,
    "start_time": "2025-02-12T10:01:09.251Z"
   },
   {
    "duration": 2,
    "start_time": "2025-02-12T10:01:09.889Z"
   },
   {
    "duration": 4,
    "start_time": "2025-02-12T10:01:09.893Z"
   },
   {
    "duration": 3,
    "start_time": "2025-02-12T10:01:09.914Z"
   },
   {
    "duration": 10,
    "start_time": "2025-02-12T10:01:09.919Z"
   },
   {
    "duration": 120,
    "start_time": "2025-02-12T10:01:09.931Z"
   },
   {
    "duration": 115,
    "start_time": "2025-02-12T10:01:10.053Z"
   },
   {
    "duration": 47,
    "start_time": "2025-02-12T10:01:10.170Z"
   },
   {
    "duration": 200,
    "start_time": "2025-02-12T10:01:10.219Z"
   },
   {
    "duration": 192,
    "start_time": "2025-02-12T10:01:10.422Z"
   },
   {
    "duration": 5,
    "start_time": "2025-02-12T10:01:10.617Z"
   },
   {
    "duration": 5,
    "start_time": "2025-02-12T10:01:10.714Z"
   },
   {
    "duration": 6,
    "start_time": "2025-02-12T10:01:10.720Z"
   },
   {
    "duration": 6,
    "start_time": "2025-02-12T10:01:10.727Z"
   },
   {
    "duration": 3,
    "start_time": "2025-02-12T10:01:10.734Z"
   },
   {
    "duration": 4,
    "start_time": "2025-02-12T10:01:10.738Z"
   },
   {
    "duration": 3,
    "start_time": "2025-02-12T10:01:10.743Z"
   },
   {
    "duration": 5,
    "start_time": "2025-02-12T10:01:10.747Z"
   },
   {
    "duration": 7,
    "start_time": "2025-02-12T10:01:10.753Z"
   },
   {
    "duration": 3,
    "start_time": "2025-02-12T10:01:10.762Z"
   },
   {
    "duration": 50,
    "start_time": "2025-02-12T10:01:10.766Z"
   },
   {
    "duration": 2255,
    "start_time": "2025-02-12T10:01:10.818Z"
   },
   {
    "duration": 2359,
    "start_time": "2025-02-12T10:01:13.076Z"
   },
   {
    "duration": 2354,
    "start_time": "2025-02-12T10:01:15.437Z"
   },
   {
    "duration": 8,
    "start_time": "2025-02-12T10:01:29.043Z"
   },
   {
    "duration": 1987,
    "start_time": "2025-02-12T10:01:29.193Z"
   },
   {
    "duration": 2053,
    "start_time": "2025-02-12T10:01:31.182Z"
   },
   {
    "duration": 2154,
    "start_time": "2025-02-12T10:01:33.236Z"
   },
   {
    "duration": 8,
    "start_time": "2025-02-12T10:01:52.572Z"
   },
   {
    "duration": 2067,
    "start_time": "2025-02-12T10:01:52.711Z"
   },
   {
    "duration": 2017,
    "start_time": "2025-02-12T10:01:54.779Z"
   },
   {
    "duration": 1999,
    "start_time": "2025-02-12T10:01:56.798Z"
   },
   {
    "duration": 8,
    "start_time": "2025-02-12T10:53:53.923Z"
   },
   {
    "duration": 1985,
    "start_time": "2025-02-12T10:53:56.314Z"
   },
   {
    "duration": 1958,
    "start_time": "2025-02-12T10:53:58.301Z"
   },
   {
    "duration": 2012,
    "start_time": "2025-02-12T10:54:00.261Z"
   },
   {
    "duration": 2555,
    "start_time": "2025-02-12T11:01:42.513Z"
   },
   {
    "duration": 1490,
    "start_time": "2025-02-12T11:01:45.071Z"
   },
   {
    "duration": 167,
    "start_time": "2025-02-12T11:01:46.563Z"
   },
   {
    "duration": 16,
    "start_time": "2025-02-12T11:01:46.732Z"
   },
   {
    "duration": 147,
    "start_time": "2025-02-12T11:01:46.750Z"
   },
   {
    "duration": 23,
    "start_time": "2025-02-12T11:01:46.898Z"
   },
   {
    "duration": 169,
    "start_time": "2025-02-12T11:01:46.923Z"
   },
   {
    "duration": 24,
    "start_time": "2025-02-12T11:01:47.094Z"
   },
   {
    "duration": 76,
    "start_time": "2025-02-12T11:01:47.119Z"
   },
   {
    "duration": 46,
    "start_time": "2025-02-12T11:01:47.198Z"
   },
   {
    "duration": 52,
    "start_time": "2025-02-12T11:01:47.246Z"
   },
   {
    "duration": 12,
    "start_time": "2025-02-12T11:01:47.313Z"
   },
   {
    "duration": 16,
    "start_time": "2025-02-12T11:01:47.327Z"
   },
   {
    "duration": 13,
    "start_time": "2025-02-12T11:01:47.345Z"
   },
   {
    "duration": 5,
    "start_time": "2025-02-12T11:01:47.360Z"
   },
   {
    "duration": 5,
    "start_time": "2025-02-12T11:01:47.367Z"
   },
   {
    "duration": 42,
    "start_time": "2025-02-12T11:01:47.374Z"
   },
   {
    "duration": 33,
    "start_time": "2025-02-12T11:01:47.418Z"
   },
   {
    "duration": 26,
    "start_time": "2025-02-12T11:01:47.453Z"
   },
   {
    "duration": 52,
    "start_time": "2025-02-12T11:01:47.481Z"
   },
   {
    "duration": 974,
    "start_time": "2025-02-12T11:01:47.535Z"
   },
   {
    "duration": 4,
    "start_time": "2025-02-12T11:01:48.510Z"
   },
   {
    "duration": 709,
    "start_time": "2025-02-12T11:01:48.515Z"
   },
   {
    "duration": 931,
    "start_time": "2025-02-12T11:01:49.226Z"
   },
   {
    "duration": 635,
    "start_time": "2025-02-12T11:01:50.159Z"
   },
   {
    "duration": 948,
    "start_time": "2025-02-12T11:01:50.796Z"
   },
   {
    "duration": 643,
    "start_time": "2025-02-12T11:01:51.745Z"
   },
   {
    "duration": 2,
    "start_time": "2025-02-12T11:01:52.392Z"
   },
   {
    "duration": 25,
    "start_time": "2025-02-12T11:01:52.396Z"
   },
   {
    "duration": 11,
    "start_time": "2025-02-12T11:01:52.423Z"
   },
   {
    "duration": 8,
    "start_time": "2025-02-12T11:01:52.435Z"
   },
   {
    "duration": 102,
    "start_time": "2025-02-12T11:01:52.445Z"
   },
   {
    "duration": 120,
    "start_time": "2025-02-12T11:01:52.549Z"
   },
   {
    "duration": 142,
    "start_time": "2025-02-12T11:01:52.671Z"
   },
   {
    "duration": 200,
    "start_time": "2025-02-12T11:01:52.817Z"
   },
   {
    "duration": 193,
    "start_time": "2025-02-12T11:01:53.020Z"
   },
   {
    "duration": 6,
    "start_time": "2025-02-12T11:01:53.216Z"
   },
   {
    "duration": 15,
    "start_time": "2025-02-12T11:01:53.314Z"
   },
   {
    "duration": 4,
    "start_time": "2025-02-12T11:01:53.331Z"
   },
   {
    "duration": 5,
    "start_time": "2025-02-12T11:01:53.337Z"
   },
   {
    "duration": 3,
    "start_time": "2025-02-12T11:01:53.344Z"
   },
   {
    "duration": 2,
    "start_time": "2025-02-12T11:01:53.349Z"
   },
   {
    "duration": 3,
    "start_time": "2025-02-12T11:01:53.353Z"
   },
   {
    "duration": 4,
    "start_time": "2025-02-12T11:01:53.358Z"
   },
   {
    "duration": 150,
    "start_time": "2025-02-12T11:01:53.364Z"
   },
   {
    "duration": 0,
    "start_time": "2025-02-12T11:01:53.517Z"
   },
   {
    "duration": 0,
    "start_time": "2025-02-12T11:01:53.519Z"
   },
   {
    "duration": 0,
    "start_time": "2025-02-12T11:01:53.520Z"
   },
   {
    "duration": 0,
    "start_time": "2025-02-12T11:01:53.522Z"
   },
   {
    "duration": 0,
    "start_time": "2025-02-12T11:01:53.523Z"
   },
   {
    "duration": 4,
    "start_time": "2025-02-12T11:02:08.435Z"
   },
   {
    "duration": 3,
    "start_time": "2025-02-12T11:02:09.638Z"
   },
   {
    "duration": 8,
    "start_time": "2025-02-12T11:02:10.573Z"
   },
   {
    "duration": 2029,
    "start_time": "2025-02-12T11:02:10.586Z"
   },
   {
    "duration": 1949,
    "start_time": "2025-02-12T11:02:12.617Z"
   },
   {
    "duration": 2038,
    "start_time": "2025-02-12T11:02:14.568Z"
   },
   {
    "duration": 3,
    "start_time": "2025-02-12T11:03:32.569Z"
   },
   {
    "duration": 10,
    "start_time": "2025-02-12T11:03:34.139Z"
   },
   {
    "duration": 2038,
    "start_time": "2025-02-12T11:03:34.151Z"
   },
   {
    "duration": 1978,
    "start_time": "2025-02-12T11:03:36.192Z"
   },
   {
    "duration": 2539,
    "start_time": "2025-02-12T11:03:41.918Z"
   },
   {
    "duration": 1477,
    "start_time": "2025-02-12T11:03:44.460Z"
   },
   {
    "duration": 156,
    "start_time": "2025-02-12T11:03:45.938Z"
   },
   {
    "duration": 20,
    "start_time": "2025-02-12T11:03:46.095Z"
   },
   {
    "duration": 144,
    "start_time": "2025-02-12T11:03:46.117Z"
   },
   {
    "duration": 13,
    "start_time": "2025-02-12T11:03:46.262Z"
   },
   {
    "duration": 143,
    "start_time": "2025-02-12T11:03:46.277Z"
   },
   {
    "duration": 16,
    "start_time": "2025-02-12T11:03:46.422Z"
   },
   {
    "duration": 103,
    "start_time": "2025-02-12T11:03:46.439Z"
   },
   {
    "duration": 41,
    "start_time": "2025-02-12T11:03:46.545Z"
   },
   {
    "duration": 75,
    "start_time": "2025-02-12T11:03:46.588Z"
   },
   {
    "duration": 12,
    "start_time": "2025-02-12T11:03:46.664Z"
   },
   {
    "duration": 35,
    "start_time": "2025-02-12T11:03:46.678Z"
   },
   {
    "duration": 14,
    "start_time": "2025-02-12T11:03:46.717Z"
   },
   {
    "duration": 6,
    "start_time": "2025-02-12T11:03:46.732Z"
   },
   {
    "duration": 6,
    "start_time": "2025-02-12T11:03:46.739Z"
   },
   {
    "duration": 6,
    "start_time": "2025-02-12T11:03:46.746Z"
   },
   {
    "duration": 70,
    "start_time": "2025-02-12T11:03:46.753Z"
   },
   {
    "duration": 22,
    "start_time": "2025-02-12T11:03:46.824Z"
   },
   {
    "duration": 28,
    "start_time": "2025-02-12T11:03:46.848Z"
   },
   {
    "duration": 955,
    "start_time": "2025-02-12T11:03:46.878Z"
   },
   {
    "duration": 3,
    "start_time": "2025-02-12T11:03:47.835Z"
   },
   {
    "duration": 694,
    "start_time": "2025-02-12T11:03:47.839Z"
   },
   {
    "duration": 911,
    "start_time": "2025-02-12T11:03:48.534Z"
   },
   {
    "duration": 625,
    "start_time": "2025-02-12T11:03:49.447Z"
   },
   {
    "duration": 932,
    "start_time": "2025-02-12T11:03:50.074Z"
   },
   {
    "duration": 593,
    "start_time": "2025-02-12T11:03:51.007Z"
   },
   {
    "duration": 12,
    "start_time": "2025-02-12T11:03:51.602Z"
   },
   {
    "duration": 3,
    "start_time": "2025-02-12T11:03:51.615Z"
   },
   {
    "duration": 15,
    "start_time": "2025-02-12T11:03:51.619Z"
   },
   {
    "duration": 8,
    "start_time": "2025-02-12T11:03:51.636Z"
   },
   {
    "duration": 115,
    "start_time": "2025-02-12T11:03:51.645Z"
   },
   {
    "duration": 105,
    "start_time": "2025-02-12T11:03:51.762Z"
   },
   {
    "duration": 46,
    "start_time": "2025-02-12T11:03:51.869Z"
   },
   {
    "duration": 296,
    "start_time": "2025-02-12T11:03:51.917Z"
   },
   {
    "duration": 199,
    "start_time": "2025-02-12T11:03:52.216Z"
   },
   {
    "duration": 4,
    "start_time": "2025-02-12T11:03:52.417Z"
   },
   {
    "duration": 102,
    "start_time": "2025-02-12T11:03:52.423Z"
   },
   {
    "duration": 13,
    "start_time": "2025-02-12T11:03:52.526Z"
   },
   {
    "duration": 5,
    "start_time": "2025-02-12T11:03:52.540Z"
   },
   {
    "duration": 2,
    "start_time": "2025-02-12T11:03:52.548Z"
   },
   {
    "duration": 3,
    "start_time": "2025-02-12T11:03:52.552Z"
   },
   {
    "duration": 3,
    "start_time": "2025-02-12T11:03:52.557Z"
   },
   {
    "duration": 5,
    "start_time": "2025-02-12T11:03:52.561Z"
   },
   {
    "duration": 4,
    "start_time": "2025-02-12T11:03:52.567Z"
   },
   {
    "duration": 3,
    "start_time": "2025-02-12T11:03:52.573Z"
   },
   {
    "duration": 37,
    "start_time": "2025-02-12T11:03:52.577Z"
   },
   {
    "duration": 1979,
    "start_time": "2025-02-12T11:03:52.616Z"
   },
   {
    "duration": 1981,
    "start_time": "2025-02-12T11:03:54.596Z"
   },
   {
    "duration": 1999,
    "start_time": "2025-02-12T11:03:56.579Z"
   },
   {
    "duration": 2509,
    "start_time": "2025-02-12T11:05:42.118Z"
   },
   {
    "duration": 1489,
    "start_time": "2025-02-12T11:05:44.629Z"
   },
   {
    "duration": 153,
    "start_time": "2025-02-12T11:05:46.123Z"
   },
   {
    "duration": 15,
    "start_time": "2025-02-12T11:05:46.278Z"
   },
   {
    "duration": 137,
    "start_time": "2025-02-12T11:05:46.295Z"
   },
   {
    "duration": 15,
    "start_time": "2025-02-12T11:05:46.434Z"
   },
   {
    "duration": 165,
    "start_time": "2025-02-12T11:05:46.451Z"
   },
   {
    "duration": 15,
    "start_time": "2025-02-12T11:05:46.617Z"
   },
   {
    "duration": 94,
    "start_time": "2025-02-12T11:05:46.633Z"
   },
   {
    "duration": 33,
    "start_time": "2025-02-12T11:05:46.730Z"
   },
   {
    "duration": 71,
    "start_time": "2025-02-12T11:05:46.765Z"
   },
   {
    "duration": 12,
    "start_time": "2025-02-12T11:05:46.838Z"
   },
   {
    "duration": 14,
    "start_time": "2025-02-12T11:05:46.851Z"
   },
   {
    "duration": 14,
    "start_time": "2025-02-12T11:05:46.866Z"
   },
   {
    "duration": 33,
    "start_time": "2025-02-12T11:05:46.881Z"
   },
   {
    "duration": 6,
    "start_time": "2025-02-12T11:05:46.916Z"
   },
   {
    "duration": 10,
    "start_time": "2025-02-12T11:05:46.923Z"
   },
   {
    "duration": 33,
    "start_time": "2025-02-12T11:05:46.935Z"
   },
   {
    "duration": 49,
    "start_time": "2025-02-12T11:05:46.970Z"
   },
   {
    "duration": 31,
    "start_time": "2025-02-12T11:05:47.021Z"
   },
   {
    "duration": 962,
    "start_time": "2025-02-12T11:05:47.054Z"
   },
   {
    "duration": 3,
    "start_time": "2025-02-12T11:05:48.018Z"
   },
   {
    "duration": 681,
    "start_time": "2025-02-12T11:05:48.022Z"
   },
   {
    "duration": 909,
    "start_time": "2025-02-12T11:05:48.704Z"
   },
   {
    "duration": 582,
    "start_time": "2025-02-12T11:05:49.615Z"
   },
   {
    "duration": 903,
    "start_time": "2025-02-12T11:05:50.199Z"
   },
   {
    "duration": 585,
    "start_time": "2025-02-12T11:05:51.104Z"
   },
   {
    "duration": 2,
    "start_time": "2025-02-12T11:05:51.694Z"
   },
   {
    "duration": 2,
    "start_time": "2025-02-12T11:05:51.714Z"
   },
   {
    "duration": 9,
    "start_time": "2025-02-12T11:05:51.718Z"
   },
   {
    "duration": 12,
    "start_time": "2025-02-12T11:05:51.729Z"
   },
   {
    "duration": 96,
    "start_time": "2025-02-12T11:05:51.743Z"
   },
   {
    "duration": 104,
    "start_time": "2025-02-12T11:05:51.841Z"
   },
   {
    "duration": 67,
    "start_time": "2025-02-12T11:05:51.948Z"
   },
   {
    "duration": 200,
    "start_time": "2025-02-12T11:05:52.018Z"
   },
   {
    "duration": 195,
    "start_time": "2025-02-12T11:05:52.220Z"
   },
   {
    "duration": 96,
    "start_time": "2025-02-12T11:05:52.418Z"
   },
   {
    "duration": 24,
    "start_time": "2025-02-12T11:05:52.515Z"
   },
   {
    "duration": 5,
    "start_time": "2025-02-12T11:05:52.541Z"
   },
   {
    "duration": 4,
    "start_time": "2025-02-12T11:05:52.547Z"
   },
   {
    "duration": 4,
    "start_time": "2025-02-12T11:05:52.553Z"
   },
   {
    "duration": 6,
    "start_time": "2025-02-12T11:05:52.558Z"
   },
   {
    "duration": 5,
    "start_time": "2025-02-12T11:05:52.566Z"
   },
   {
    "duration": 15,
    "start_time": "2025-02-12T11:05:52.572Z"
   },
   {
    "duration": 10,
    "start_time": "2025-02-12T11:05:52.589Z"
   },
   {
    "duration": 3,
    "start_time": "2025-02-12T11:05:52.601Z"
   },
   {
    "duration": 9,
    "start_time": "2025-02-12T11:05:52.614Z"
   },
   {
    "duration": 2050,
    "start_time": "2025-02-12T11:05:52.624Z"
   },
   {
    "duration": 1966,
    "start_time": "2025-02-12T11:05:54.675Z"
   },
   {
    "duration": 1955,
    "start_time": "2025-02-12T11:05:56.643Z"
   },
   {
    "duration": 2457,
    "start_time": "2025-02-12T11:06:38.765Z"
   },
   {
    "duration": 1516,
    "start_time": "2025-02-12T11:06:41.224Z"
   },
   {
    "duration": 156,
    "start_time": "2025-02-12T11:06:42.742Z"
   },
   {
    "duration": 15,
    "start_time": "2025-02-12T11:06:42.900Z"
   },
   {
    "duration": 174,
    "start_time": "2025-02-12T11:06:42.916Z"
   },
   {
    "duration": 15,
    "start_time": "2025-02-12T11:06:43.092Z"
   },
   {
    "duration": 153,
    "start_time": "2025-02-12T11:06:43.109Z"
   },
   {
    "duration": 14,
    "start_time": "2025-02-12T11:06:43.264Z"
   },
   {
    "duration": 86,
    "start_time": "2025-02-12T11:06:43.280Z"
   },
   {
    "duration": 32,
    "start_time": "2025-02-12T11:06:43.368Z"
   },
   {
    "duration": 52,
    "start_time": "2025-02-12T11:06:43.413Z"
   },
   {
    "duration": 11,
    "start_time": "2025-02-12T11:06:43.467Z"
   },
   {
    "duration": 34,
    "start_time": "2025-02-12T11:06:43.480Z"
   },
   {
    "duration": 14,
    "start_time": "2025-02-12T11:06:43.515Z"
   },
   {
    "duration": 6,
    "start_time": "2025-02-12T11:06:43.530Z"
   },
   {
    "duration": 18,
    "start_time": "2025-02-12T11:06:43.537Z"
   },
   {
    "duration": 5,
    "start_time": "2025-02-12T11:06:43.556Z"
   },
   {
    "duration": 51,
    "start_time": "2025-02-12T11:06:43.563Z"
   },
   {
    "duration": 22,
    "start_time": "2025-02-12T11:06:43.615Z"
   },
   {
    "duration": 32,
    "start_time": "2025-02-12T11:06:43.638Z"
   },
   {
    "duration": 1004,
    "start_time": "2025-02-12T11:06:43.672Z"
   },
   {
    "duration": 3,
    "start_time": "2025-02-12T11:06:44.679Z"
   },
   {
    "duration": 731,
    "start_time": "2025-02-12T11:06:44.684Z"
   },
   {
    "duration": 939,
    "start_time": "2025-02-12T11:06:45.417Z"
   },
   {
    "duration": 637,
    "start_time": "2025-02-12T11:06:46.358Z"
   },
   {
    "duration": 897,
    "start_time": "2025-02-12T11:06:46.997Z"
   },
   {
    "duration": 593,
    "start_time": "2025-02-12T11:06:47.896Z"
   },
   {
    "duration": 2,
    "start_time": "2025-02-12T11:06:48.494Z"
   },
   {
    "duration": 15,
    "start_time": "2025-02-12T11:06:48.498Z"
   },
   {
    "duration": 4,
    "start_time": "2025-02-12T11:06:48.515Z"
   },
   {
    "duration": 8,
    "start_time": "2025-02-12T11:06:48.520Z"
   },
   {
    "duration": 126,
    "start_time": "2025-02-12T11:06:48.530Z"
   },
   {
    "duration": 114,
    "start_time": "2025-02-12T11:06:48.658Z"
   },
   {
    "duration": 40,
    "start_time": "2025-02-12T11:06:48.774Z"
   },
   {
    "duration": 200,
    "start_time": "2025-02-12T11:06:48.817Z"
   },
   {
    "duration": 196,
    "start_time": "2025-02-12T11:06:49.019Z"
   },
   {
    "duration": 3,
    "start_time": "2025-02-12T11:06:49.218Z"
   },
   {
    "duration": 5,
    "start_time": "2025-02-12T11:06:49.314Z"
   },
   {
    "duration": 4,
    "start_time": "2025-02-12T11:06:49.321Z"
   },
   {
    "duration": 4,
    "start_time": "2025-02-12T11:06:49.327Z"
   },
   {
    "duration": 2,
    "start_time": "2025-02-12T11:06:49.333Z"
   },
   {
    "duration": 3,
    "start_time": "2025-02-12T11:06:49.337Z"
   },
   {
    "duration": 18,
    "start_time": "2025-02-12T11:06:49.341Z"
   },
   {
    "duration": 5,
    "start_time": "2025-02-12T11:06:49.360Z"
   },
   {
    "duration": 4,
    "start_time": "2025-02-12T11:06:49.366Z"
   },
   {
    "duration": 12,
    "start_time": "2025-02-12T11:06:49.371Z"
   },
   {
    "duration": 34,
    "start_time": "2025-02-12T11:06:49.385Z"
   },
   {
    "duration": 2034,
    "start_time": "2025-02-12T11:06:49.421Z"
   },
   {
    "duration": 2022,
    "start_time": "2025-02-12T11:06:51.456Z"
   },
   {
    "duration": 2020,
    "start_time": "2025-02-12T11:06:53.480Z"
   },
   {
    "duration": 2549,
    "start_time": "2025-02-12T11:08:15.052Z"
   },
   {
    "duration": 1418,
    "start_time": "2025-02-12T11:08:17.604Z"
   },
   {
    "duration": 163,
    "start_time": "2025-02-12T11:08:19.024Z"
   },
   {
    "duration": 24,
    "start_time": "2025-02-12T11:08:19.189Z"
   },
   {
    "duration": 142,
    "start_time": "2025-02-12T11:08:19.216Z"
   },
   {
    "duration": 15,
    "start_time": "2025-02-12T11:08:19.359Z"
   },
   {
    "duration": 144,
    "start_time": "2025-02-12T11:08:19.376Z"
   },
   {
    "duration": 14,
    "start_time": "2025-02-12T11:08:19.522Z"
   },
   {
    "duration": 89,
    "start_time": "2025-02-12T11:08:19.538Z"
   },
   {
    "duration": 35,
    "start_time": "2025-02-12T11:08:19.629Z"
   },
   {
    "duration": 78,
    "start_time": "2025-02-12T11:08:19.666Z"
   },
   {
    "duration": 12,
    "start_time": "2025-02-12T11:08:19.746Z"
   },
   {
    "duration": 13,
    "start_time": "2025-02-12T11:08:19.759Z"
   },
   {
    "duration": 13,
    "start_time": "2025-02-12T11:08:19.774Z"
   },
   {
    "duration": 27,
    "start_time": "2025-02-12T11:08:19.788Z"
   },
   {
    "duration": 6,
    "start_time": "2025-02-12T11:08:19.816Z"
   },
   {
    "duration": 5,
    "start_time": "2025-02-12T11:08:19.824Z"
   },
   {
    "duration": 33,
    "start_time": "2025-02-12T11:08:19.830Z"
   },
   {
    "duration": 61,
    "start_time": "2025-02-12T11:08:19.865Z"
   },
   {
    "duration": 28,
    "start_time": "2025-02-12T11:08:19.927Z"
   },
   {
    "duration": 948,
    "start_time": "2025-02-12T11:08:19.957Z"
   },
   {
    "duration": 7,
    "start_time": "2025-02-12T11:08:20.906Z"
   },
   {
    "duration": 689,
    "start_time": "2025-02-12T11:08:20.915Z"
   },
   {
    "duration": 923,
    "start_time": "2025-02-12T11:08:21.606Z"
   },
   {
    "duration": 662,
    "start_time": "2025-02-12T11:08:22.531Z"
   },
   {
    "duration": 921,
    "start_time": "2025-02-12T11:08:23.195Z"
   },
   {
    "duration": 584,
    "start_time": "2025-02-12T11:08:24.118Z"
   },
   {
    "duration": 10,
    "start_time": "2025-02-12T11:08:24.704Z"
   },
   {
    "duration": 29,
    "start_time": "2025-02-12T11:08:24.715Z"
   },
   {
    "duration": 27,
    "start_time": "2025-02-12T11:08:24.746Z"
   },
   {
    "duration": 8,
    "start_time": "2025-02-12T11:08:24.775Z"
   },
   {
    "duration": 101,
    "start_time": "2025-02-12T11:08:24.784Z"
   },
   {
    "duration": 110,
    "start_time": "2025-02-12T11:08:24.887Z"
   },
   {
    "duration": 114,
    "start_time": "2025-02-12T11:08:24.999Z"
   },
   {
    "duration": 200,
    "start_time": "2025-02-12T11:08:25.117Z"
   },
   {
    "duration": 192,
    "start_time": "2025-02-12T11:08:25.323Z"
   },
   {
    "duration": 5,
    "start_time": "2025-02-12T11:08:25.517Z"
   },
   {
    "duration": 5,
    "start_time": "2025-02-12T11:08:25.614Z"
   },
   {
    "duration": 3,
    "start_time": "2025-02-12T11:08:25.621Z"
   },
   {
    "duration": 4,
    "start_time": "2025-02-12T11:08:25.626Z"
   },
   {
    "duration": 5,
    "start_time": "2025-02-12T11:08:25.633Z"
   },
   {
    "duration": 8,
    "start_time": "2025-02-12T11:08:25.639Z"
   },
   {
    "duration": 4,
    "start_time": "2025-02-12T11:08:25.649Z"
   },
   {
    "duration": 4,
    "start_time": "2025-02-12T11:08:25.654Z"
   },
   {
    "duration": 3,
    "start_time": "2025-02-12T11:08:25.660Z"
   },
   {
    "duration": 3,
    "start_time": "2025-02-12T11:08:25.664Z"
   },
   {
    "duration": 49,
    "start_time": "2025-02-12T11:08:25.669Z"
   },
   {
    "duration": 2084,
    "start_time": "2025-02-12T11:08:25.719Z"
   },
   {
    "duration": 1968,
    "start_time": "2025-02-12T11:08:27.805Z"
   },
   {
    "duration": 2010,
    "start_time": "2025-02-12T11:08:29.774Z"
   }
  ],
  "kernelspec": {
   "display_name": "base",
   "language": "python",
   "name": "python3"
  },
  "language_info": {
   "codemirror_mode": {
    "name": "ipython",
    "version": 3
   },
   "file_extension": ".py",
   "mimetype": "text/x-python",
   "name": "python",
   "nbconvert_exporter": "python",
   "pygments_lexer": "ipython3",
   "version": "3.12.4"
  },
  "toc": {
   "base_numbering": 1,
   "nav_menu": {},
   "number_sections": true,
   "sideBar": true,
   "skip_h1_title": true,
   "title_cell": "Table of Contents",
   "title_sidebar": "Contents",
   "toc_cell": false,
   "toc_position": {},
   "toc_section_display": true,
   "toc_window_display": false
  }
 },
 "nbformat": 4,
 "nbformat_minor": 2
}
